{
 "cells": [
  {
   "cell_type": "markdown",
   "id": "74a666bf-098b-4eb1-9845-43118e9105b9",
   "metadata": {},
   "source": [
    "# DataCamp - Supervised Learning with scikit-learn NEW"
   ]
  },
  {
   "cell_type": "code",
   "execution_count": 1,
   "id": "a3427779-ba18-412e-86df-d1e0065ff722",
   "metadata": {},
   "outputs": [],
   "source": [
    "# load data folder\n",
    "data_folder = \"/Users/miguelbaptista/Library/CloudStorage/OneDrive-Personal/Data_Science/Python/MOOC/DataCamp/ficheiros_2/\""
   ]
  },
  {
   "cell_type": "code",
   "execution_count": 2,
   "id": "8609c2c0-7cd7-4df2-91e9-014c52eea5f4",
   "metadata": {},
   "outputs": [],
   "source": [
    "%matplotlib inline\n",
    "import pandas as pd\n",
    "import numpy as np\n",
    "import matplotlib.pyplot as plt\n",
    "import seaborn as sns\n",
    "sns.set()"
   ]
  },
  {
   "cell_type": "code",
   "execution_count": 3,
   "id": "5cfa955e-41bd-4166-b543-c4110b766553",
   "metadata": {},
   "outputs": [],
   "source": [
    "from sklearn.neighbors import KNeighborsClassifier\n",
    "from sklearn.model_selection import train_test_split, cross_val_score, GridSearchCV, RandomizedSearchCV\n",
    "from sklearn.linear_model import LinearRegression, Ridge, Lasso, LogisticRegression, ElasticNet\n",
    "from sklearn.metrics import mean_squared_error, classification_report, confusion_matrix, roc_curve\n",
    "\n",
    "from scipy.stats import randint\n",
    "from sklearn.tree import DecisionTreeClassifier\n",
    "from sklearn.svm import SVC\n",
    "\n",
    "from sklearn.impute import SimpleImputer\n",
    "from sklearn.preprocessing import StandardScaler\n",
    "\n",
    "from tqdm import tqdm"
   ]
  },
  {
   "cell_type": "markdown",
   "id": "74389c85-e539-40e6-9e2a-99e94b2b5d3c",
   "metadata": {},
   "source": [
    "# 0) Load files"
   ]
  },
  {
   "cell_type": "code",
   "execution_count": 4,
   "id": "cf5615ea-8595-40d3-8342-13a05c611b8c",
   "metadata": {},
   "outputs": [],
   "source": [
    "# load course files\n",
    "music_clean = pd.read_csv(data_folder + \"music_clean.csv\", index_col=0)\n",
    "telecom_churn_clean = pd.read_csv(data_folder + \"telecom_churn_clean.csv\", index_col=0)\n",
    "diabetes_clean = pd.read_csv(data_folder + \"diabetes_clean.csv\", index_col=0)\n",
    "advertising_and_sales_clean = pd.read_csv(data_folder + \"advertising_and_sales_clean.csv\", index_col=0)"
   ]
  },
  {
   "cell_type": "code",
   "execution_count": null,
   "id": "3805ff23-e151-44c3-90f6-9602e80cf8c4",
   "metadata": {},
   "outputs": [],
   "source": []
  },
  {
   "cell_type": "markdown",
   "id": "4f897fa4-072e-4cb2-b1a1-a619ffe6372e",
   "metadata": {},
   "source": [
    "# 1) Machine Learning with scikit-learn"
   ]
  },
  {
   "cell_type": "code",
   "execution_count": 5,
   "id": "62ac8a9f-52d3-48b7-b38f-c5b4ed117ee8",
   "metadata": {},
   "outputs": [],
   "source": [
    "# vídeo\n",
    "\n",
    "# supervised learning\n",
    "#  classification vs Regression (continuous)\n",
    "#  Requirements:\n",
    "#   - No missing values\n",
    "#   - Data in numeric format\n",
    "#   - Data stored in pandas DataFrame or numpy array\n",
    "# which requires EDA first\n",
    "# scikit-learn (makes it easy) sintax:\n",
    "# 1) import model\n",
    "# 2) create a variable (model) ans instantiate the model\n",
    "# 3) fit to the data (X, Y)\n",
    "# 4) predictions\n",
    "\n",
    "\n",
    "# unsupervised learning\n"
   ]
  },
  {
   "cell_type": "markdown",
   "id": "3563dbfc-b91a-46cb-bad7-1d615a7ae9e6",
   "metadata": {},
   "source": [
    "Binary classification\n",
    "\n",
    "There are two types of supervised learning—classification and regression. Binary classification is used to predict a target variable that has only two labels, typically represented numerically with a zero or a one."
   ]
  },
  {
   "cell_type": "code",
   "execution_count": 6,
   "id": "4dda0d18-e50a-4e1a-b0cb-517a88e06d8a",
   "metadata": {},
   "outputs": [
    {
     "data": {
      "text/html": [
       "<div>\n",
       "<style scoped>\n",
       "    .dataframe tbody tr th:only-of-type {\n",
       "        vertical-align: middle;\n",
       "    }\n",
       "\n",
       "    .dataframe tbody tr th {\n",
       "        vertical-align: top;\n",
       "    }\n",
       "\n",
       "    .dataframe thead th {\n",
       "        text-align: right;\n",
       "    }\n",
       "</style>\n",
       "<table border=\"1\" class=\"dataframe\">\n",
       "  <thead>\n",
       "    <tr style=\"text-align: right;\">\n",
       "      <th></th>\n",
       "      <th>account_length</th>\n",
       "      <th>area_code</th>\n",
       "      <th>international_plan</th>\n",
       "      <th>voice_mail_plan</th>\n",
       "      <th>number_vmail_messages</th>\n",
       "      <th>total_day_minutes</th>\n",
       "      <th>total_day_calls</th>\n",
       "      <th>total_day_charge</th>\n",
       "      <th>total_eve_minutes</th>\n",
       "      <th>total_eve_calls</th>\n",
       "      <th>total_eve_charge</th>\n",
       "      <th>total_night_minutes</th>\n",
       "      <th>total_night_calls</th>\n",
       "      <th>total_night_charge</th>\n",
       "      <th>total_intl_minutes</th>\n",
       "      <th>total_intl_calls</th>\n",
       "      <th>total_intl_charge</th>\n",
       "      <th>customer_service_calls</th>\n",
       "      <th>churn</th>\n",
       "    </tr>\n",
       "  </thead>\n",
       "  <tbody>\n",
       "    <tr>\n",
       "      <th>0</th>\n",
       "      <td>128</td>\n",
       "      <td>415</td>\n",
       "      <td>0</td>\n",
       "      <td>1</td>\n",
       "      <td>25</td>\n",
       "      <td>265.1</td>\n",
       "      <td>110</td>\n",
       "      <td>45.07</td>\n",
       "      <td>197.4</td>\n",
       "      <td>99</td>\n",
       "      <td>16.78</td>\n",
       "      <td>244.7</td>\n",
       "      <td>91</td>\n",
       "      <td>11.01</td>\n",
       "      <td>10.0</td>\n",
       "      <td>3</td>\n",
       "      <td>2.70</td>\n",
       "      <td>1</td>\n",
       "      <td>0</td>\n",
       "    </tr>\n",
       "    <tr>\n",
       "      <th>1</th>\n",
       "      <td>107</td>\n",
       "      <td>415</td>\n",
       "      <td>0</td>\n",
       "      <td>1</td>\n",
       "      <td>26</td>\n",
       "      <td>161.6</td>\n",
       "      <td>123</td>\n",
       "      <td>27.47</td>\n",
       "      <td>195.5</td>\n",
       "      <td>103</td>\n",
       "      <td>16.62</td>\n",
       "      <td>254.4</td>\n",
       "      <td>103</td>\n",
       "      <td>11.45</td>\n",
       "      <td>13.7</td>\n",
       "      <td>3</td>\n",
       "      <td>3.70</td>\n",
       "      <td>1</td>\n",
       "      <td>0</td>\n",
       "    </tr>\n",
       "    <tr>\n",
       "      <th>2</th>\n",
       "      <td>137</td>\n",
       "      <td>415</td>\n",
       "      <td>0</td>\n",
       "      <td>0</td>\n",
       "      <td>0</td>\n",
       "      <td>243.4</td>\n",
       "      <td>114</td>\n",
       "      <td>41.38</td>\n",
       "      <td>121.2</td>\n",
       "      <td>110</td>\n",
       "      <td>10.30</td>\n",
       "      <td>162.6</td>\n",
       "      <td>104</td>\n",
       "      <td>7.32</td>\n",
       "      <td>12.2</td>\n",
       "      <td>5</td>\n",
       "      <td>3.29</td>\n",
       "      <td>0</td>\n",
       "      <td>0</td>\n",
       "    </tr>\n",
       "  </tbody>\n",
       "</table>\n",
       "</div>"
      ],
      "text/plain": [
       "   account_length  area_code  international_plan  voice_mail_plan  \\\n",
       "0             128        415                   0                1   \n",
       "1             107        415                   0                1   \n",
       "2             137        415                   0                0   \n",
       "\n",
       "   number_vmail_messages  total_day_minutes  total_day_calls  \\\n",
       "0                     25              265.1              110   \n",
       "1                     26              161.6              123   \n",
       "2                      0              243.4              114   \n",
       "\n",
       "   total_day_charge  total_eve_minutes  total_eve_calls  total_eve_charge  \\\n",
       "0             45.07              197.4               99             16.78   \n",
       "1             27.47              195.5              103             16.62   \n",
       "2             41.38              121.2              110             10.30   \n",
       "\n",
       "   total_night_minutes  total_night_calls  total_night_charge  \\\n",
       "0                244.7                 91               11.01   \n",
       "1                254.4                103               11.45   \n",
       "2                162.6                104                7.32   \n",
       "\n",
       "   total_intl_minutes  total_intl_calls  total_intl_charge  \\\n",
       "0                10.0                 3               2.70   \n",
       "1                13.7                 3               3.70   \n",
       "2                12.2                 5               3.29   \n",
       "\n",
       "   customer_service_calls  churn  \n",
       "0                       1      0  \n",
       "1                       1      0  \n",
       "2                       0      0  "
      ]
     },
     "execution_count": 6,
     "metadata": {},
     "output_type": "execute_result"
    }
   ],
   "source": [
    "telecom_churn_clean.head(3)"
   ]
  },
  {
   "cell_type": "code",
   "execution_count": 7,
   "id": "2e906ae7-6964-4dc5-afda-8a03634e06f4",
   "metadata": {},
   "outputs": [],
   "source": [
    "# Looking at this data, which column could be the target variable for binary classification?\n",
    "# \"churn\""
   ]
  },
  {
   "cell_type": "code",
   "execution_count": null,
   "id": "5e890f30-50ab-4e47-b682-16222c75405d",
   "metadata": {},
   "outputs": [],
   "source": []
  },
  {
   "cell_type": "markdown",
   "id": "cf2681bb-53be-44e3-9816-24e0f6bcb931",
   "metadata": {},
   "source": [
    "## The classification challenge"
   ]
  },
  {
   "cell_type": "code",
   "execution_count": 8,
   "id": "488382f3-9a4b-4646-bdb3-4d3eed33faf9",
   "metadata": {},
   "outputs": [
    {
     "name": "stdout",
     "output_type": "stream",
     "text": [
      "(3333, 2) (3333,)\n",
      "(3, 2)\n",
      "Predictions:  [1 0 0]\n"
     ]
    }
   ],
   "source": [
    "# vídeo\n",
    "\n",
    "from sklearn.neighbors import KNeighborsClassifier\n",
    "\n",
    "churn_df = telecom_churn_clean.copy()\n",
    "\n",
    "X = churn_df[[\"total_day_charge\", \"total_eve_charge\"]].values\n",
    "y = churn_df[\"churn\"].values\n",
    "\n",
    "print(X.shape, y.shape)\n",
    "\n",
    "knn = KNeighborsClassifier(n_neighbors=15)\n",
    "knn.fit(X, y)\n",
    "\n",
    "# new observations\n",
    "X_new = np.array([[56.8, 17.5], [24.4, 24.1], [50.1, 10.9]])\n",
    "print(X_new.shape)\n",
    "\n",
    "predictions = knn.predict(X_new)\n",
    "print(\"Predictions: \", predictions)\n"
   ]
  },
  {
   "cell_type": "code",
   "execution_count": 9,
   "id": "9ee4bee0-6e96-4c9a-9f74-3e5180433485",
   "metadata": {},
   "outputs": [],
   "source": [
    "#########"
   ]
  },
  {
   "cell_type": "code",
   "execution_count": null,
   "id": "eaa5835a-39a8-4822-8fe0-9b9006005e93",
   "metadata": {},
   "outputs": [],
   "source": []
  },
  {
   "cell_type": "code",
   "execution_count": 10,
   "id": "beab9999-a764-4604-9cea-8a1c48ef9a08",
   "metadata": {},
   "outputs": [
    {
     "data": {
      "text/html": [
       "<style>#sk-container-id-1 {\n",
       "  /* Definition of color scheme common for light and dark mode */\n",
       "  --sklearn-color-text: black;\n",
       "  --sklearn-color-line: gray;\n",
       "  /* Definition of color scheme for unfitted estimators */\n",
       "  --sklearn-color-unfitted-level-0: #fff5e6;\n",
       "  --sklearn-color-unfitted-level-1: #f6e4d2;\n",
       "  --sklearn-color-unfitted-level-2: #ffe0b3;\n",
       "  --sklearn-color-unfitted-level-3: chocolate;\n",
       "  /* Definition of color scheme for fitted estimators */\n",
       "  --sklearn-color-fitted-level-0: #f0f8ff;\n",
       "  --sklearn-color-fitted-level-1: #d4ebff;\n",
       "  --sklearn-color-fitted-level-2: #b3dbfd;\n",
       "  --sklearn-color-fitted-level-3: cornflowerblue;\n",
       "\n",
       "  /* Specific color for light theme */\n",
       "  --sklearn-color-text-on-default-background: var(--sg-text-color, var(--theme-code-foreground, var(--jp-content-font-color1, black)));\n",
       "  --sklearn-color-background: var(--sg-background-color, var(--theme-background, var(--jp-layout-color0, white)));\n",
       "  --sklearn-color-border-box: var(--sg-text-color, var(--theme-code-foreground, var(--jp-content-font-color1, black)));\n",
       "  --sklearn-color-icon: #696969;\n",
       "\n",
       "  @media (prefers-color-scheme: dark) {\n",
       "    /* Redefinition of color scheme for dark theme */\n",
       "    --sklearn-color-text-on-default-background: var(--sg-text-color, var(--theme-code-foreground, var(--jp-content-font-color1, white)));\n",
       "    --sklearn-color-background: var(--sg-background-color, var(--theme-background, var(--jp-layout-color0, #111)));\n",
       "    --sklearn-color-border-box: var(--sg-text-color, var(--theme-code-foreground, var(--jp-content-font-color1, white)));\n",
       "    --sklearn-color-icon: #878787;\n",
       "  }\n",
       "}\n",
       "\n",
       "#sk-container-id-1 {\n",
       "  color: var(--sklearn-color-text);\n",
       "}\n",
       "\n",
       "#sk-container-id-1 pre {\n",
       "  padding: 0;\n",
       "}\n",
       "\n",
       "#sk-container-id-1 input.sk-hidden--visually {\n",
       "  border: 0;\n",
       "  clip: rect(1px 1px 1px 1px);\n",
       "  clip: rect(1px, 1px, 1px, 1px);\n",
       "  height: 1px;\n",
       "  margin: -1px;\n",
       "  overflow: hidden;\n",
       "  padding: 0;\n",
       "  position: absolute;\n",
       "  width: 1px;\n",
       "}\n",
       "\n",
       "#sk-container-id-1 div.sk-dashed-wrapped {\n",
       "  border: 1px dashed var(--sklearn-color-line);\n",
       "  margin: 0 0.4em 0.5em 0.4em;\n",
       "  box-sizing: border-box;\n",
       "  padding-bottom: 0.4em;\n",
       "  background-color: var(--sklearn-color-background);\n",
       "}\n",
       "\n",
       "#sk-container-id-1 div.sk-container {\n",
       "  /* jupyter's `normalize.less` sets `[hidden] { display: none; }`\n",
       "     but bootstrap.min.css set `[hidden] { display: none !important; }`\n",
       "     so we also need the `!important` here to be able to override the\n",
       "     default hidden behavior on the sphinx rendered scikit-learn.org.\n",
       "     See: https://github.com/scikit-learn/scikit-learn/issues/21755 */\n",
       "  display: inline-block !important;\n",
       "  position: relative;\n",
       "}\n",
       "\n",
       "#sk-container-id-1 div.sk-text-repr-fallback {\n",
       "  display: none;\n",
       "}\n",
       "\n",
       "div.sk-parallel-item,\n",
       "div.sk-serial,\n",
       "div.sk-item {\n",
       "  /* draw centered vertical line to link estimators */\n",
       "  background-image: linear-gradient(var(--sklearn-color-text-on-default-background), var(--sklearn-color-text-on-default-background));\n",
       "  background-size: 2px 100%;\n",
       "  background-repeat: no-repeat;\n",
       "  background-position: center center;\n",
       "}\n",
       "\n",
       "/* Parallel-specific style estimator block */\n",
       "\n",
       "#sk-container-id-1 div.sk-parallel-item::after {\n",
       "  content: \"\";\n",
       "  width: 100%;\n",
       "  border-bottom: 2px solid var(--sklearn-color-text-on-default-background);\n",
       "  flex-grow: 1;\n",
       "}\n",
       "\n",
       "#sk-container-id-1 div.sk-parallel {\n",
       "  display: flex;\n",
       "  align-items: stretch;\n",
       "  justify-content: center;\n",
       "  background-color: var(--sklearn-color-background);\n",
       "  position: relative;\n",
       "}\n",
       "\n",
       "#sk-container-id-1 div.sk-parallel-item {\n",
       "  display: flex;\n",
       "  flex-direction: column;\n",
       "}\n",
       "\n",
       "#sk-container-id-1 div.sk-parallel-item:first-child::after {\n",
       "  align-self: flex-end;\n",
       "  width: 50%;\n",
       "}\n",
       "\n",
       "#sk-container-id-1 div.sk-parallel-item:last-child::after {\n",
       "  align-self: flex-start;\n",
       "  width: 50%;\n",
       "}\n",
       "\n",
       "#sk-container-id-1 div.sk-parallel-item:only-child::after {\n",
       "  width: 0;\n",
       "}\n",
       "\n",
       "/* Serial-specific style estimator block */\n",
       "\n",
       "#sk-container-id-1 div.sk-serial {\n",
       "  display: flex;\n",
       "  flex-direction: column;\n",
       "  align-items: center;\n",
       "  background-color: var(--sklearn-color-background);\n",
       "  padding-right: 1em;\n",
       "  padding-left: 1em;\n",
       "}\n",
       "\n",
       "\n",
       "/* Toggleable style: style used for estimator/Pipeline/ColumnTransformer box that is\n",
       "clickable and can be expanded/collapsed.\n",
       "- Pipeline and ColumnTransformer use this feature and define the default style\n",
       "- Estimators will overwrite some part of the style using the `sk-estimator` class\n",
       "*/\n",
       "\n",
       "/* Pipeline and ColumnTransformer style (default) */\n",
       "\n",
       "#sk-container-id-1 div.sk-toggleable {\n",
       "  /* Default theme specific background. It is overwritten whether we have a\n",
       "  specific estimator or a Pipeline/ColumnTransformer */\n",
       "  background-color: var(--sklearn-color-background);\n",
       "}\n",
       "\n",
       "/* Toggleable label */\n",
       "#sk-container-id-1 label.sk-toggleable__label {\n",
       "  cursor: pointer;\n",
       "  display: block;\n",
       "  width: 100%;\n",
       "  margin-bottom: 0;\n",
       "  padding: 0.5em;\n",
       "  box-sizing: border-box;\n",
       "  text-align: center;\n",
       "}\n",
       "\n",
       "#sk-container-id-1 label.sk-toggleable__label-arrow:before {\n",
       "  /* Arrow on the left of the label */\n",
       "  content: \"▸\";\n",
       "  float: left;\n",
       "  margin-right: 0.25em;\n",
       "  color: var(--sklearn-color-icon);\n",
       "}\n",
       "\n",
       "#sk-container-id-1 label.sk-toggleable__label-arrow:hover:before {\n",
       "  color: var(--sklearn-color-text);\n",
       "}\n",
       "\n",
       "/* Toggleable content - dropdown */\n",
       "\n",
       "#sk-container-id-1 div.sk-toggleable__content {\n",
       "  max-height: 0;\n",
       "  max-width: 0;\n",
       "  overflow: hidden;\n",
       "  text-align: left;\n",
       "  /* unfitted */\n",
       "  background-color: var(--sklearn-color-unfitted-level-0);\n",
       "}\n",
       "\n",
       "#sk-container-id-1 div.sk-toggleable__content.fitted {\n",
       "  /* fitted */\n",
       "  background-color: var(--sklearn-color-fitted-level-0);\n",
       "}\n",
       "\n",
       "#sk-container-id-1 div.sk-toggleable__content pre {\n",
       "  margin: 0.2em;\n",
       "  border-radius: 0.25em;\n",
       "  color: var(--sklearn-color-text);\n",
       "  /* unfitted */\n",
       "  background-color: var(--sklearn-color-unfitted-level-0);\n",
       "}\n",
       "\n",
       "#sk-container-id-1 div.sk-toggleable__content.fitted pre {\n",
       "  /* unfitted */\n",
       "  background-color: var(--sklearn-color-fitted-level-0);\n",
       "}\n",
       "\n",
       "#sk-container-id-1 input.sk-toggleable__control:checked~div.sk-toggleable__content {\n",
       "  /* Expand drop-down */\n",
       "  max-height: 200px;\n",
       "  max-width: 100%;\n",
       "  overflow: auto;\n",
       "}\n",
       "\n",
       "#sk-container-id-1 input.sk-toggleable__control:checked~label.sk-toggleable__label-arrow:before {\n",
       "  content: \"▾\";\n",
       "}\n",
       "\n",
       "/* Pipeline/ColumnTransformer-specific style */\n",
       "\n",
       "#sk-container-id-1 div.sk-label input.sk-toggleable__control:checked~label.sk-toggleable__label {\n",
       "  color: var(--sklearn-color-text);\n",
       "  background-color: var(--sklearn-color-unfitted-level-2);\n",
       "}\n",
       "\n",
       "#sk-container-id-1 div.sk-label.fitted input.sk-toggleable__control:checked~label.sk-toggleable__label {\n",
       "  background-color: var(--sklearn-color-fitted-level-2);\n",
       "}\n",
       "\n",
       "/* Estimator-specific style */\n",
       "\n",
       "/* Colorize estimator box */\n",
       "#sk-container-id-1 div.sk-estimator input.sk-toggleable__control:checked~label.sk-toggleable__label {\n",
       "  /* unfitted */\n",
       "  background-color: var(--sklearn-color-unfitted-level-2);\n",
       "}\n",
       "\n",
       "#sk-container-id-1 div.sk-estimator.fitted input.sk-toggleable__control:checked~label.sk-toggleable__label {\n",
       "  /* fitted */\n",
       "  background-color: var(--sklearn-color-fitted-level-2);\n",
       "}\n",
       "\n",
       "#sk-container-id-1 div.sk-label label.sk-toggleable__label,\n",
       "#sk-container-id-1 div.sk-label label {\n",
       "  /* The background is the default theme color */\n",
       "  color: var(--sklearn-color-text-on-default-background);\n",
       "}\n",
       "\n",
       "/* On hover, darken the color of the background */\n",
       "#sk-container-id-1 div.sk-label:hover label.sk-toggleable__label {\n",
       "  color: var(--sklearn-color-text);\n",
       "  background-color: var(--sklearn-color-unfitted-level-2);\n",
       "}\n",
       "\n",
       "/* Label box, darken color on hover, fitted */\n",
       "#sk-container-id-1 div.sk-label.fitted:hover label.sk-toggleable__label.fitted {\n",
       "  color: var(--sklearn-color-text);\n",
       "  background-color: var(--sklearn-color-fitted-level-2);\n",
       "}\n",
       "\n",
       "/* Estimator label */\n",
       "\n",
       "#sk-container-id-1 div.sk-label label {\n",
       "  font-family: monospace;\n",
       "  font-weight: bold;\n",
       "  display: inline-block;\n",
       "  line-height: 1.2em;\n",
       "}\n",
       "\n",
       "#sk-container-id-1 div.sk-label-container {\n",
       "  text-align: center;\n",
       "}\n",
       "\n",
       "/* Estimator-specific */\n",
       "#sk-container-id-1 div.sk-estimator {\n",
       "  font-family: monospace;\n",
       "  border: 1px dotted var(--sklearn-color-border-box);\n",
       "  border-radius: 0.25em;\n",
       "  box-sizing: border-box;\n",
       "  margin-bottom: 0.5em;\n",
       "  /* unfitted */\n",
       "  background-color: var(--sklearn-color-unfitted-level-0);\n",
       "}\n",
       "\n",
       "#sk-container-id-1 div.sk-estimator.fitted {\n",
       "  /* fitted */\n",
       "  background-color: var(--sklearn-color-fitted-level-0);\n",
       "}\n",
       "\n",
       "/* on hover */\n",
       "#sk-container-id-1 div.sk-estimator:hover {\n",
       "  /* unfitted */\n",
       "  background-color: var(--sklearn-color-unfitted-level-2);\n",
       "}\n",
       "\n",
       "#sk-container-id-1 div.sk-estimator.fitted:hover {\n",
       "  /* fitted */\n",
       "  background-color: var(--sklearn-color-fitted-level-2);\n",
       "}\n",
       "\n",
       "/* Specification for estimator info (e.g. \"i\" and \"?\") */\n",
       "\n",
       "/* Common style for \"i\" and \"?\" */\n",
       "\n",
       ".sk-estimator-doc-link,\n",
       "a:link.sk-estimator-doc-link,\n",
       "a:visited.sk-estimator-doc-link {\n",
       "  float: right;\n",
       "  font-size: smaller;\n",
       "  line-height: 1em;\n",
       "  font-family: monospace;\n",
       "  background-color: var(--sklearn-color-background);\n",
       "  border-radius: 1em;\n",
       "  height: 1em;\n",
       "  width: 1em;\n",
       "  text-decoration: none !important;\n",
       "  margin-left: 1ex;\n",
       "  /* unfitted */\n",
       "  border: var(--sklearn-color-unfitted-level-1) 1pt solid;\n",
       "  color: var(--sklearn-color-unfitted-level-1);\n",
       "}\n",
       "\n",
       ".sk-estimator-doc-link.fitted,\n",
       "a:link.sk-estimator-doc-link.fitted,\n",
       "a:visited.sk-estimator-doc-link.fitted {\n",
       "  /* fitted */\n",
       "  border: var(--sklearn-color-fitted-level-1) 1pt solid;\n",
       "  color: var(--sklearn-color-fitted-level-1);\n",
       "}\n",
       "\n",
       "/* On hover */\n",
       "div.sk-estimator:hover .sk-estimator-doc-link:hover,\n",
       ".sk-estimator-doc-link:hover,\n",
       "div.sk-label-container:hover .sk-estimator-doc-link:hover,\n",
       ".sk-estimator-doc-link:hover {\n",
       "  /* unfitted */\n",
       "  background-color: var(--sklearn-color-unfitted-level-3);\n",
       "  color: var(--sklearn-color-background);\n",
       "  text-decoration: none;\n",
       "}\n",
       "\n",
       "div.sk-estimator.fitted:hover .sk-estimator-doc-link.fitted:hover,\n",
       ".sk-estimator-doc-link.fitted:hover,\n",
       "div.sk-label-container:hover .sk-estimator-doc-link.fitted:hover,\n",
       ".sk-estimator-doc-link.fitted:hover {\n",
       "  /* fitted */\n",
       "  background-color: var(--sklearn-color-fitted-level-3);\n",
       "  color: var(--sklearn-color-background);\n",
       "  text-decoration: none;\n",
       "}\n",
       "\n",
       "/* Span, style for the box shown on hovering the info icon */\n",
       ".sk-estimator-doc-link span {\n",
       "  display: none;\n",
       "  z-index: 9999;\n",
       "  position: relative;\n",
       "  font-weight: normal;\n",
       "  right: .2ex;\n",
       "  padding: .5ex;\n",
       "  margin: .5ex;\n",
       "  width: min-content;\n",
       "  min-width: 20ex;\n",
       "  max-width: 50ex;\n",
       "  color: var(--sklearn-color-text);\n",
       "  box-shadow: 2pt 2pt 4pt #999;\n",
       "  /* unfitted */\n",
       "  background: var(--sklearn-color-unfitted-level-0);\n",
       "  border: .5pt solid var(--sklearn-color-unfitted-level-3);\n",
       "}\n",
       "\n",
       ".sk-estimator-doc-link.fitted span {\n",
       "  /* fitted */\n",
       "  background: var(--sklearn-color-fitted-level-0);\n",
       "  border: var(--sklearn-color-fitted-level-3);\n",
       "}\n",
       "\n",
       ".sk-estimator-doc-link:hover span {\n",
       "  display: block;\n",
       "}\n",
       "\n",
       "/* \"?\"-specific style due to the `<a>` HTML tag */\n",
       "\n",
       "#sk-container-id-1 a.estimator_doc_link {\n",
       "  float: right;\n",
       "  font-size: 1rem;\n",
       "  line-height: 1em;\n",
       "  font-family: monospace;\n",
       "  background-color: var(--sklearn-color-background);\n",
       "  border-radius: 1rem;\n",
       "  height: 1rem;\n",
       "  width: 1rem;\n",
       "  text-decoration: none;\n",
       "  /* unfitted */\n",
       "  color: var(--sklearn-color-unfitted-level-1);\n",
       "  border: var(--sklearn-color-unfitted-level-1) 1pt solid;\n",
       "}\n",
       "\n",
       "#sk-container-id-1 a.estimator_doc_link.fitted {\n",
       "  /* fitted */\n",
       "  border: var(--sklearn-color-fitted-level-1) 1pt solid;\n",
       "  color: var(--sklearn-color-fitted-level-1);\n",
       "}\n",
       "\n",
       "/* On hover */\n",
       "#sk-container-id-1 a.estimator_doc_link:hover {\n",
       "  /* unfitted */\n",
       "  background-color: var(--sklearn-color-unfitted-level-3);\n",
       "  color: var(--sklearn-color-background);\n",
       "  text-decoration: none;\n",
       "}\n",
       "\n",
       "#sk-container-id-1 a.estimator_doc_link.fitted:hover {\n",
       "  /* fitted */\n",
       "  background-color: var(--sklearn-color-fitted-level-3);\n",
       "}\n",
       "</style><div id=\"sk-container-id-1\" class=\"sk-top-container\"><div class=\"sk-text-repr-fallback\"><pre>KNeighborsClassifier(n_neighbors=6)</pre><b>In a Jupyter environment, please rerun this cell to show the HTML representation or trust the notebook. <br />On GitHub, the HTML representation is unable to render, please try loading this page with nbviewer.org.</b></div><div class=\"sk-container\" hidden><div class=\"sk-item\"><div class=\"sk-estimator fitted sk-toggleable\"><input class=\"sk-toggleable__control sk-hidden--visually\" id=\"sk-estimator-id-1\" type=\"checkbox\" checked><label for=\"sk-estimator-id-1\" class=\"sk-toggleable__label fitted sk-toggleable__label-arrow fitted\">&nbsp;&nbsp;KNeighborsClassifier<a class=\"sk-estimator-doc-link fitted\" rel=\"noreferrer\" target=\"_blank\" href=\"https://scikit-learn.org/1.5/modules/generated/sklearn.neighbors.KNeighborsClassifier.html\">?<span>Documentation for KNeighborsClassifier</span></a><span class=\"sk-estimator-doc-link fitted\">i<span>Fitted</span></span></label><div class=\"sk-toggleable__content fitted\"><pre>KNeighborsClassifier(n_neighbors=6)</pre></div> </div></div></div></div>"
      ],
      "text/plain": [
       "KNeighborsClassifier(n_neighbors=6)"
      ]
     },
     "execution_count": 10,
     "metadata": {},
     "output_type": "execute_result"
    }
   ],
   "source": [
    "# Import KNeighborsClassifier\n",
    "from sklearn.neighbors import KNeighborsClassifier\n",
    "\n",
    "y = churn_df[\"churn\"].values\n",
    "X = churn_df[[\"account_length\", \"customer_service_calls\"]].values\n",
    "\n",
    "# Create a KNN classifier with 6 neighbors\n",
    "knn = KNeighborsClassifier(n_neighbors=6)\n",
    "\n",
    "# Fit the classifier to the data\n",
    "knn.fit(X, y)"
   ]
  },
  {
   "cell_type": "code",
   "execution_count": 11,
   "id": "8eb697d9-b772-4263-926f-2309655d3e6d",
   "metadata": {},
   "outputs": [
    {
     "name": "stdout",
     "output_type": "stream",
     "text": [
      "Predictions: [0 1 0]\n"
     ]
    }
   ],
   "source": [
    "# new observations\n",
    "X_new = np.array([[30.0, 17.5],\n",
    "                  [107.0, 24.1],\n",
    "                  [213.0, 10.9]])\n",
    "\n",
    "# Predict the labels for the X_new\n",
    "y_pred = knn.predict(X_new)\n",
    "\n",
    "# Print the predictions\n",
    "print(\"Predictions: {}\".format(y_pred)) \n"
   ]
  },
  {
   "cell_type": "code",
   "execution_count": null,
   "id": "592393a7-a349-42df-b573-17837319e54f",
   "metadata": {},
   "outputs": [],
   "source": []
  },
  {
   "cell_type": "code",
   "execution_count": null,
   "id": "82ab3795-6b4f-4746-bc80-30e90ea577bb",
   "metadata": {},
   "outputs": [],
   "source": []
  },
  {
   "cell_type": "markdown",
   "id": "33aef038-38c6-41bb-84eb-ff782736cdd1",
   "metadata": {},
   "source": [
    "## Measuring model performance"
   ]
  },
  {
   "cell_type": "code",
   "execution_count": 12,
   "id": "2e5983f4-bd84-4b64-ba89-25691db6d1ed",
   "metadata": {},
   "outputs": [
    {
     "name": "stdout",
     "output_type": "stream",
     "text": [
      "(2333, 2) (2333,) (1000, 2) (1000,)\n",
      "accuracy:  0.852\n"
     ]
    },
    {
     "name": "stderr",
     "output_type": "stream",
     "text": [
      "100%|███████████████████████████████████████████| 25/25 [00:01<00:00, 24.93it/s]\n"
     ]
    },
    {
     "data": {
      "image/png": "[encoded data removed]",
      "text/plain": [
       "<Figure size 640x480 with 1 Axes>"
      ]
     },
     "metadata": {},
     "output_type": "display_data"
    }
   ],
   "source": [
    "# vídeo\n",
    "\n",
    "# Evaluation\n",
    "# accuracy\n",
    "\n",
    "# it is common to split the data in order to have a \"training set\" and a \"test set\" \n",
    "# -> then fit/train on \"training\" set --> then calculate accuracy using test set\n",
    "\n",
    "from sklearn.model_selection import train_test_split\n",
    "\n",
    "# parameters\n",
    "# train_test_split(*arrays, test_size=None, train_size=None, random_state=None, shuffle=True, stratify=None)\n",
    "\n",
    "X_train, X_test, y_train, y_test = train_test_split(X, y, test_size=0.30, random_state=21, stratify=y)\n",
    "\n",
    "print(X_train.shape, y_train.shape, X_test.shape, y_test.shape)\n",
    "\n",
    "# instantiate the model\n",
    "knn = KNeighborsClassifier(n_neighbors=6)\n",
    "knn.fit(X_train, y_train)\n",
    "print(\"accuracy: \", knn.score(X_test, y_test))\n",
    "\n",
    "####\n",
    "\n",
    "# > k => less complex model => potential underfitting\n",
    "# < k => more complex model => potential overfitting\n",
    "\n",
    "train_accuracies = {}\n",
    "test_accuracies = {}\n",
    "neighbors = np.arange(1, 26)\n",
    "\n",
    "for i in tqdm(neighbors):\n",
    "    knn = KNeighborsClassifier(n_neighbors=i)\n",
    "    knn.fit(X_train, y_train)\n",
    "    train_accuracies[i] = knn.score(X_train, y_train)\n",
    "    test_accuracies[i] = knn.score(X_test, y_test)\n",
    "\n",
    "# plot\n",
    "plt.title(\"KNN: Varying Number of neighbors\")\n",
    "plt.plot(neighbors, train_accuracies.values(), label=\"Training Accuracy\")\n",
    "plt.plot(neighbors, test_accuracies.values(), label=\"Testing Accuracy\")\n",
    "plt.legend()\n",
    "plt.xlabel(\"Number of neighbors chosen for the model\")\n",
    "plt.ylabel(\"Accuracy\")\n",
    "plt.show()"
   ]
  },
  {
   "cell_type": "code",
   "execution_count": 13,
   "id": "e7c3aa9b-e63c-4d15-b0ff-b493a2a70574",
   "metadata": {},
   "outputs": [],
   "source": [
    "##########"
   ]
  },
  {
   "cell_type": "code",
   "execution_count": 14,
   "id": "da519b23-1834-4a56-a7b8-14d82928cba3",
   "metadata": {},
   "outputs": [
    {
     "name": "stdout",
     "output_type": "stream",
     "text": [
      "0.8740629685157422\n"
     ]
    }
   ],
   "source": [
    "# Import the module\n",
    "from sklearn.model_selection import train_test_split\n",
    "\n",
    "X = churn_df.drop(\"churn\", axis=1).values\n",
    "y = churn_df[\"churn\"].values\n",
    "\n",
    "# Split into training and test sets\n",
    "X_train, X_test, y_train, y_test = train_test_split(X, y, test_size=0.20, random_state=42, stratify=y)\n",
    "knn = KNeighborsClassifier(n_neighbors=5)\n",
    "\n",
    "# Fit the classifier to the training data\n",
    "knn.fit(X_train, y_train)\n",
    "\n",
    "# Print the accuracy\n",
    "print(knn.score(X_test, y_test))"
   ]
  },
  {
   "cell_type": "code",
   "execution_count": 15,
   "id": "dbf8e0ba-be22-4511-9f12-de78b9d0bba9",
   "metadata": {},
   "outputs": [
    {
     "name": "stdout",
     "output_type": "stream",
     "text": [
      "[ 1  2  3  4  5  6  7  8  9 10 11 12] \n",
      "\n",
      "Train accuracies:\n",
      " {1: 1.0, 2: 0.9036009002250562, 3: 0.9114778694673669, 4: 0.8945986496624156, 5: 0.8953488372093024, 6: 0.8893473368342085, 7: 0.8885971492873218, 8: 0.8863465866466617, 9: 0.8870967741935484, 10: 0.8840960240060015, 11: 0.8874718679669917, 12: 0.8837209302325582} \n",
      "\n",
      "Test accuracies:\n",
      " {1: 0.7946026986506747, 2: 0.8605697151424287, 3: 0.8500749625187406, 4: 0.8695652173913043, 5: 0.8740629685157422, 6: 0.8650674662668666, 7: 0.8710644677661169, 8: 0.863568215892054, 9: 0.8725637181409296, 10: 0.8665667166416792, 11: 0.8710644677661169, 12: 0.8710644677661169}\n"
     ]
    }
   ],
   "source": [
    "# Overfitting and underfitting\n",
    "\n",
    "# Create neighbors\n",
    "neighbors = np.arange(1, 13)\n",
    "train_accuracies = {}\n",
    "test_accuracies = {}\n",
    "\n",
    "for neighbor in neighbors:\n",
    "  \n",
    "\t# Set up a KNN Classifier\n",
    "\tknn = KNeighborsClassifier(n_neighbors=neighbor)\n",
    "  \n",
    "\t# Fit the model\n",
    "\tknn.fit(X_train, y_train)\n",
    "  \n",
    "\t# Compute accuracy\n",
    "\ttrain_accuracies[neighbor] = knn.score(X_train, y_train)\n",
    "\ttest_accuracies[neighbor] = knn.score(X_test, y_test)\n",
    "\n",
    "# print\n",
    "print(neighbors, '\\n\\nTrain accuracies:\\n', train_accuracies, '\\n\\nTest accuracies:\\n', test_accuracies)\n"
   ]
  },
  {
   "cell_type": "code",
   "execution_count": 16,
   "id": "73580e6b-cd4a-4385-bf8a-3cdf20c74611",
   "metadata": {},
   "outputs": [
    {
     "data": {
      "image/png": "[encoded data removed]",
      "text/plain": [
       "<Figure size 640x480 with 1 Axes>"
      ]
     },
     "metadata": {},
     "output_type": "display_data"
    }
   ],
   "source": [
    "# Plot the results\n",
    "\n",
    "# Add a title\n",
    "plt.title(\"KNN: Varying Number of Neighbors\")\n",
    "\n",
    "# Plot training accuracies\n",
    "plt.plot(neighbors, train_accuracies.values(), label=\"Training Accuracy\")\n",
    "\n",
    "# Plot test accuracies\n",
    "plt.plot(neighbors, test_accuracies.values(), label=\"Testing Accuracy\")\n",
    "\n",
    "plt.legend()\n",
    "plt.xlabel(\"Number of Neighbors\")\n",
    "plt.ylabel(\"Accuracy\")\n",
    "\n",
    "# Display the plot\n",
    "plt.show()"
   ]
  },
  {
   "cell_type": "markdown",
   "id": "e069161a-0cdc-4809-bf2f-2da60e50822e",
   "metadata": {},
   "source": [
    "See how training accuracy decreases and test accuracy increases as the number of neighbors gets larger. \n",
    "\n",
    "For the test set, accuracy peaks with 7 neighbors, suggesting it is the optimal value for our model. \n",
    "\n",
    "Now let's explore regression models!"
   ]
  },
  {
   "cell_type": "code",
   "execution_count": null,
   "id": "c64f0290-b77b-488d-b773-e6ffaee9e7b0",
   "metadata": {},
   "outputs": [],
   "source": []
  },
  {
   "cell_type": "code",
   "execution_count": null,
   "id": "2b3ef259-9362-4a8c-ac70-0b72bf5e8566",
   "metadata": {},
   "outputs": [],
   "source": []
  },
  {
   "cell_type": "markdown",
   "id": "cc4b03fd-7962-4926-a5a6-6820e0594637",
   "metadata": {},
   "source": [
    "# 2) Regression"
   ]
  },
  {
   "cell_type": "markdown",
   "id": "9b93e9e7-fdc2-4603-8962-ade9f731cfc8",
   "metadata": {},
   "source": [
    "## Introduction to Regression"
   ]
  },
  {
   "cell_type": "code",
   "execution_count": 17,
   "id": "c3e0453d-1f44-43b8-924b-e98953bbab9e",
   "metadata": {},
   "outputs": [
    {
     "data": {
      "text/html": [
       "<div>\n",
       "<style scoped>\n",
       "    .dataframe tbody tr th:only-of-type {\n",
       "        vertical-align: middle;\n",
       "    }\n",
       "\n",
       "    .dataframe tbody tr th {\n",
       "        vertical-align: top;\n",
       "    }\n",
       "\n",
       "    .dataframe thead th {\n",
       "        text-align: right;\n",
       "    }\n",
       "</style>\n",
       "<table border=\"1\" class=\"dataframe\">\n",
       "  <thead>\n",
       "    <tr style=\"text-align: right;\">\n",
       "      <th></th>\n",
       "      <th>pregnancies</th>\n",
       "      <th>glucose</th>\n",
       "      <th>diastolic</th>\n",
       "      <th>triceps</th>\n",
       "      <th>insulin</th>\n",
       "      <th>bmi</th>\n",
       "      <th>dpf</th>\n",
       "      <th>age</th>\n",
       "      <th>diabetes</th>\n",
       "    </tr>\n",
       "  </thead>\n",
       "  <tbody>\n",
       "    <tr>\n",
       "      <th>0</th>\n",
       "      <td>6</td>\n",
       "      <td>148</td>\n",
       "      <td>72</td>\n",
       "      <td>35</td>\n",
       "      <td>0</td>\n",
       "      <td>33.6</td>\n",
       "      <td>0.627</td>\n",
       "      <td>50</td>\n",
       "      <td>1</td>\n",
       "    </tr>\n",
       "    <tr>\n",
       "      <th>1</th>\n",
       "      <td>1</td>\n",
       "      <td>85</td>\n",
       "      <td>66</td>\n",
       "      <td>29</td>\n",
       "      <td>0</td>\n",
       "      <td>26.6</td>\n",
       "      <td>0.351</td>\n",
       "      <td>31</td>\n",
       "      <td>0</td>\n",
       "    </tr>\n",
       "    <tr>\n",
       "      <th>2</th>\n",
       "      <td>8</td>\n",
       "      <td>183</td>\n",
       "      <td>64</td>\n",
       "      <td>0</td>\n",
       "      <td>0</td>\n",
       "      <td>23.3</td>\n",
       "      <td>0.672</td>\n",
       "      <td>32</td>\n",
       "      <td>1</td>\n",
       "    </tr>\n",
       "    <tr>\n",
       "      <th>3</th>\n",
       "      <td>1</td>\n",
       "      <td>89</td>\n",
       "      <td>66</td>\n",
       "      <td>23</td>\n",
       "      <td>94</td>\n",
       "      <td>28.1</td>\n",
       "      <td>0.167</td>\n",
       "      <td>21</td>\n",
       "      <td>0</td>\n",
       "    </tr>\n",
       "    <tr>\n",
       "      <th>4</th>\n",
       "      <td>0</td>\n",
       "      <td>137</td>\n",
       "      <td>40</td>\n",
       "      <td>35</td>\n",
       "      <td>168</td>\n",
       "      <td>43.1</td>\n",
       "      <td>2.288</td>\n",
       "      <td>33</td>\n",
       "      <td>1</td>\n",
       "    </tr>\n",
       "  </tbody>\n",
       "</table>\n",
       "</div>"
      ],
      "text/plain": [
       "   pregnancies  glucose  diastolic  triceps  insulin   bmi    dpf  age  \\\n",
       "0            6      148         72       35        0  33.6  0.627   50   \n",
       "1            1       85         66       29        0  26.6  0.351   31   \n",
       "2            8      183         64        0        0  23.3  0.672   32   \n",
       "3            1       89         66       23       94  28.1  0.167   21   \n",
       "4            0      137         40       35      168  43.1  2.288   33   \n",
       "\n",
       "   diabetes  \n",
       "0         1  \n",
       "1         0  \n",
       "2         1  \n",
       "3         0  \n",
       "4         1  "
      ]
     },
     "metadata": {},
     "output_type": "display_data"
    },
    {
     "name": "stdout",
     "output_type": "stream",
     "text": [
      "[[ 6.    72.    35.    ...  0.627 50.     1.   ]\n",
      " [ 1.    66.    29.    ...  0.351 31.     0.   ]\n",
      " [ 8.    64.     0.    ...  0.672 32.     1.   ]\n",
      " ...\n",
      " [ 5.    72.    23.    ...  0.245 30.     0.   ]\n",
      " [ 1.    60.     0.    ...  0.349 47.     1.   ]\n",
      " [ 1.    70.    31.    ...  0.315 23.     0.   ]] <class 'numpy.ndarray'>\n",
      "<class 'numpy.ndarray'>\n",
      "[33.6 26.6 23.3 28.1 43.1]\n",
      "(768,) (768,)\n",
      "[[33.6]\n",
      " [26.6]\n",
      " [23.3]\n",
      " [28.1]\n",
      " [43.1]]\n",
      "(768,) (768, 1)\n"
     ]
    },
    {
     "data": {
      "image/png": "[encoded data removed]",
      "text/plain": [
       "<Figure size 640x480 with 1 Axes>"
      ]
     },
     "metadata": {},
     "output_type": "display_data"
    }
   ],
   "source": [
    "# vídeo\n",
    "\n",
    "# load data with continuous variables\n",
    "diabetes_df = diabetes_clean.copy().reset_index()\n",
    "display(diabetes_df.head())\n",
    "\n",
    "# drop the target\n",
    "X = diabetes_df.drop(\"glucose\", axis=1).values\n",
    "y = diabetes_df[\"glucose\"].values\n",
    "\n",
    "print(X, type(X))\n",
    "print(type(y))\n",
    "\n",
    "########\n",
    "\n",
    "# Making predictions from a single feature\n",
    "X_bmi = X[:, 4]\n",
    "print(X_bmi[:5])\n",
    "print(y.shape, X_bmi.shape) # 1-dimensional array: ok for y, but it has though to be a 2-dimensional array for X, so...\n",
    "\n",
    "# it's just that it needs this format to be accepted in scikit-learn\n",
    "X_bmi = X_bmi.reshape(-1, 1)   # another way would be [[i] for i in X[:, 4]]\n",
    "print(X_bmi[:5])\n",
    "print(y.shape, X_bmi.shape)\n",
    "\n",
    "#########\n",
    "\n",
    "# Plotting glucose bs bmi\n",
    "plt.scatter(X_bmi, y)\n",
    "plt.ylabel(\"Blood Glucose (mg/dl)\")\n",
    "plt.xlabel(\"Body Mass Index\")\n",
    "plt.show()"
   ]
  },
  {
   "cell_type": "code",
   "execution_count": 18,
   "id": "8e061bff-a78f-4a75-bdb5-787c2a61e7e1",
   "metadata": {},
   "outputs": [
    {
     "data": {
      "image/png": "[encoded data removed]",
      "text/plain": [
       "<Figure size 640x480 with 1 Axes>"
      ]
     },
     "metadata": {},
     "output_type": "display_data"
    }
   ],
   "source": [
    "# Fitting a regression model\n",
    "from sklearn.linear_model import LinearRegression\n",
    "\n",
    "# instantiate\n",
    "reg = LinearRegression()\n",
    "reg.fit(X_bmi, y)\n",
    "predictions = reg.predict(X_bmi)\n",
    "\n",
    "plt.scatter(X_bmi, y)\n",
    "plt.plot(X_bmi, predictions, color='green')\n",
    "plt.ylabel(\"Blood Glucose (mg/dl)\")\n",
    "plt.xlabel(\"Body Mass Index\")\n",
    "plt.show()"
   ]
  },
  {
   "cell_type": "code",
   "execution_count": 19,
   "id": "7cd30537-e507-476f-ab5a-9d367c667198",
   "metadata": {},
   "outputs": [],
   "source": [
    "###########"
   ]
  },
  {
   "cell_type": "code",
   "execution_count": 20,
   "id": "7ba17bb3-3c32-4320-b428-9665802ec9dd",
   "metadata": {},
   "outputs": [
    {
     "data": {
      "text/html": [
       "<div>\n",
       "<style scoped>\n",
       "    .dataframe tbody tr th:only-of-type {\n",
       "        vertical-align: middle;\n",
       "    }\n",
       "\n",
       "    .dataframe tbody tr th {\n",
       "        vertical-align: top;\n",
       "    }\n",
       "\n",
       "    .dataframe thead th {\n",
       "        text-align: right;\n",
       "    }\n",
       "</style>\n",
       "<table border=\"1\" class=\"dataframe\">\n",
       "  <thead>\n",
       "    <tr style=\"text-align: right;\">\n",
       "      <th></th>\n",
       "      <th>tv</th>\n",
       "      <th>radio</th>\n",
       "      <th>social_media</th>\n",
       "      <th>influencer</th>\n",
       "      <th>sales</th>\n",
       "    </tr>\n",
       "  </thead>\n",
       "  <tbody>\n",
       "    <tr>\n",
       "      <th>0</th>\n",
       "      <td>16000.0</td>\n",
       "      <td>6566.23</td>\n",
       "      <td>2907.98</td>\n",
       "      <td>Mega</td>\n",
       "      <td>54732.76</td>\n",
       "    </tr>\n",
       "    <tr>\n",
       "      <th>1</th>\n",
       "      <td>13000.0</td>\n",
       "      <td>9237.76</td>\n",
       "      <td>2409.57</td>\n",
       "      <td>Mega</td>\n",
       "      <td>46677.90</td>\n",
       "    </tr>\n",
       "    <tr>\n",
       "      <th>2</th>\n",
       "      <td>41000.0</td>\n",
       "      <td>15886.45</td>\n",
       "      <td>2913.41</td>\n",
       "      <td>Mega</td>\n",
       "      <td>150177.83</td>\n",
       "    </tr>\n",
       "    <tr>\n",
       "      <th>3</th>\n",
       "      <td>83000.0</td>\n",
       "      <td>30020.03</td>\n",
       "      <td>6922.30</td>\n",
       "      <td>Mega</td>\n",
       "      <td>298246.34</td>\n",
       "    </tr>\n",
       "    <tr>\n",
       "      <th>4</th>\n",
       "      <td>15000.0</td>\n",
       "      <td>8437.41</td>\n",
       "      <td>1406.00</td>\n",
       "      <td>Micro</td>\n",
       "      <td>56594.18</td>\n",
       "    </tr>\n",
       "  </tbody>\n",
       "</table>\n",
       "</div>"
      ],
      "text/plain": [
       "        tv     radio  social_media influencer      sales\n",
       "0  16000.0   6566.23       2907.98       Mega   54732.76\n",
       "1  13000.0   9237.76       2409.57       Mega   46677.90\n",
       "2  41000.0  15886.45       2913.41       Mega  150177.83\n",
       "3  83000.0  30020.03       6922.30       Mega  298246.34\n",
       "4  15000.0   8437.41       1406.00      Micro   56594.18"
      ]
     },
     "execution_count": 20,
     "metadata": {},
     "output_type": "execute_result"
    }
   ],
   "source": [
    "# data\n",
    "sales_df = advertising_and_sales_clean.copy().reset_index()\n",
    "sales_df.head()"
   ]
  },
  {
   "cell_type": "code",
   "execution_count": 21,
   "id": "86b94716-f9d5-431c-ba0d-a1ec75c89e17",
   "metadata": {},
   "outputs": [
    {
     "name": "stdout",
     "output_type": "stream",
     "text": [
      "(4546, 1) (4546,)\n"
     ]
    }
   ],
   "source": [
    "# Create X from the radio column's values\n",
    "X = sales_df[\"radio\"].values\n",
    "\n",
    "# Create y from the sales column's values\n",
    "y = sales_df[\"sales\"].values\n",
    "\n",
    "# Reshape X (since it's only 1 variable)\n",
    "X = X.reshape(-1, 1)\n",
    "\n",
    "# Check the shape of the features and targets\n",
    "print(X.shape, y.shape)"
   ]
  },
  {
   "cell_type": "code",
   "execution_count": 22,
   "id": "54253e7e-7224-41cc-8f91-40af278dc0b9",
   "metadata": {},
   "outputs": [
    {
     "name": "stdout",
     "output_type": "stream",
     "text": [
      "[ 95491.17119147 117829.51038393 173423.38071499 291603.11444202\n",
      " 111137.28167129]\n"
     ]
    }
   ],
   "source": [
    "# Create the model\n",
    "reg = LinearRegression()\n",
    "\n",
    "# Fit the model to the data\n",
    "reg.fit(X, y)\n",
    "\n",
    "# Make predictions\n",
    "predictions = reg.predict(X)\n",
    "print(predictions[:5])"
   ]
  },
  {
   "cell_type": "code",
   "execution_count": 23,
   "id": "2a1a7923-c603-4c17-b8e8-381480f19d6a",
   "metadata": {},
   "outputs": [
    {
     "data": {
      "image/png": "[encoded data removed]",
      "text/plain": [
       "<Figure size 640x480 with 1 Axes>"
      ]
     },
     "metadata": {},
     "output_type": "display_data"
    }
   ],
   "source": [
    "# Create scatter plot\n",
    "plt.scatter(X, y, color=\"blue\")\n",
    "\n",
    "# Create line plot\n",
    "plt.plot(X, predictions, color=\"red\")\n",
    "plt.xlabel(\"Radio Expenditure ($)\")\n",
    "plt.ylabel(\"Sales ($)\")\n",
    "\n",
    "# Display the plot\n",
    "plt.show()"
   ]
  },
  {
   "cell_type": "code",
   "execution_count": null,
   "id": "496e7e5f-e6b4-46b9-b5df-fe4b5d555bbe",
   "metadata": {},
   "outputs": [],
   "source": []
  },
  {
   "cell_type": "code",
   "execution_count": null,
   "id": "c2c8be05-2296-4083-bbc4-8d748efffcc6",
   "metadata": {},
   "outputs": [],
   "source": []
  },
  {
   "cell_type": "markdown",
   "id": "637bf286-2544-460b-aa5b-2f08e0156dcf",
   "metadata": {},
   "source": [
    "## The basics of linear regression"
   ]
  },
  {
   "cell_type": "code",
   "execution_count": 24,
   "id": "28c74c4a-8e1b-48fa-9267-6ac17a2bc2fc",
   "metadata": {},
   "outputs": [
    {
     "name": "stdout",
     "output_type": "stream",
     "text": [
      "R squared:  0.9990171438538941\n",
      "MSE:  8652666.19286932\n",
      "RMSE:  2941.5414654342917\n"
     ]
    }
   ],
   "source": [
    "# vídeo\n",
    "\n",
    "# Ordinary Least Squares (OLS)\n",
    "\n",
    "# Linear regression in higher dimensions (more than 1 variable)\n",
    "\n",
    "from sklearn.model_selection import train_test_split\n",
    "from sklearn.linear_model import LinearRegression\n",
    "\n",
    "# Create X and y\n",
    "# X = sales_df[[\"tv\", \"radio\", \"social_media\"]].values\n",
    "X = sales_df[\"tv\"].values.reshape(-1, 1)\n",
    "y = sales_df[\"sales\"].values\n",
    "\n",
    "X_train, X_test, y_train, y_test = train_test_split(X, y, test_size=0.30, random_state=42)\n",
    "\n",
    "reg_all = LinearRegression() # OLS under the hood\n",
    "reg_all.fit(X_train, y_train)\n",
    "y_pred = reg_all.predict(X_test)\n",
    "\n",
    "\n",
    "# Evaluate the performance\n",
    "\n",
    "# 1) The default metric for linear regression is R squared, which quantifies the \n",
    "# variance in target values explained by the features \n",
    "# - values range from 0 to 1\n",
    "\n",
    "print(\"R squared: \", reg_all.score(X_test, y_test)) # R squared\n",
    "\n",
    "\n",
    "# 2) Another way is the Mean squared error (MSE) and root mean squared error (RMSE)\n",
    "# MSE is measured in target units, squared\n",
    "# To convert back into the unis of the target variable, use RMSE -> square the MSE\n",
    "\n",
    "from sklearn.metrics import mean_squared_error, root_mean_squared_error\n",
    "\n",
    "mse = mean_squared_error(y_test, y_pred)\n",
    "rmse = root_mean_squared_error(y_test, y_pred)\n",
    "print(\"MSE: \", mse)\n",
    "print(\"RMSE: \", rmse)\n"
   ]
  },
  {
   "cell_type": "code",
   "execution_count": 25,
   "id": "89de5994-debf-4b09-8cc9-b559fe16de93",
   "metadata": {},
   "outputs": [
    {
     "data": {
      "text/html": [
       "<div>\n",
       "<style scoped>\n",
       "    .dataframe tbody tr th:only-of-type {\n",
       "        vertical-align: middle;\n",
       "    }\n",
       "\n",
       "    .dataframe tbody tr th {\n",
       "        vertical-align: top;\n",
       "    }\n",
       "\n",
       "    .dataframe thead th {\n",
       "        text-align: right;\n",
       "    }\n",
       "</style>\n",
       "<table border=\"1\" class=\"dataframe\">\n",
       "  <thead>\n",
       "    <tr style=\"text-align: right;\">\n",
       "      <th></th>\n",
       "      <th>tv</th>\n",
       "      <th>radio</th>\n",
       "      <th>social_media</th>\n",
       "      <th>influencer</th>\n",
       "      <th>sales</th>\n",
       "    </tr>\n",
       "  </thead>\n",
       "  <tbody>\n",
       "    <tr>\n",
       "      <th>0</th>\n",
       "      <td>16000.0</td>\n",
       "      <td>6566.23</td>\n",
       "      <td>2907.98</td>\n",
       "      <td>Mega</td>\n",
       "      <td>54732.76</td>\n",
       "    </tr>\n",
       "    <tr>\n",
       "      <th>1</th>\n",
       "      <td>13000.0</td>\n",
       "      <td>9237.76</td>\n",
       "      <td>2409.57</td>\n",
       "      <td>Mega</td>\n",
       "      <td>46677.90</td>\n",
       "    </tr>\n",
       "    <tr>\n",
       "      <th>2</th>\n",
       "      <td>41000.0</td>\n",
       "      <td>15886.45</td>\n",
       "      <td>2913.41</td>\n",
       "      <td>Mega</td>\n",
       "      <td>150177.83</td>\n",
       "    </tr>\n",
       "    <tr>\n",
       "      <th>3</th>\n",
       "      <td>83000.0</td>\n",
       "      <td>30020.03</td>\n",
       "      <td>6922.30</td>\n",
       "      <td>Mega</td>\n",
       "      <td>298246.34</td>\n",
       "    </tr>\n",
       "    <tr>\n",
       "      <th>4</th>\n",
       "      <td>15000.0</td>\n",
       "      <td>8437.41</td>\n",
       "      <td>1406.00</td>\n",
       "      <td>Micro</td>\n",
       "      <td>56594.18</td>\n",
       "    </tr>\n",
       "  </tbody>\n",
       "</table>\n",
       "</div>"
      ],
      "text/plain": [
       "        tv     radio  social_media influencer      sales\n",
       "0  16000.0   6566.23       2907.98       Mega   54732.76\n",
       "1  13000.0   9237.76       2409.57       Mega   46677.90\n",
       "2  41000.0  15886.45       2913.41       Mega  150177.83\n",
       "3  83000.0  30020.03       6922.30       Mega  298246.34\n",
       "4  15000.0   8437.41       1406.00      Micro   56594.18"
      ]
     },
     "execution_count": 25,
     "metadata": {},
     "output_type": "execute_result"
    }
   ],
   "source": [
    "sales_df.head()"
   ]
  },
  {
   "cell_type": "code",
   "execution_count": 26,
   "id": "10597d66-8379-4db2-b441-474de9821284",
   "metadata": {},
   "outputs": [],
   "source": [
    "############"
   ]
  },
  {
   "cell_type": "code",
   "execution_count": 27,
   "id": "90dbd35f-f247-4337-aa38-2bdfe39dabbd",
   "metadata": {},
   "outputs": [
    {
     "name": "stdout",
     "output_type": "stream",
     "text": [
      "Predictions: [53176.66154234 70996.19873235], \n",
      "Actual Values: [55261.28 67574.9 ]\n"
     ]
    }
   ],
   "source": [
    "# Create X and y arrays\n",
    "X = sales_df[[\"tv\", \"radio\", \"social_media\"]].values\n",
    "y = sales_df[\"sales\"].values\n",
    "\n",
    "X_train, X_test, y_train, y_test = train_test_split(X, y, test_size=0.3, random_state=42)\n",
    "\n",
    "# Instantiate the model\n",
    "reg = LinearRegression()\n",
    "\n",
    "# Fit the model to the data\n",
    "reg.fit(X_train, y_train)\n",
    "\n",
    "\n",
    "# Make predictions\n",
    "y_pred = reg.predict(X_test)\n",
    "print(\"Predictions: {}, \\nActual Values: {}\".format(y_pred[:2], y_test[:2]))"
   ]
  },
  {
   "cell_type": "code",
   "execution_count": 28,
   "id": "38b7783c-aedb-4213-89f2-e3042d918709",
   "metadata": {},
   "outputs": [
    {
     "name": "stdout",
     "output_type": "stream",
     "text": [
      "R^2: 0.9990152104759368\n",
      "RMSE: 2944.4331996001238\n"
     ]
    }
   ],
   "source": [
    "# Import mean_squared_error\n",
    "from sklearn.metrics import mean_squared_error, root_mean_squared_error\n",
    "\n",
    "# Compute R-squared\n",
    "r_squared = reg.score(X_test, y_test)\n",
    "\n",
    "# Compute RMSE\n",
    "# rmse = mean_squared_error(y_test, y_pred, squared=False)  # old way\n",
    "rmse = root_mean_squared_error(y_test, y_pred)\n",
    "\n",
    "# Print the metrics\n",
    "print(\"R^2: {}\".format(r_squared))\n",
    "print(\"RMSE: {}\".format(rmse))\n"
   ]
  },
  {
   "cell_type": "markdown",
   "id": "c2d42af9-d22e-4c16-b285-e4c90ec750a9",
   "metadata": {},
   "source": [
    "The features explain 99.9% of the variance in sales values - Looks like this company's advertising strategy is working well"
   ]
  },
  {
   "cell_type": "code",
   "execution_count": null,
   "id": "4caee123-cd4d-493c-ae03-1fa6649c97ee",
   "metadata": {},
   "outputs": [],
   "source": []
  },
  {
   "cell_type": "markdown",
   "id": "db0014d6-be70-4521-b9c4-166c64523570",
   "metadata": {},
   "source": [
    "## Cross-validation"
   ]
  },
  {
   "cell_type": "code",
   "execution_count": 29,
   "id": "78d7b86d-f32c-4dcf-bce2-30aa2ab8c0d4",
   "metadata": {},
   "outputs": [
    {
     "name": "stdout",
     "output_type": "stream",
     "text": [
      "cv_results:  [0.75187559 0.76589813 0.75262628 0.76412429 0.72538175 0.76308008]\n",
      "\n",
      "mean:  0.7538310201432022\n",
      "std:  0.013854887619993669\n",
      "95% confidence interval:  [0.72869348 0.7656764 ]\n"
     ]
    }
   ],
   "source": [
    "# vídeo\n",
    "\n",
    "# cross-validation -> it's essentially a random split\n",
    "\n",
    "# Split -> Fold 1; Fold 2; Fold 3; Fold 4; Fold 5\n",
    "# the test set varies in each iteration (1st it's Fold 1, then Fold 2, etc). We get 5 metrics\n",
    "\n",
    "# 5 folds = 5-fold CV\n",
    "# 10 folds = 10-fold CV\n",
    "# k folds = k-folds CV\n",
    "# More folds => more computationally expensive\n",
    "\n",
    "from sklearn.model_selection import cross_val_score, KFold\n",
    "\n",
    "# we've could have just defined cv=6 in cross_val_score but this way we guarantee repeatability\n",
    "kf = KFold(n_splits=6, shuffle=True, random_state=42)\n",
    "\n",
    "# Create X and y arrays\n",
    "X = sales_df[[\"radio\", \"social_media\"]].values\n",
    "y = sales_df[\"sales\"].values\n",
    "\n",
    "# our model\n",
    "reg = LinearRegression()\n",
    "\n",
    "cv_results = cross_val_score(reg, X, y, cv=kf) # the default results are R^2, the default for linear regression\n",
    "print(\"cv_results: \", cv_results)\n",
    "\n",
    "print(\"\\nmean: \", np.mean(cv_results))\n",
    "print(\"std: \", np.std(cv_results))\n",
    "\n",
    "print(\"95% confidence interval: \", np.quantile(cv_results, [0.025, 0.975]))"
   ]
  },
  {
   "cell_type": "code",
   "execution_count": 30,
   "id": "d483c343-83a1-4696-ad1a-757146aa3f14",
   "metadata": {},
   "outputs": [],
   "source": [
    "#######"
   ]
  },
  {
   "cell_type": "code",
   "execution_count": 31,
   "id": "d7e09ee5-3d71-456c-9821-de547789b2cc",
   "metadata": {},
   "outputs": [
    {
     "name": "stdout",
     "output_type": "stream",
     "text": [
      "[0.74451678 0.77241887 0.76842114 0.7410406  0.75170022 0.74406484]\n"
     ]
    }
   ],
   "source": [
    "# Import the necessary modules\n",
    "from sklearn.model_selection import cross_val_score, KFold\n",
    "\n",
    "# Create a KFold object\n",
    "kf = KFold(n_splits=6, shuffle=True, random_state=5)\n",
    "\n",
    "X = sales_df[[\"radio\", \"social_media\"]].values\n",
    "y = sales_df[\"sales\"].values\n",
    "reg = LinearRegression()\n",
    "\n",
    "# Compute 6-fold cross-validation scores\n",
    "cv_scores = cross_val_score(reg, X, y, cv=kf)\n",
    "\n",
    "# Print scores\n",
    "print(cv_scores)"
   ]
  },
  {
   "cell_type": "code",
   "execution_count": 32,
   "id": "78164c09-2744-4afa-a4da-203f5ae21aa7",
   "metadata": {},
   "outputs": [
    {
     "name": "stdout",
     "output_type": "stream",
     "text": [
      "Mean:  0.7536937414361207\n",
      "Std:  0.012305389070474732\n",
      "95% confidence interval:  [0.74141863 0.77191916]\n"
     ]
    }
   ],
   "source": [
    "# Print the mean\n",
    "print(\"Mean: \", np.mean(cv_scores))\n",
    "\n",
    "# Print the standard deviation\n",
    "print(\"Std: \", np.std(cv_scores))\n",
    "\n",
    "# Print the 95% confidence interval\n",
    "print(\"95% confidence interval: \", np.quantile(cv_scores, [0.025, 0.975]))"
   ]
  },
  {
   "cell_type": "code",
   "execution_count": null,
   "id": "bfc0ba4a-3078-42f8-a29c-ace0b93117c7",
   "metadata": {},
   "outputs": [],
   "source": []
  },
  {
   "cell_type": "code",
   "execution_count": null,
   "id": "37d39c70-f8ee-4d10-9194-2b8d33fb062f",
   "metadata": {},
   "outputs": [],
   "source": []
  },
  {
   "cell_type": "markdown",
   "id": "b3704845-b6ff-4ea7-bbd0-498711504eca",
   "metadata": {},
   "source": [
    "## Regularized regresssion"
   ]
  },
  {
   "cell_type": "code",
   "execution_count": 33,
   "id": "19aceb29-8c15-424f-b961-5097c2364341",
   "metadata": {},
   "outputs": [],
   "source": [
    "#vídeo\n",
    "\n",
    "# Why regularize?\n",
    "#  Recall: Linear regressions minimizes a loss function\n",
    "#  It chooses a coefficient, a, for each feature variable, plus b\n",
    "#  Large coefficients can lead to overfitting\n",
    "# Penalizing large coefficients --> Regularization\n"
   ]
  },
  {
   "cell_type": "code",
   "execution_count": 34,
   "id": "37ce897f-0a21-4bb3-b923-9df42c4d70d3",
   "metadata": {},
   "outputs": [
    {
     "name": "stdout",
     "output_type": "stream",
     "text": [
      "[0.760881722233227, 0.7608817222331742, 0.7608817222326456, 0.7608817221745073, 0.3089916592904156]\n"
     ]
    }
   ],
   "source": [
    "# 1) Ridge regression\n",
    "#   Loss function = OLS loss function + 'alpha'*np.sum(ai^2)\n",
    "#    models are penalized for coefficients with a large magnitude (large positive and large negative)\n",
    "#       'alpha' == a parameter we need to choose\n",
    "#       picking 'alpha' is similar to picking k in k-NN --> (Hyperparameter tuning - chapter 3)\n",
    "#       'alpha' controls model complexity\n",
    "#            'alpha' = 0 ---> OLS, can be overfitting\n",
    "#            'alpha' very high ---> underfitting\n",
    "\n",
    "# o 'alpha' é o q costuma aparecer como 'lambda' na literatura\n",
    "# ridge regression will include all p predictors in the final model.\n",
    "\n",
    "from sklearn.linear_model import Ridge\n",
    "from sklearn.model_selection import train_test_split\n",
    "\n",
    "# Create X and y arrays\n",
    "X = sales_df[[\"radio\", \"social_media\"]].values\n",
    "y = sales_df[\"sales\"].values\n",
    "X_train, X_test, y_train, y_test = train_test_split(X, y, test_size=0.3, random_state=42)\n",
    "\n",
    "scores = []\n",
    "\n",
    "for alpha in [0.1, 1, 10, 1000, 1000000000000]:\n",
    "    ridge = Ridge(alpha=alpha)\n",
    "    ridge.fit(X_train, y_train)\n",
    "    y_pred = ridge.predict(X_test)\n",
    "    scores.append(ridge.score(X_test, y_test))\n",
    "\n",
    "print(scores)\n"
   ]
  },
  {
   "cell_type": "code",
   "execution_count": 35,
   "id": "c33315c3-29ec-4bc4-814d-81952caae764",
   "metadata": {},
   "outputs": [
    {
     "name": "stdout",
     "output_type": "stream",
     "text": [
      "[0.7608817222418861, 0.760881722306458, 0.7608817228721916, 0.7608817926088887, -2.6116066893511203e-05]\n"
     ]
    }
   ],
   "source": [
    "# 2) LASSO regression\n",
    "#   Loss function = OLS loss function + 'alpha'*np.sum(|ai|)\n",
    "\n",
    "# Can be used to select important features of a dataset (shrinks the coefficients to 0, while Ridge maintains all)\n",
    "\n",
    "from sklearn.linear_model import Lasso\n",
    "from sklearn.model_selection import train_test_split\n",
    "\n",
    "# Create X and y arrays\n",
    "X = sales_df[[\"radio\", \"social_media\"]].values\n",
    "y = sales_df[\"sales\"].values\n",
    "X_train, X_test, y_train, y_test = train_test_split(X, y, test_size=0.3, random_state=42)\n",
    "\n",
    "scores = []\n",
    "\n",
    "for alpha in [0.1, 1, 10, 1000, 1000000000000]:\n",
    "    lasso = Lasso(alpha=alpha)\n",
    "    lasso.fit(X_train, y_train)\n",
    "    y_pred = lasso.predict(X_test)\n",
    "    scores.append(lasso.score(X_test, y_test))\n",
    "\n",
    "print(scores)\n"
   ]
  },
  {
   "cell_type": "code",
   "execution_count": 36,
   "id": "7f40f3b9-01b0-4dd3-8607-2ef200a2120a",
   "metadata": {},
   "outputs": [
    {
     "name": "stdout",
     "output_type": "stream",
     "text": [
      "Column names / variables:  Index(['pregnancies', 'diastolic', 'triceps', 'insulin', 'bmi', 'dpf', 'age',\n",
      "       'diabetes'],\n",
      "      dtype='object') \n",
      "\n",
      "lasso_coef:  [-0.44744635  0.11662917 -0.28627271  0.0906138   0.31619679  0.81490392\n",
      "  0.48641529 24.60117613] \n",
      "\n",
      "[('pregnancies', -0.4474463526404875), ('diastolic', 0.11662917460723508), ('triceps', -0.2862727116126401), ('insulin', 0.09061379504012126), ('bmi', 0.31619679146677976), ('dpf', 0.8149039238733479), ('age', 0.486415292182234), ('diabetes', 24.6011761260093)]\n"
     ]
    },
    {
     "data": {
      "image/png": "[encoded data removed]",
      "text/plain": [
       "<Figure size 640x480 with 1 Axes>"
      ]
     },
     "metadata": {},
     "output_type": "display_data"
    }
   ],
   "source": [
    "from sklearn.linear_model import Lasso\n",
    "\n",
    "# Can be used to select important features of a dataset (shrinks the coefficients to 0, while Ridge maintains all)\n",
    "\n",
    "X = diabetes_df.drop(\"glucose\", axis=1).values\n",
    "y = diabetes_df[\"glucose\"].values\n",
    "names = diabetes_df.drop(\"glucose\", axis=1).columns\n",
    "print(\"Column names / variables: \", names, \"\\n\")\n",
    "\n",
    "# instantiate the model Lasso\n",
    "lasso = Lasso(alpha=0.1)\n",
    "\n",
    "# Lasso coefficient\n",
    "lasso_coef = lasso.fit(X, y).coef_\n",
    "print(\"lasso_coef: \", lasso_coef, \"\\n\")\n",
    "\n",
    "# each coefficient is\n",
    "print(list(zip(names, lasso_coef)))\n",
    "\n",
    "# plot\n",
    "plt.bar(names, lasso_coef)\n",
    "plt.xticks(rotation=45)\n",
    "plt.show()\n"
   ]
  },
  {
   "cell_type": "code",
   "execution_count": 37,
   "id": "5a3f042d-a37e-4f55-b6f0-2106990bb751",
   "metadata": {},
   "outputs": [],
   "source": [
    "########"
   ]
  },
  {
   "cell_type": "code",
   "execution_count": 38,
   "id": "81f12dd4-c480-473d-9afd-871ae2c7a5b1",
   "metadata": {},
   "outputs": [
    {
     "name": "stdout",
     "output_type": "stream",
     "text": [
      "[0.9990152104759369, 0.9990152104759373, 0.9990152104759419, 0.999015210475987, 0.9990152104764387, 0.9990152104809561]\n"
     ]
    }
   ],
   "source": [
    "# Import Ridge\n",
    "from sklearn.linear_model import Ridge\n",
    "from sklearn.model_selection import train_test_split\n",
    "\n",
    "# Create X and y arrays\n",
    "X = sales_df[[\"tv\", \"radio\", \"social_media\"]].values\n",
    "y = sales_df[\"sales\"].values\n",
    "X_train, X_test, y_train, y_test = train_test_split(X, y, test_size=0.3, random_state=42)\n",
    "\n",
    "\n",
    "alphas = [0.1, 1.0, 10.0, 100.0, 1000.0, 10000.0]\n",
    "ridge_scores = []\n",
    "for alpha in alphas:\n",
    "  \n",
    "  # Create a Ridge regression model\n",
    "  ridge = Ridge(alpha=alpha)\n",
    "  \n",
    "  # Fit the data\n",
    "  ridge.fit(X_train, y_train)\n",
    "  \n",
    "  # Obtain R-squared\n",
    "  score = ridge.score(X_test, y_test)\n",
    "  ridge_scores.append(score)\n",
    "print(ridge_scores)"
   ]
  },
  {
   "cell_type": "code",
   "execution_count": 39,
   "id": "290da4c7-3fa4-40de-a526-714e0fe17d32",
   "metadata": {},
   "outputs": [
    {
     "name": "stdout",
     "output_type": "stream",
     "text": [
      "[ 3.56256962 -0.00397035  0.00496385]\n"
     ]
    },
    {
     "data": {
      "image/png": "[encoded data removed]",
      "text/plain": [
       "<Figure size 640x480 with 1 Axes>"
      ]
     },
     "metadata": {},
     "output_type": "display_data"
    }
   ],
   "source": [
    "# Import Lasso\n",
    "from sklearn.linear_model import Lasso\n",
    "\n",
    "# Instantiate a lasso regression model\n",
    "lasso = Lasso(alpha=0.3)\n",
    "\n",
    "# Fit the model to the data\n",
    "lasso.fit(X, y)\n",
    "\n",
    "# Compute and print the coefficients\n",
    "lasso_coef = lasso.fit(X, y).coef_\n",
    "print(lasso_coef)\n",
    "\n",
    "sales_columns = sales_df[[\"tv\", \"radio\", \"social_media\"]].columns\n",
    "\n",
    "plt.bar(sales_columns, lasso_coef)\n",
    "plt.show()"
   ]
  },
  {
   "cell_type": "code",
   "execution_count": null,
   "id": "5a6d2fd9-e92e-4b5f-b45c-8b40b5e945b7",
   "metadata": {},
   "outputs": [],
   "source": []
  },
  {
   "cell_type": "code",
   "execution_count": null,
   "id": "beb97cba-c086-4eaa-a617-597f1977cba1",
   "metadata": {},
   "outputs": [],
   "source": []
  },
  {
   "cell_type": "markdown",
   "id": "7384470c-4f8e-45dc-bdca-e2ec761bd98d",
   "metadata": {},
   "source": [
    "# 3) Fine-Tuning your Model"
   ]
  },
  {
   "cell_type": "markdown",
   "id": "466d488b-5ce4-493e-bc63-7c7632120ef0",
   "metadata": {},
   "source": [
    "## How good is your model?"
   ]
  },
  {
   "cell_type": "code",
   "execution_count": 40,
   "id": "b73b89e5-e418-4339-be47-375c2daf3243",
   "metadata": {},
   "outputs": [
    {
     "name": "stdout",
     "output_type": "stream",
     "text": [
      "[[1123   15]\n",
      " [ 149   47]]\n",
      "              precision    recall  f1-score   support\n",
      "\n",
      "           0       0.88      0.99      0.93      1138\n",
      "           1       0.76      0.24      0.36       196\n",
      "\n",
      "    accuracy                           0.88      1334\n",
      "   macro avg       0.82      0.61      0.65      1334\n",
      "weighted avg       0.86      0.88      0.85      1334\n",
      "\n"
     ]
    }
   ],
   "source": [
    "#vídeo\n",
    "\n",
    "# Classification metrics\n",
    "\n",
    "#  Measuring model performance with accuracy:\n",
    "#     Fraction of correctly classified samples\n",
    "#     Not always a useful metric! (class imbalances)\n",
    "\n",
    "# --> Class imbalance (common situation). Example (emails):\n",
    "#         Consider a spam classification - 99% e-mails are real, 1% is spam\n",
    "#         could build a model that predicts that ALL emails are real:\n",
    "#           - it would be correct 99% of the time !\n",
    "#           - but it would be a horrible classifier of spam: it would never predict spam\n",
    "\n",
    "\n",
    "# Diagnosing classification predictions\n",
    "\n",
    "# Confusion matrix: Actual  vs Predicted  (true/false positive, true/false negative)\n",
    "#     usually we're interessed in the positive class (we are trying to predict spam, so it's positive)\n",
    "#           True positive (correct)\n",
    "#           False positive (incorrect) - we predicted spam but it was real email\n",
    "\n",
    "# Accuracy: \n",
    "#     (tp + tn) / (tp+tn + fp+fn)\n",
    "\n",
    "# Precision: \n",
    "#     tp / (tp+fp)\n",
    "\n",
    "# Recall, sensitivity or true positive rate (TPR):\n",
    "#     tp / (tp+fn)\n",
    "\n",
    "# F1 score (the harmonic mean of precision and recall):\n",
    "#     2 *  (precision*recall) / (precison + recall)\n",
    "\n",
    "# High precision: not many real emails predicted as spam\n",
    "# High recall: predicted most spam emails correctly\n",
    "\n",
    "# The support gives the number of samples of the true response that lie in that class\n",
    "\n",
    "# Confusion matrix in scikit-learn\n",
    "\n",
    "\n",
    "from sklearn.metrics import classification_report, confusion_matrix\n",
    "\n",
    "# example\n",
    "knn = KNeighborsClassifier(n_neighbors=8)\n",
    "\n",
    "X = churn_df[[\"total_day_charge\", \"total_eve_charge\"]].values\n",
    "y = churn_df[\"churn\"].values\n",
    "\n",
    "X_train, X_test, y_train, y_test = train_test_split(X, y, test_size=0.4, random_state=42)\n",
    "\n",
    "knn.fit(X_train, y_train)\n",
    "\n",
    "y_pred = knn.predict(X_test)\n",
    "\n",
    "print(confusion_matrix(y_test, y_pred)) \n",
    "\n",
    "print(classification_report(y_test, y_pred))\n",
    "\n",
    "# support represents the number of instances that for class within the true labels\n"
   ]
  },
  {
   "cell_type": "code",
   "execution_count": 41,
   "id": "f9c2048a-75b4-458a-90f2-6b8ea96d5357",
   "metadata": {},
   "outputs": [],
   "source": [
    "####################"
   ]
  },
  {
   "cell_type": "markdown",
   "id": "1921b76c-5997-4149-8912-0fef161c401e",
   "metadata": {},
   "source": [
    "**Deciding on a primary metric**\n",
    "\n",
    "Select the problem where ***precision*** is best suited as the primary metric.\n",
    "\n",
    "- A model predicting if a customer is a high-value lead for a sales team with limited capacity.\n"
   ]
  },
  {
   "cell_type": "code",
   "execution_count": 42,
   "id": "efa80aad-eb92-46d9-b40a-c93bd8aea8c7",
   "metadata": {},
   "outputs": [
    {
     "data": {
      "text/html": [
       "<div>\n",
       "<style scoped>\n",
       "    .dataframe tbody tr th:only-of-type {\n",
       "        vertical-align: middle;\n",
       "    }\n",
       "\n",
       "    .dataframe tbody tr th {\n",
       "        vertical-align: top;\n",
       "    }\n",
       "\n",
       "    .dataframe thead th {\n",
       "        text-align: right;\n",
       "    }\n",
       "</style>\n",
       "<table border=\"1\" class=\"dataframe\">\n",
       "  <thead>\n",
       "    <tr style=\"text-align: right;\">\n",
       "      <th></th>\n",
       "      <th>pregnancies</th>\n",
       "      <th>glucose</th>\n",
       "      <th>diastolic</th>\n",
       "      <th>triceps</th>\n",
       "      <th>insulin</th>\n",
       "      <th>bmi</th>\n",
       "      <th>dpf</th>\n",
       "      <th>age</th>\n",
       "      <th>diabetes</th>\n",
       "    </tr>\n",
       "  </thead>\n",
       "  <tbody>\n",
       "    <tr>\n",
       "      <th>0</th>\n",
       "      <td>6</td>\n",
       "      <td>148</td>\n",
       "      <td>72</td>\n",
       "      <td>35</td>\n",
       "      <td>0</td>\n",
       "      <td>33.6</td>\n",
       "      <td>0.627</td>\n",
       "      <td>50</td>\n",
       "      <td>1</td>\n",
       "    </tr>\n",
       "    <tr>\n",
       "      <th>1</th>\n",
       "      <td>1</td>\n",
       "      <td>85</td>\n",
       "      <td>66</td>\n",
       "      <td>29</td>\n",
       "      <td>0</td>\n",
       "      <td>26.6</td>\n",
       "      <td>0.351</td>\n",
       "      <td>31</td>\n",
       "      <td>0</td>\n",
       "    </tr>\n",
       "    <tr>\n",
       "      <th>2</th>\n",
       "      <td>8</td>\n",
       "      <td>183</td>\n",
       "      <td>64</td>\n",
       "      <td>0</td>\n",
       "      <td>0</td>\n",
       "      <td>23.3</td>\n",
       "      <td>0.672</td>\n",
       "      <td>32</td>\n",
       "      <td>1</td>\n",
       "    </tr>\n",
       "    <tr>\n",
       "      <th>3</th>\n",
       "      <td>1</td>\n",
       "      <td>89</td>\n",
       "      <td>66</td>\n",
       "      <td>23</td>\n",
       "      <td>94</td>\n",
       "      <td>28.1</td>\n",
       "      <td>0.167</td>\n",
       "      <td>21</td>\n",
       "      <td>0</td>\n",
       "    </tr>\n",
       "    <tr>\n",
       "      <th>4</th>\n",
       "      <td>0</td>\n",
       "      <td>137</td>\n",
       "      <td>40</td>\n",
       "      <td>35</td>\n",
       "      <td>168</td>\n",
       "      <td>43.1</td>\n",
       "      <td>2.288</td>\n",
       "      <td>33</td>\n",
       "      <td>1</td>\n",
       "    </tr>\n",
       "  </tbody>\n",
       "</table>\n",
       "</div>"
      ],
      "text/plain": [
       "   pregnancies  glucose  diastolic  triceps  insulin   bmi    dpf  age  \\\n",
       "0            6      148         72       35        0  33.6  0.627   50   \n",
       "1            1       85         66       29        0  26.6  0.351   31   \n",
       "2            8      183         64        0        0  23.3  0.672   32   \n",
       "3            1       89         66       23       94  28.1  0.167   21   \n",
       "4            0      137         40       35      168  43.1  2.288   33   \n",
       "\n",
       "   diabetes  \n",
       "0         1  \n",
       "1         0  \n",
       "2         1  \n",
       "3         0  \n",
       "4         1  "
      ]
     },
     "execution_count": 42,
     "metadata": {},
     "output_type": "execute_result"
    }
   ],
   "source": [
    "diabetes_df.head()"
   ]
  },
  {
   "cell_type": "code",
   "execution_count": 43,
   "id": "903ecaa6-a7d8-47cf-8ebf-5c469b3d1fe1",
   "metadata": {},
   "outputs": [],
   "source": [
    "# exercise assumptions / data\n",
    "X = diabetes_df[[\"bmi\", \"age\"]].values\n",
    "y = diabetes_df[\"diabetes\"].values\n",
    "\n",
    "X_train, X_test, y_train, y_test = train_test_split(X, y, test_size=0.3, random_state=42)"
   ]
  },
  {
   "cell_type": "code",
   "execution_count": 44,
   "id": "0bcabfd2-f63c-4155-9eef-56b93e2c2406",
   "metadata": {},
   "outputs": [
    {
     "name": "stdout",
     "output_type": "stream",
     "text": [
      "[[117  34]\n",
      " [ 47  33]]\n",
      "              precision    recall  f1-score   support\n",
      "\n",
      "           0       0.71      0.77      0.74       151\n",
      "           1       0.49      0.41      0.45        80\n",
      "\n",
      "    accuracy                           0.65       231\n",
      "   macro avg       0.60      0.59      0.60       231\n",
      "weighted avg       0.64      0.65      0.64       231\n",
      "\n"
     ]
    }
   ],
   "source": [
    "# Import confusion matrix\n",
    "from sklearn.metrics import confusion_matrix, classification_report\n",
    "\n",
    "knn = KNeighborsClassifier(n_neighbors=6)\n",
    "\n",
    "# Fit the model to the training data\n",
    "knn.fit(X_train, y_train)\n",
    "\n",
    "# Predict the labels of the test data: y_pred\n",
    "y_pred = knn.predict(X_test)\n",
    "\n",
    "# Generate the confusion matrix and classification report\n",
    "print(confusion_matrix(y_test, y_pred))\n",
    "print(classification_report(y_test, y_pred))"
   ]
  },
  {
   "cell_type": "code",
   "execution_count": null,
   "id": "dbfdfc5d-c58c-4b67-ada6-ecfe550b1f2b",
   "metadata": {},
   "outputs": [],
   "source": []
  },
  {
   "cell_type": "code",
   "execution_count": null,
   "id": "7bd74d13-7778-4c51-8b9b-2b6925da86aa",
   "metadata": {},
   "outputs": [],
   "source": []
  },
  {
   "cell_type": "markdown",
   "id": "92ed4145-5174-40a4-832c-82a8c4263957",
   "metadata": {},
   "source": [
    "## Logistic regression and the ROC curve"
   ]
  },
  {
   "cell_type": "code",
   "execution_count": 45,
   "id": "265df10e-c638-4d38-aafa-6c924241bc63",
   "metadata": {},
   "outputs": [
    {
     "name": "stdout",
     "output_type": "stream",
     "text": [
      "Probability that the first observation has churned: 0.1882602003811278 \n",
      "\n",
      "ROC curve API given number of arrays: 3\n"
     ]
    },
    {
     "data": {
      "image/png": "[encoded data removed]",
      "text/plain": [
       "<Figure size 640x480 with 1 Axes>"
      ]
     },
     "metadata": {},
     "output_type": "display_data"
    },
    {
     "name": "stdout",
     "output_type": "stream",
     "text": [
      "ROC auc score:  0.6870364174914934\n"
     ]
    }
   ],
   "source": [
    "#vídeo\n",
    "\n",
    "# Logistic regression for binary classification\n",
    "\n",
    "# Logistic regression outputs probabilities\n",
    "#  If the probability 'p' is greater than 0.5, the data is labeled '1'\n",
    "#  If the probability 'p' is less than 0.5, the data is labeled '0'\n",
    "# it produces a linear decision boundary\n",
    "\n",
    "\n",
    "# 1) Logistic regression in scikit-learn\n",
    "from sklearn.linear_model import LogisticRegression\n",
    "from sklearn.model_selection import train_test_split\n",
    "\n",
    "logreg = LogisticRegression()\n",
    "\n",
    "X = churn_df[[\"total_day_charge\", \"total_eve_charge\"]].values\n",
    "y = churn_df[\"churn\"].values\n",
    "X_train, X_test, y_train, y_test = train_test_split(X, y, test_size=0.3, random_state=42)\n",
    "\n",
    "logreg.fit(X_train, y_train)\n",
    "\n",
    "y_pred = logreg.predict(X_test)\n",
    "\n",
    "####################################################################################################\n",
    "\n",
    "# 2) Predicting probabilities\n",
    "\n",
    "y_pred_prob = logreg.predict_proba(X_test)[:, 1] #probability of the predicted labels being 1\n",
    "print(\"Probability that the first observation has churned:\", y_pred_prob[0], \"\\n\") \n",
    "\n",
    "# Probability thresholds\n",
    "\n",
    "# By default, the logistic regression threshold = 0.5\n",
    "# this is not specific to logistic regression (k-NN also have thresholds)\n",
    "# What happens if we vary this threshold?\n",
    "# in particular, what happens to the true positive and false positive rates?\n",
    "\n",
    "# The ROC curve ---> Receiver Operating Characteristics curve\n",
    "# threshold = 0 ==> true positive rate == false positive rate == 1\n",
    "# threshold = 1 ==> true positive rate == false positive rate == 0\n",
    "#       It tells how much the model is capable of distinguishing between classes.\n",
    "\n",
    "# Receiver Operating Characteristic (ROC)\n",
    "from sklearn.metrics import roc_curve \n",
    "\n",
    "roc = roc_curve(y_test, y_pred_prob)\n",
    "print(\"ROC curve API given number of arrays:\", len(roc))\n",
    "fpr, tpr, thresholds = roc\n",
    "\n",
    "plt.plot([0, 1], [0, 1], 'k--')\n",
    "plt.plot(fpr, tpr, label='LogisticRegression')\n",
    "plt.xlabel(\"False Positive Rate (fpr)\")\n",
    "plt.ylabel(\"True Positive Rate (tpr)\")\n",
    "plt.title(\"Logistic Regression ROC Curve\")\n",
    "plt.show()\n",
    "\n",
    "######\n",
    "\n",
    "# Larger area under the ROC curve = better model\n",
    "\n",
    "from sklearn.metrics import roc_auc_score\n",
    "\n",
    "print(\"ROC auc score: \", roc_auc_score(y_test, y_pred_prob))\n"
   ]
  },
  {
   "cell_type": "code",
   "execution_count": 46,
   "id": "417f8ec4-dcae-4330-801c-803ef1dcc896",
   "metadata": {},
   "outputs": [
    {
     "data": {
      "text/plain": [
       "array([[0.8117398 , 0.1882602 ],\n",
       "       [0.92532353, 0.07467647],\n",
       "       [0.98042725, 0.01957275],\n",
       "       ...,\n",
       "       [0.9417008 , 0.0582992 ],\n",
       "       [0.84293751, 0.15706249],\n",
       "       [0.91873664, 0.08126336]])"
      ]
     },
     "execution_count": 46,
     "metadata": {},
     "output_type": "execute_result"
    }
   ],
   "source": [
    "logreg.predict_proba(X_test)"
   ]
  },
  {
   "cell_type": "code",
   "execution_count": 47,
   "id": "4d8b4394-f8c7-4e6b-884b-61613964f9d5",
   "metadata": {},
   "outputs": [
    {
     "data": {
      "text/html": [
       "<div>\n",
       "<style scoped>\n",
       "    .dataframe tbody tr th:only-of-type {\n",
       "        vertical-align: middle;\n",
       "    }\n",
       "\n",
       "    .dataframe tbody tr th {\n",
       "        vertical-align: top;\n",
       "    }\n",
       "\n",
       "    .dataframe thead th {\n",
       "        text-align: right;\n",
       "    }\n",
       "</style>\n",
       "<table border=\"1\" class=\"dataframe\">\n",
       "  <thead>\n",
       "    <tr style=\"text-align: right;\">\n",
       "      <th></th>\n",
       "      <th>pregnancies</th>\n",
       "      <th>glucose</th>\n",
       "      <th>diastolic</th>\n",
       "      <th>triceps</th>\n",
       "      <th>insulin</th>\n",
       "      <th>bmi</th>\n",
       "      <th>dpf</th>\n",
       "      <th>age</th>\n",
       "      <th>diabetes</th>\n",
       "    </tr>\n",
       "  </thead>\n",
       "  <tbody>\n",
       "    <tr>\n",
       "      <th>0</th>\n",
       "      <td>6</td>\n",
       "      <td>148</td>\n",
       "      <td>72</td>\n",
       "      <td>35</td>\n",
       "      <td>0</td>\n",
       "      <td>33.6</td>\n",
       "      <td>0.627</td>\n",
       "      <td>50</td>\n",
       "      <td>1</td>\n",
       "    </tr>\n",
       "    <tr>\n",
       "      <th>1</th>\n",
       "      <td>1</td>\n",
       "      <td>85</td>\n",
       "      <td>66</td>\n",
       "      <td>29</td>\n",
       "      <td>0</td>\n",
       "      <td>26.6</td>\n",
       "      <td>0.351</td>\n",
       "      <td>31</td>\n",
       "      <td>0</td>\n",
       "    </tr>\n",
       "  </tbody>\n",
       "</table>\n",
       "</div>"
      ],
      "text/plain": [
       "   pregnancies  glucose  diastolic  triceps  insulin   bmi    dpf  age  \\\n",
       "0            6      148         72       35        0  33.6  0.627   50   \n",
       "1            1       85         66       29        0  26.6  0.351   31   \n",
       "\n",
       "   diabetes  \n",
       "0         1  \n",
       "1         0  "
      ]
     },
     "metadata": {},
     "output_type": "display_data"
    },
    {
     "name": "stdout",
     "output_type": "stream",
     "text": [
      "First 10 probabilities predicted:\n",
      "[0.26655163 0.19015617 0.12360057 0.14564553 0.50456804 0.45330293\n",
      " 0.01327985 0.59610424 0.56325765 0.79990887]\n",
      "CPU times: user 35.6 ms, sys: 2.95 ms, total: 38.6 ms\n",
      "Wall time: 12.5 ms\n"
     ]
    }
   ],
   "source": [
    "%%time\n",
    "\n",
    "# Import LogisticRegression\n",
    "from sklearn.linear_model import LogisticRegression\n",
    "\n",
    "# Instantiate the model\n",
    "logreg = LogisticRegression(max_iter=1000)\n",
    "\n",
    "display(diabetes_df.head(2))\n",
    "X = diabetes_df.drop(\"diabetes\", axis=1).values\n",
    "y = diabetes_df[\"diabetes\"].values\n",
    "X_train, X_test, y_train, y_test = train_test_split(X, y, test_size=0.3, random_state=42)\n",
    "\n",
    "# Fit the model\n",
    "logreg.fit(X_train, y_train)\n",
    "\n",
    "# Predict probabilities\n",
    "print(\"First 10 probabilities predicted:\")\n",
    "y_pred_probs = logreg.predict_proba(X_test)[:, 1]\n",
    "\n",
    "print(y_pred_probs[:10])"
   ]
  },
  {
   "cell_type": "code",
   "execution_count": 48,
   "id": "efb3067e-ee75-425d-947e-ae8776cfab29",
   "metadata": {},
   "outputs": [
    {
     "data": {
      "image/png": "[encoded data removed]",
      "text/plain": [
       "<Figure size 640x480 with 1 Axes>"
      ]
     },
     "metadata": {},
     "output_type": "display_data"
    }
   ],
   "source": [
    "# Import roc_curve\n",
    "from sklearn.metrics import roc_curve \n",
    "\n",
    "# Generate ROC curve values: fpr, tpr, thresholds\n",
    "fpr, tpr, thresholds = roc_curve(y_test, y_pred_probs)\n",
    "\n",
    "plt.plot([0, 1], [0, 1], 'k--')\n",
    "\n",
    "# Plot tpr against fpr\n",
    "plt.plot(fpr, tpr)\n",
    "plt.xlabel('False Positive Rate')\n",
    "plt.ylabel('True Positive Rate')\n",
    "plt.title('ROC Curve for Diabetes Prediction')\n",
    "plt.show() \n",
    "# The ROC curve is above the dotted line, so the model performs better than randomly guessing the class of each observation."
   ]
  },
  {
   "cell_type": "code",
   "execution_count": 49,
   "id": "8fe00526-628a-417a-aecd-50680e6b6b05",
   "metadata": {},
   "outputs": [
    {
     "name": "stdout",
     "output_type": "stream",
     "text": [
      "ROC auc score for logistic regression:  0.796523178807947\n",
      "\n",
      "\n",
      "KNN model:\n",
      "[[124  27]\n",
      " [ 42  38]]\n",
      "              precision    recall  f1-score   support\n",
      "\n",
      "           0       0.75      0.82      0.78       151\n",
      "           1       0.58      0.47      0.52        80\n",
      "\n",
      "    accuracy                           0.70       231\n",
      "   macro avg       0.67      0.65      0.65       231\n",
      "weighted avg       0.69      0.70      0.69       231\n",
      "\n"
     ]
    }
   ],
   "source": [
    "# Import roc_auc_score\n",
    "from sklearn.metrics import roc_auc_score, confusion_matrix, classification_report\n",
    "\n",
    "# Calculate roc_auc_score\n",
    "print(\"ROC auc score for logistic regression: \", roc_auc_score(y_test, y_pred_probs))\n",
    "print(\"\\n\")\n",
    "\n",
    "#########\n",
    "\n",
    "# Compare with a KNN model\n",
    "knn = KNeighborsClassifier(n_neighbors=6)\n",
    "knn.fit(X_train, y_train)\n",
    "y_pred = knn.predict(X_test)\n",
    "\n",
    "# Calculate the confusion matrix\n",
    "print(\"KNN model:\")\n",
    "print(confusion_matrix(y_test, y_pred))\n",
    "\n",
    "# Calculate the classification report\n",
    "print(classification_report(y_test, y_pred))"
   ]
  },
  {
   "cell_type": "markdown",
   "id": "901d5b94-2cf4-4c72-ac82-072fbdbefbed",
   "metadata": {},
   "source": [
    " logistic regression performs better than the KNN model across all the metrics you calculated? A ROC AUC score of 0.8002 means this model is 60% better than a chance model at correctly predicting labels! scikit-learn makes it easy to produce several classification metrics with only a few lines of code."
   ]
  },
  {
   "cell_type": "markdown",
   "id": "fbb65bab-bcbb-4587-81ce-6830926f8ada",
   "metadata": {},
   "source": [
    "## Hyperparameter tuning"
   ]
  },
  {
   "cell_type": "code",
   "execution_count": 50,
   "id": "7fa9a9ea-6c5d-4b52-a756-8ed7abe83b88",
   "metadata": {},
   "outputs": [
    {
     "name": "stdout",
     "output_type": "stream",
     "text": [
      "Best parameters:  {'alpha': 0.2223, 'solver': 'sag'}\n",
      "Best score:  0.7504589664461182\n",
      "\n",
      "Best parameters:  {'solver': 'lsqr', 'alpha': 0.7778}\n",
      "Best score:  0.7504583109956791\n",
      "0.7608817222331866\n"
     ]
    }
   ],
   "source": [
    "#vídeo\n",
    "\n",
    "# Linear regression: Choosing parameters\n",
    "# Ridge/Lasso regression: Choosing 'alpha'\n",
    "# k-Nearest Neighbors: Choosing 'n_neighbors'\n",
    "# Parameters like 'alpha' and 'k': Hyperparameters\n",
    "# that is, Hyperparameters cannot be learned by fitting the model\n",
    "\n",
    "# Choosing the correct Hyperparameter is key\n",
    "\n",
    "# traditional method (hyperparameter tuning): \n",
    "#   - try different hyperparameter values\n",
    "#   - fit them all separately\n",
    "#   - see how well each performs\n",
    "#   - choose the best\n",
    "\n",
    "# ---->> It's essential to use cross-validation, train-test split alone would risk overfitting the hyperparameters to \n",
    "#        the test set.\n",
    "# a seguir vamos ver que: \n",
    "#   even after tuning the hyperparameter using cross-validation, we'll want to already split off a test set in order to \n",
    "#   report how well our model can be expected to perform on a data set that has never seen before\n",
    "\n",
    "# Grid search cross-validation\n",
    "from sklearn.model_selection import GridSearchCV\n",
    "\n",
    "# keys are the hyperparameter names [n_neighbors (k-NN), alpha(Ridge/Lasso)]\n",
    "param_grid = {\"n_neighbors\": [11, 8, 5, 2], \n",
    "              \"metric\": ['euclidian', 'manhattan', 'cosine']}  # for KNN model\n",
    "# (see the documentation on each model for the name of parameters)\n",
    "\n",
    "# knn = KNeighborsClassifier()\n",
    "# knn_cv = GridSearchCV(knn, param_grid, cv=5)\n",
    "\n",
    "# X = churn_df[[\"total_day_charge\", \"total_eve_charge\"]].values\n",
    "# y = churn_df[\"churn\"].values\n",
    "\n",
    "# knn_cv.fit(X, y)  # this fit performs the actual Gridsearch in place    \n",
    "\n",
    "# # best parameters\n",
    "# print(knn_cv.best_params_)\n",
    "\n",
    "# # best score\n",
    "# print(knn_cv.best_score_)\n",
    "\n",
    "#################################################################################\n",
    "\n",
    "# Grid search cross-validation\n",
    "from sklearn.model_selection import GridSearchCV, KFold\n",
    "from sklearn.linear_model import Ridge\n",
    "\n",
    "# using sales dataset\n",
    "X = sales_df[[\"radio\", \"social_media\"]].values\n",
    "y = sales_df[\"sales\"].values\n",
    "X_train, X_test, y_train, y_test = train_test_split(X, y, test_size=0.3, random_state=42)\n",
    "\n",
    "kf = KFold(n_splits=5, shuffle=True, random_state=42)\n",
    "\n",
    "param_grid = {\"alpha\": np.linspace(0.0001, 1, 10),\n",
    "              \"solver\": [\"sag\", \"lsqr\"]}\n",
    "\n",
    "ridge = Ridge()\n",
    "ridge_cv = GridSearchCV(ridge, param_grid, cv=kf)\n",
    "\n",
    "ridge_cv.fit(X_train, y_train) # this fit provides the actual cross-validated grid search\n",
    "\n",
    "print(\"Best parameters: \", ridge_cv.best_params_)\n",
    "print(\"Best score: \", ridge_cv.best_score_)\n",
    "\n",
    "#################################################################################\n",
    "\n",
    "# vamos ver tb 'RandomizedSearchCV' - it's similar but jumps around the grid\n",
    "\n",
    "from sklearn.model_selection import RandomizedSearchCV, KFold\n",
    "from sklearn.linear_model import Ridge\n",
    "\n",
    "kf = KFold(n_splits=5, shuffle=True, random_state=42)\n",
    "param_grid = {\"alpha\": np.linspace(0.0001, 1, 10),\n",
    "              \"solver\": [\"sag\", \"lsqr\"]}\n",
    "\n",
    "ridge = Ridge()\n",
    "ridge_cv = RandomizedSearchCV(ridge, param_grid, cv=kf, n_iter=2)#n_iter is nr of hyperp tested. 5-fold+n_iter=2 => 10 fits\n",
    "\n",
    "ridge_cv.fit(X_train, y_train) # this fit provides the actual cross-validated grid search\n",
    "\n",
    "print(\"\\nBest parameters: \", ridge_cv.best_params_)\n",
    "print(\"Best score: \", ridge_cv.best_score_)\n",
    "\n",
    "#################################################################################\n",
    "\n",
    "# Evaluating on the test set\n",
    "\n",
    "test_score = ridge_cv.score(X_test, y_test)\n",
    "print(test_score)"
   ]
  },
  {
   "cell_type": "code",
   "execution_count": 51,
   "id": "57e68f62-c23c-414d-b257-5d35179b550a",
   "metadata": {},
   "outputs": [],
   "source": [
    "####"
   ]
  },
  {
   "cell_type": "code",
   "execution_count": 52,
   "id": "e106b28f-bd45-435c-bc30-977a0bc0bd4e",
   "metadata": {},
   "outputs": [
    {
     "name": "stdout",
     "output_type": "stream",
     "text": [
      "Tuned lasso paramaters: {'alpha': 1e-05}\n",
      "Tuned lasso score: 0.30096121029837625\n"
     ]
    }
   ],
   "source": [
    "from sklearn.linear_model import Lasso\n",
    "from sklearn.model_selection import KFold\n",
    "\n",
    "X = diabetes_df.drop(\"diabetes\", axis=1).values\n",
    "y = diabetes_df[\"diabetes\"].values\n",
    "X_train, X_test, y_train, y_test = train_test_split(X, y, test_size=0.3, random_state=42)\n",
    "lasso = Lasso()\n",
    "kf = KFold(n_splits=8, shuffle=True, random_state=42)\n",
    "\n",
    "##\n",
    "\n",
    "# Import GridSearchCV\n",
    "from sklearn.model_selection import GridSearchCV\n",
    "\n",
    "# Set up the parameter grid\n",
    "param_grid = {\"alpha\": np.linspace(0.00001, 1, 20)}\n",
    "\n",
    "# Instantiate lasso_cv\n",
    "lasso_cv = GridSearchCV(lasso, param_grid, cv=kf)\n",
    "\n",
    "# Fit to the training data\n",
    "lasso_cv.fit(X_train, y_train)\n",
    "print(\"Tuned lasso paramaters: {}\".format(lasso_cv.best_params_))\n",
    "print(\"Tuned lasso score: {}\".format(lasso_cv.best_score_))"
   ]
  },
  {
   "cell_type": "markdown",
   "id": "c6837252-c8ae-49e7-8dc9-cac15ea85777",
   "metadata": {},
   "source": [
    "Unfortunately, the best model only has an R-squared score of 0.30, highlighting that using the optimal hyperparameters does not guarantee a high performing model"
   ]
  },
  {
   "cell_type": "code",
   "execution_count": null,
   "id": "f84ea05f-0c68-46b5-8dbb-8aa4ab788f3e",
   "metadata": {},
   "outputs": [],
   "source": []
  },
  {
   "cell_type": "markdown",
   "id": "1bc2ec33-2946-4ac9-bde8-e91490d26249",
   "metadata": {},
   "source": [
    "As you saw, GridSearchCV can be computationally expensive, especially if you are searching over a large hyperparameter space. In this case, you can use RandomizedSearchCV, which tests a fixed number of hyperparameter settings from specified probability distributions.\n",
    "\n",
    "Training and test sets from diabetes_df have been pre-loaded for you as X_train. X_test, y_train, and y_test, where the target is \"diabetes\". A logistic regression model has been created and stored as logreg, as well as a KFold variable stored as kf.\n",
    "\n",
    "You will define a range of hyperparameters and use RandomizedSearchCV, which has been imported from sklearn.model_selection, to look for optimal hyperparameters from these options."
   ]
  },
  {
   "cell_type": "code",
   "execution_count": 53,
   "id": "96dd532b-3996-46d4-b139-eccce53497c2",
   "metadata": {},
   "outputs": [],
   "source": [
    "from sklearn.linear_model import LogisticRegression\n",
    "from sklearn.model_selection import KFold\n",
    "\n",
    "logreg = LogisticRegression(max_iter=1000)\n",
    "\n",
    "X = diabetes_df.drop(\"diabetes\", axis=1).values\n",
    "y = diabetes_df[\"diabetes\"].values\n",
    "X_train, X_test, y_train, y_test = train_test_split(X, y, test_size=0.3, random_state=42)\n",
    "\n",
    "kf = KFold(n_splits=5, shuffle=True, random_state=42)"
   ]
  },
  {
   "cell_type": "code",
   "execution_count": 54,
   "id": "db30dba0-7fd2-4f9c-8fb4-219364ef504e",
   "metadata": {},
   "outputs": [
    {
     "name": "stdout",
     "output_type": "stream",
     "text": [
      "Tuned Logistic Regression Parameters: {'tol': 0.8571571428571428, 'penalty': 'l2', 'class_weight': {0: 0.8, 1: 0.2}, 'C': 0.7428571428571429}\n",
      "Tuned Logistic Regression Best Accuracy Score: 0.636846659743856\n"
     ]
    },
    {
     "name": "stderr",
     "output_type": "stream",
     "text": [
      "/opt/anaconda3/lib/python3.10/site-packages/sklearn/model_selection/_validation.py:540: FitFailedWarning: \n",
      "30 fits failed out of a total of 50.\n",
      "The score on these train-test partitions for these parameters will be set to nan.\n",
      "If these failures are not expected, you can try to debug them by setting error_score='raise'.\n",
      "\n",
      "Below are more details about the failures:\n",
      "--------------------------------------------------------------------------------\n",
      "30 fits failed with the following error:\n",
      "Traceback (most recent call last):\n",
      "  File \"/opt/anaconda3/lib/python3.10/site-packages/sklearn/model_selection/_validation.py\", line 888, in _fit_and_score\n",
      "    estimator.fit(X_train, y_train, **fit_params)\n",
      "  File \"/opt/anaconda3/lib/python3.10/site-packages/sklearn/base.py\", line 1473, in wrapper\n",
      "    return fit_method(estimator, *args, **kwargs)\n",
      "  File \"/opt/anaconda3/lib/python3.10/site-packages/sklearn/linear_model/_logistic.py\", line 1194, in fit\n",
      "    solver = _check_solver(self.solver, self.penalty, self.dual)\n",
      "  File \"/opt/anaconda3/lib/python3.10/site-packages/sklearn/linear_model/_logistic.py\", line 67, in _check_solver\n",
      "    raise ValueError(\n",
      "ValueError: Solver lbfgs supports only 'l2' or None penalties, got l1 penalty.\n",
      "\n",
      "  warnings.warn(some_fits_failed_message, FitFailedWarning)\n",
      "/opt/anaconda3/lib/python3.10/site-packages/sklearn/model_selection/_search.py:1102: UserWarning: One or more of the test scores are non-finite: [       nan 0.62755279        nan        nan        nan        nan\n",
      " 0.63310834 0.63684666 0.62381447        nan]\n",
      "  warnings.warn(\n"
     ]
    }
   ],
   "source": [
    "# Create the parameter space\n",
    "params = {\"penalty\": [\"l1\", \"l2\"],\n",
    "         \"tol\": np.linspace(0.0001, 1.0, 50),\n",
    "         \"C\": np.linspace(0.1, 1, 50),\n",
    "         \"class_weight\": [\"balanced\", {0:0.8, 1:0.2}]}\n",
    "\n",
    "# Instantiate the RandomizedSearchCV object\n",
    "logreg_cv = RandomizedSearchCV(logreg, params, cv=kf)\n",
    "\n",
    "# Fit the data to the model\n",
    "logreg_cv.fit(X_train, y_train)\n",
    "\n",
    "# Print the tuned parameters and score\n",
    "print(\"Tuned Logistic Regression Parameters: {}\".format(logreg_cv.best_params_))\n",
    "print(\"Tuned Logistic Regression Best Accuracy Score: {}\".format(logreg_cv.best_score_))"
   ]
  },
  {
   "cell_type": "code",
   "execution_count": null,
   "id": "18be4a7d-bd83-4fbd-b89f-9b8a110ed0e4",
   "metadata": {},
   "outputs": [],
   "source": []
  },
  {
   "cell_type": "code",
   "execution_count": null,
   "id": "ef1e9626-cd40-4a8d-84fb-37ffb9749be0",
   "metadata": {},
   "outputs": [],
   "source": []
  },
  {
   "cell_type": "markdown",
   "id": "0c0d5102-776d-4b76-87e7-234e538525bb",
   "metadata": {},
   "source": [
    "# 4) Preprocessing and Pipelines"
   ]
  },
  {
   "cell_type": "markdown",
   "id": "fe25a029-890b-415a-a419-ffe43bf87ada",
   "metadata": {},
   "source": [
    "## Preprocessing data"
   ]
  },
  {
   "cell_type": "code",
   "execution_count": 55,
   "id": "4fb1f563-711d-444f-9654-da23b9041ef4",
   "metadata": {},
   "outputs": [],
   "source": [
    "# vídeo (ver abaixo)\n",
    "\n",
    "# Dealing with categorical features\n",
    "\n",
    "# Scikit-learn will not accept categorical features by default\n",
    "# --> need to encode categorical features numerically\n",
    "# Convert to 'dummy variables':\n",
    "#    0: observation was not that category\n",
    "#    1: observation was that category\n",
    "# attention with the duplication of variables/information- scikit-learn may not be able to deal with this (0, 0, 1)\n",
    "\n",
    "# Dealing with categorical features in Python:\n",
    "# ---> scikit-learn: OneHotEncoder()\n",
    "# ---> pandas: get_dummies()\n",
    "\n",
    "# Music dataset\n",
    "# popularity: target variable\n",
    "# genre: categorical feature "
   ]
  },
  {
   "cell_type": "code",
   "execution_count": 56,
   "id": "5e620bef-a1dc-499f-8059-71b2e8dedfd4",
   "metadata": {},
   "outputs": [
    {
     "data": {
      "image/png": "[encoded data removed]",
      "text/plain": [
       "<Figure size 640x480 with 1 Axes>"
      ]
     },
     "metadata": {},
     "output_type": "display_data"
    }
   ],
   "source": [
    "# EDA with categorical features\n",
    "sns.boxplot(x='influencer', y='sales', data=sales_df, hue='influencer', palette=\"RdBu\")\n",
    "plt.title(\"Sales by influencer\")\n",
    "plt.show()"
   ]
  },
  {
   "cell_type": "code",
   "execution_count": 57,
   "id": "5f902eeb-b2c2-497b-8ecd-b483a6f21160",
   "metadata": {},
   "outputs": [
    {
     "data": {
      "text/html": [
       "<div>\n",
       "<style scoped>\n",
       "    .dataframe tbody tr th:only-of-type {\n",
       "        vertical-align: middle;\n",
       "    }\n",
       "\n",
       "    .dataframe tbody tr th {\n",
       "        vertical-align: top;\n",
       "    }\n",
       "\n",
       "    .dataframe thead th {\n",
       "        text-align: right;\n",
       "    }\n",
       "</style>\n",
       "<table border=\"1\" class=\"dataframe\">\n",
       "  <thead>\n",
       "    <tr style=\"text-align: right;\">\n",
       "      <th></th>\n",
       "      <th>tv</th>\n",
       "      <th>radio</th>\n",
       "      <th>social_media</th>\n",
       "      <th>influencer</th>\n",
       "      <th>sales</th>\n",
       "    </tr>\n",
       "  </thead>\n",
       "  <tbody>\n",
       "    <tr>\n",
       "      <th>0</th>\n",
       "      <td>16000.0</td>\n",
       "      <td>6566.23</td>\n",
       "      <td>2907.98</td>\n",
       "      <td>Mega</td>\n",
       "      <td>54732.76</td>\n",
       "    </tr>\n",
       "    <tr>\n",
       "      <th>1</th>\n",
       "      <td>13000.0</td>\n",
       "      <td>9237.76</td>\n",
       "      <td>2409.57</td>\n",
       "      <td>Mega</td>\n",
       "      <td>46677.90</td>\n",
       "    </tr>\n",
       "  </tbody>\n",
       "</table>\n",
       "</div>"
      ],
      "text/plain": [
       "        tv    radio  social_media influencer     sales\n",
       "0  16000.0  6566.23       2907.98       Mega  54732.76\n",
       "1  13000.0  9237.76       2409.57       Mega  46677.90"
      ]
     },
     "metadata": {},
     "output_type": "display_data"
    },
    {
     "data": {
      "text/plain": [
       "influencer\n",
       "Mega     1152\n",
       "Micro    1148\n",
       "Nano     1134\n",
       "Macro    1112\n",
       "Name: count, dtype: int64"
      ]
     },
     "execution_count": 57,
     "metadata": {},
     "output_type": "execute_result"
    }
   ],
   "source": [
    "# Encoding dummy variables (with pandas)\n",
    "display(sales_df.head(2))\n",
    "sales_df[\"influencer\"].value_counts()"
   ]
  },
  {
   "cell_type": "code",
   "execution_count": 58,
   "id": "2cb2e733-68ab-4224-8bae-15c6260e68f2",
   "metadata": {},
   "outputs": [
    {
     "data": {
      "text/html": [
       "<div>\n",
       "<style scoped>\n",
       "    .dataframe tbody tr th:only-of-type {\n",
       "        vertical-align: middle;\n",
       "    }\n",
       "\n",
       "    .dataframe tbody tr th {\n",
       "        vertical-align: top;\n",
       "    }\n",
       "\n",
       "    .dataframe thead th {\n",
       "        text-align: right;\n",
       "    }\n",
       "</style>\n",
       "<table border=\"1\" class=\"dataframe\">\n",
       "  <thead>\n",
       "    <tr style=\"text-align: right;\">\n",
       "      <th></th>\n",
       "      <th>Mega</th>\n",
       "      <th>Micro</th>\n",
       "      <th>Nano</th>\n",
       "    </tr>\n",
       "  </thead>\n",
       "  <tbody>\n",
       "    <tr>\n",
       "      <th>0</th>\n",
       "      <td>True</td>\n",
       "      <td>False</td>\n",
       "      <td>False</td>\n",
       "    </tr>\n",
       "    <tr>\n",
       "      <th>1</th>\n",
       "      <td>True</td>\n",
       "      <td>False</td>\n",
       "      <td>False</td>\n",
       "    </tr>\n",
       "    <tr>\n",
       "      <th>2</th>\n",
       "      <td>True</td>\n",
       "      <td>False</td>\n",
       "      <td>False</td>\n",
       "    </tr>\n",
       "    <tr>\n",
       "      <th>3</th>\n",
       "      <td>True</td>\n",
       "      <td>False</td>\n",
       "      <td>False</td>\n",
       "    </tr>\n",
       "    <tr>\n",
       "      <th>4</th>\n",
       "      <td>False</td>\n",
       "      <td>True</td>\n",
       "      <td>False</td>\n",
       "    </tr>\n",
       "  </tbody>\n",
       "</table>\n",
       "</div>"
      ],
      "text/plain": [
       "    Mega  Micro   Nano\n",
       "0   True  False  False\n",
       "1   True  False  False\n",
       "2   True  False  False\n",
       "3   True  False  False\n",
       "4  False   True  False"
      ]
     },
     "execution_count": 58,
     "metadata": {},
     "output_type": "execute_result"
    }
   ],
   "source": [
    "# Encoding dummy variables (with pandas) -> get dummies\n",
    "sales_dummies = pd.get_dummies(sales_df[\"influencer\"], drop_first=True)\n",
    "sales_dummies.head()"
   ]
  },
  {
   "cell_type": "code",
   "execution_count": 59,
   "id": "06447e86-5c53-4afd-9517-47fb9448a5db",
   "metadata": {},
   "outputs": [
    {
     "data": {
      "text/html": [
       "<div>\n",
       "<style scoped>\n",
       "    .dataframe tbody tr th:only-of-type {\n",
       "        vertical-align: middle;\n",
       "    }\n",
       "\n",
       "    .dataframe tbody tr th {\n",
       "        vertical-align: top;\n",
       "    }\n",
       "\n",
       "    .dataframe thead th {\n",
       "        text-align: right;\n",
       "    }\n",
       "</style>\n",
       "<table border=\"1\" class=\"dataframe\">\n",
       "  <thead>\n",
       "    <tr style=\"text-align: right;\">\n",
       "      <th></th>\n",
       "      <th>tv</th>\n",
       "      <th>radio</th>\n",
       "      <th>social_media</th>\n",
       "      <th>influencer</th>\n",
       "      <th>sales</th>\n",
       "      <th>Mega</th>\n",
       "      <th>Micro</th>\n",
       "      <th>Nano</th>\n",
       "    </tr>\n",
       "  </thead>\n",
       "  <tbody>\n",
       "    <tr>\n",
       "      <th>0</th>\n",
       "      <td>16000.0</td>\n",
       "      <td>6566.23</td>\n",
       "      <td>2907.98</td>\n",
       "      <td>Mega</td>\n",
       "      <td>54732.76</td>\n",
       "      <td>True</td>\n",
       "      <td>False</td>\n",
       "      <td>False</td>\n",
       "    </tr>\n",
       "    <tr>\n",
       "      <th>1</th>\n",
       "      <td>13000.0</td>\n",
       "      <td>9237.76</td>\n",
       "      <td>2409.57</td>\n",
       "      <td>Mega</td>\n",
       "      <td>46677.90</td>\n",
       "      <td>True</td>\n",
       "      <td>False</td>\n",
       "      <td>False</td>\n",
       "    </tr>\n",
       "    <tr>\n",
       "      <th>2</th>\n",
       "      <td>41000.0</td>\n",
       "      <td>15886.45</td>\n",
       "      <td>2913.41</td>\n",
       "      <td>Mega</td>\n",
       "      <td>150177.83</td>\n",
       "      <td>True</td>\n",
       "      <td>False</td>\n",
       "      <td>False</td>\n",
       "    </tr>\n",
       "    <tr>\n",
       "      <th>3</th>\n",
       "      <td>83000.0</td>\n",
       "      <td>30020.03</td>\n",
       "      <td>6922.30</td>\n",
       "      <td>Mega</td>\n",
       "      <td>298246.34</td>\n",
       "      <td>True</td>\n",
       "      <td>False</td>\n",
       "      <td>False</td>\n",
       "    </tr>\n",
       "    <tr>\n",
       "      <th>4</th>\n",
       "      <td>15000.0</td>\n",
       "      <td>8437.41</td>\n",
       "      <td>1406.00</td>\n",
       "      <td>Micro</td>\n",
       "      <td>56594.18</td>\n",
       "      <td>False</td>\n",
       "      <td>True</td>\n",
       "      <td>False</td>\n",
       "    </tr>\n",
       "  </tbody>\n",
       "</table>\n",
       "</div>"
      ],
      "text/plain": [
       "        tv     radio  social_media influencer      sales   Mega  Micro   Nano\n",
       "0  16000.0   6566.23       2907.98       Mega   54732.76   True  False  False\n",
       "1  13000.0   9237.76       2409.57       Mega   46677.90   True  False  False\n",
       "2  41000.0  15886.45       2913.41       Mega  150177.83   True  False  False\n",
       "3  83000.0  30020.03       6922.30       Mega  298246.34   True  False  False\n",
       "4  15000.0   8437.41       1406.00      Micro   56594.18  False   True  False"
      ]
     },
     "metadata": {},
     "output_type": "display_data"
    },
    {
     "data": {
      "text/html": [
       "<div>\n",
       "<style scoped>\n",
       "    .dataframe tbody tr th:only-of-type {\n",
       "        vertical-align: middle;\n",
       "    }\n",
       "\n",
       "    .dataframe tbody tr th {\n",
       "        vertical-align: top;\n",
       "    }\n",
       "\n",
       "    .dataframe thead th {\n",
       "        text-align: right;\n",
       "    }\n",
       "</style>\n",
       "<table border=\"1\" class=\"dataframe\">\n",
       "  <thead>\n",
       "    <tr style=\"text-align: right;\">\n",
       "      <th></th>\n",
       "      <th>tv</th>\n",
       "      <th>radio</th>\n",
       "      <th>social_media</th>\n",
       "      <th>sales</th>\n",
       "      <th>Mega</th>\n",
       "      <th>Micro</th>\n",
       "      <th>Nano</th>\n",
       "    </tr>\n",
       "  </thead>\n",
       "  <tbody>\n",
       "    <tr>\n",
       "      <th>0</th>\n",
       "      <td>16000.0</td>\n",
       "      <td>6566.23</td>\n",
       "      <td>2907.98</td>\n",
       "      <td>54732.76</td>\n",
       "      <td>True</td>\n",
       "      <td>False</td>\n",
       "      <td>False</td>\n",
       "    </tr>\n",
       "    <tr>\n",
       "      <th>1</th>\n",
       "      <td>13000.0</td>\n",
       "      <td>9237.76</td>\n",
       "      <td>2409.57</td>\n",
       "      <td>46677.90</td>\n",
       "      <td>True</td>\n",
       "      <td>False</td>\n",
       "      <td>False</td>\n",
       "    </tr>\n",
       "    <tr>\n",
       "      <th>2</th>\n",
       "      <td>41000.0</td>\n",
       "      <td>15886.45</td>\n",
       "      <td>2913.41</td>\n",
       "      <td>150177.83</td>\n",
       "      <td>True</td>\n",
       "      <td>False</td>\n",
       "      <td>False</td>\n",
       "    </tr>\n",
       "    <tr>\n",
       "      <th>3</th>\n",
       "      <td>83000.0</td>\n",
       "      <td>30020.03</td>\n",
       "      <td>6922.30</td>\n",
       "      <td>298246.34</td>\n",
       "      <td>True</td>\n",
       "      <td>False</td>\n",
       "      <td>False</td>\n",
       "    </tr>\n",
       "    <tr>\n",
       "      <th>4</th>\n",
       "      <td>15000.0</td>\n",
       "      <td>8437.41</td>\n",
       "      <td>1406.00</td>\n",
       "      <td>56594.18</td>\n",
       "      <td>False</td>\n",
       "      <td>True</td>\n",
       "      <td>False</td>\n",
       "    </tr>\n",
       "  </tbody>\n",
       "</table>\n",
       "</div>"
      ],
      "text/plain": [
       "        tv     radio  social_media      sales   Mega  Micro   Nano\n",
       "0  16000.0   6566.23       2907.98   54732.76   True  False  False\n",
       "1  13000.0   9237.76       2409.57   46677.90   True  False  False\n",
       "2  41000.0  15886.45       2913.41  150177.83   True  False  False\n",
       "3  83000.0  30020.03       6922.30  298246.34   True  False  False\n",
       "4  15000.0   8437.41       1406.00   56594.18  False   True  False"
      ]
     },
     "metadata": {},
     "output_type": "display_data"
    }
   ],
   "source": [
    "# join the dummies df created with original dataframe\n",
    "sales_df_dummies = pd.concat([sales_df, sales_dummies], axis=1)\n",
    "display(sales_df_dummies.head())\n",
    "\n",
    "# remove the 'influencer' (categorical) column\n",
    "sales_df_2 = sales_df_dummies.drop(\"influencer\", axis=1)\n",
    "display(sales_df_2.head())"
   ]
  },
  {
   "cell_type": "code",
   "execution_count": 60,
   "id": "614aa355-8db0-4c0d-ab25-db0debf82070",
   "metadata": {},
   "outputs": [
    {
     "data": {
      "text/html": [
       "<div>\n",
       "<style scoped>\n",
       "    .dataframe tbody tr th:only-of-type {\n",
       "        vertical-align: middle;\n",
       "    }\n",
       "\n",
       "    .dataframe tbody tr th {\n",
       "        vertical-align: top;\n",
       "    }\n",
       "\n",
       "    .dataframe thead th {\n",
       "        text-align: right;\n",
       "    }\n",
       "</style>\n",
       "<table border=\"1\" class=\"dataframe\">\n",
       "  <thead>\n",
       "    <tr style=\"text-align: right;\">\n",
       "      <th></th>\n",
       "      <th>tv</th>\n",
       "      <th>radio</th>\n",
       "      <th>social_media</th>\n",
       "      <th>sales</th>\n",
       "      <th>influencer_Mega</th>\n",
       "      <th>influencer_Micro</th>\n",
       "      <th>influencer_Nano</th>\n",
       "    </tr>\n",
       "  </thead>\n",
       "  <tbody>\n",
       "    <tr>\n",
       "      <th>0</th>\n",
       "      <td>16000.0</td>\n",
       "      <td>6566.23</td>\n",
       "      <td>2907.98</td>\n",
       "      <td>54732.76</td>\n",
       "      <td>True</td>\n",
       "      <td>False</td>\n",
       "      <td>False</td>\n",
       "    </tr>\n",
       "    <tr>\n",
       "      <th>1</th>\n",
       "      <td>13000.0</td>\n",
       "      <td>9237.76</td>\n",
       "      <td>2409.57</td>\n",
       "      <td>46677.90</td>\n",
       "      <td>True</td>\n",
       "      <td>False</td>\n",
       "      <td>False</td>\n",
       "    </tr>\n",
       "    <tr>\n",
       "      <th>2</th>\n",
       "      <td>41000.0</td>\n",
       "      <td>15886.45</td>\n",
       "      <td>2913.41</td>\n",
       "      <td>150177.83</td>\n",
       "      <td>True</td>\n",
       "      <td>False</td>\n",
       "      <td>False</td>\n",
       "    </tr>\n",
       "    <tr>\n",
       "      <th>3</th>\n",
       "      <td>83000.0</td>\n",
       "      <td>30020.03</td>\n",
       "      <td>6922.30</td>\n",
       "      <td>298246.34</td>\n",
       "      <td>True</td>\n",
       "      <td>False</td>\n",
       "      <td>False</td>\n",
       "    </tr>\n",
       "    <tr>\n",
       "      <th>4</th>\n",
       "      <td>15000.0</td>\n",
       "      <td>8437.41</td>\n",
       "      <td>1406.00</td>\n",
       "      <td>56594.18</td>\n",
       "      <td>False</td>\n",
       "      <td>True</td>\n",
       "      <td>False</td>\n",
       "    </tr>\n",
       "  </tbody>\n",
       "</table>\n",
       "</div>"
      ],
      "text/plain": [
       "        tv     radio  social_media      sales  influencer_Mega  \\\n",
       "0  16000.0   6566.23       2907.98   54732.76             True   \n",
       "1  13000.0   9237.76       2409.57   46677.90             True   \n",
       "2  41000.0  15886.45       2913.41  150177.83             True   \n",
       "3  83000.0  30020.03       6922.30  298246.34             True   \n",
       "4  15000.0   8437.41       1406.00   56594.18            False   \n",
       "\n",
       "   influencer_Micro  influencer_Nano  \n",
       "0             False            False  \n",
       "1             False            False  \n",
       "2             False            False  \n",
       "3             False            False  \n",
       "4              True            False  "
      ]
     },
     "metadata": {},
     "output_type": "display_data"
    }
   ],
   "source": [
    "# if the dataframe has only 1 categorical feature, then it's easier to just\n",
    "sales_df_3 = pd.get_dummies(sales_df, drop_first=True)\n",
    "display(sales_df_3.head())"
   ]
  },
  {
   "cell_type": "code",
   "execution_count": 61,
   "id": "56527000-6753-47b4-89a3-37a9252746bb",
   "metadata": {},
   "outputs": [
    {
     "name": "stdout",
     "output_type": "stream",
     "text": [
      "(1000, 12)\n"
     ]
    },
    {
     "data": {
      "text/html": [
       "<div>\n",
       "<style scoped>\n",
       "    .dataframe tbody tr th:only-of-type {\n",
       "        vertical-align: middle;\n",
       "    }\n",
       "\n",
       "    .dataframe tbody tr th {\n",
       "        vertical-align: top;\n",
       "    }\n",
       "\n",
       "    .dataframe thead th {\n",
       "        text-align: right;\n",
       "    }\n",
       "</style>\n",
       "<table border=\"1\" class=\"dataframe\">\n",
       "  <thead>\n",
       "    <tr style=\"text-align: right;\">\n",
       "      <th></th>\n",
       "      <th>popularity</th>\n",
       "      <th>acousticness</th>\n",
       "      <th>danceability</th>\n",
       "      <th>duration_ms</th>\n",
       "      <th>energy</th>\n",
       "      <th>instrumentalness</th>\n",
       "      <th>liveness</th>\n",
       "      <th>loudness</th>\n",
       "      <th>speechiness</th>\n",
       "      <th>tempo</th>\n",
       "      <th>valence</th>\n",
       "      <th>genre</th>\n",
       "    </tr>\n",
       "  </thead>\n",
       "  <tbody>\n",
       "    <tr>\n",
       "      <th>36506</th>\n",
       "      <td>60.0</td>\n",
       "      <td>0.896000</td>\n",
       "      <td>0.726</td>\n",
       "      <td>214547.0</td>\n",
       "      <td>0.177</td>\n",
       "      <td>0.000002</td>\n",
       "      <td>0.1160</td>\n",
       "      <td>-14.824</td>\n",
       "      <td>0.0353</td>\n",
       "      <td>92.934</td>\n",
       "      <td>0.618</td>\n",
       "      <td>1</td>\n",
       "    </tr>\n",
       "    <tr>\n",
       "      <th>37591</th>\n",
       "      <td>63.0</td>\n",
       "      <td>0.003840</td>\n",
       "      <td>0.635</td>\n",
       "      <td>190448.0</td>\n",
       "      <td>0.908</td>\n",
       "      <td>0.083400</td>\n",
       "      <td>0.2390</td>\n",
       "      <td>-4.795</td>\n",
       "      <td>0.0563</td>\n",
       "      <td>110.012</td>\n",
       "      <td>0.637</td>\n",
       "      <td>1</td>\n",
       "    </tr>\n",
       "    <tr>\n",
       "      <th>37658</th>\n",
       "      <td>59.0</td>\n",
       "      <td>0.000075</td>\n",
       "      <td>0.352</td>\n",
       "      <td>456320.0</td>\n",
       "      <td>0.956</td>\n",
       "      <td>0.020300</td>\n",
       "      <td>0.1250</td>\n",
       "      <td>-3.634</td>\n",
       "      <td>0.1490</td>\n",
       "      <td>122.897</td>\n",
       "      <td>0.228</td>\n",
       "      <td>1</td>\n",
       "    </tr>\n",
       "    <tr>\n",
       "      <th>36060</th>\n",
       "      <td>54.0</td>\n",
       "      <td>0.945000</td>\n",
       "      <td>0.488</td>\n",
       "      <td>352280.0</td>\n",
       "      <td>0.326</td>\n",
       "      <td>0.015700</td>\n",
       "      <td>0.1190</td>\n",
       "      <td>-12.020</td>\n",
       "      <td>0.0328</td>\n",
       "      <td>106.063</td>\n",
       "      <td>0.323</td>\n",
       "      <td>1</td>\n",
       "    </tr>\n",
       "    <tr>\n",
       "      <th>35710</th>\n",
       "      <td>55.0</td>\n",
       "      <td>0.245000</td>\n",
       "      <td>0.667</td>\n",
       "      <td>273693.0</td>\n",
       "      <td>0.647</td>\n",
       "      <td>0.000297</td>\n",
       "      <td>0.0633</td>\n",
       "      <td>-7.787</td>\n",
       "      <td>0.0487</td>\n",
       "      <td>143.995</td>\n",
       "      <td>0.300</td>\n",
       "      <td>1</td>\n",
       "    </tr>\n",
       "  </tbody>\n",
       "</table>\n",
       "</div>"
      ],
      "text/plain": [
       "       popularity  acousticness  danceability  duration_ms  energy  \\\n",
       "36506        60.0      0.896000         0.726     214547.0   0.177   \n",
       "37591        63.0      0.003840         0.635     190448.0   0.908   \n",
       "37658        59.0      0.000075         0.352     456320.0   0.956   \n",
       "36060        54.0      0.945000         0.488     352280.0   0.326   \n",
       "35710        55.0      0.245000         0.667     273693.0   0.647   \n",
       "\n",
       "       instrumentalness  liveness  loudness  speechiness    tempo  valence  \\\n",
       "36506          0.000002    0.1160   -14.824       0.0353   92.934    0.618   \n",
       "37591          0.083400    0.2390    -4.795       0.0563  110.012    0.637   \n",
       "37658          0.020300    0.1250    -3.634       0.1490  122.897    0.228   \n",
       "36060          0.015700    0.1190   -12.020       0.0328  106.063    0.323   \n",
       "35710          0.000297    0.0633    -7.787       0.0487  143.995    0.300   \n",
       "\n",
       "       genre  \n",
       "36506      1  \n",
       "37591      1  \n",
       "37658      1  \n",
       "36060      1  \n",
       "35710      1  "
      ]
     },
     "execution_count": 61,
     "metadata": {},
     "output_type": "execute_result"
    }
   ],
   "source": [
    "# dataset used for 4) ----> already worked out\n",
    "music_df = music_clean.copy()\n",
    "print(music_df.shape)\n",
    "music_df.head()"
   ]
  },
  {
   "cell_type": "code",
   "execution_count": 62,
   "id": "0c288daf-0f6d-4e0c-86d7-c3b8c7fbad3b",
   "metadata": {},
   "outputs": [
    {
     "name": "stdout",
     "output_type": "stream",
     "text": [
      "R^2: 0.30311131622972154 , with Linear regression\n",
      "[10.33283663 10.92843432  9.44214931  9.38877822  9.78719123]\n",
      "[10.76159204 11.75878791 13.02534343 12.36703406 12.82103692]\n"
     ]
    }
   ],
   "source": [
    "#vídeo\n",
    "\n",
    "# back to original example (already worked out...)\n",
    "\n",
    "X = music_df.drop('popularity', axis=1).values\n",
    "y = music_df['popularity'].values\n",
    "\n",
    "# Linear regression with dummy variables\n",
    "from sklearn.model_selection import train_test_split, cross_val_score, KFold\n",
    "from sklearn.linear_model import LinearRegression\n",
    "\n",
    "X_train, X_test, y_train, y_test = train_test_split(X, y, test_size=0.2, random_state=42)\n",
    "\n",
    "kf = KFold(n_splits=5, shuffle=True, random_state=42)\n",
    "\n",
    "linreg = LinearRegression()\n",
    "\n",
    "linreg.fit(X_train, y_train)\n",
    "print(\"R^2: {} , with Linear regression\".format(linreg.score(X_test, y_test)))\n",
    "\n",
    "\n",
    "# cross val score --> we choose scoring=\"negative MSE\" because cross_val_score assumes higher values are better!\n",
    "linreg_cv = cross_val_score(linreg, X_train, y_train, cv=kf, scoring=\"neg_mean_squared_error\")\n",
    "print(np.sqrt(-linreg_cv))\n",
    "\n",
    "linreg_cv = cross_val_score(linreg, X_test, y_test, cv=kf, scoring=\"neg_mean_squared_error\")\n",
    "print(np.sqrt(-linreg_cv))"
   ]
  },
  {
   "cell_type": "code",
   "execution_count": 63,
   "id": "ac4fca67-8acf-4a77-9e9f-faea76201363",
   "metadata": {},
   "outputs": [],
   "source": [
    "#################################"
   ]
  },
  {
   "cell_type": "code",
   "execution_count": 64,
   "id": "f9a6af14-c39f-4a3e-8430-7323eebc77b8",
   "metadata": {},
   "outputs": [
    {
     "name": "stdout",
     "output_type": "stream",
     "text": [
      "Shape of music_dummies: (1000, 12)\n"
     ]
    },
    {
     "data": {
      "text/html": [
       "<div>\n",
       "<style scoped>\n",
       "    .dataframe tbody tr th:only-of-type {\n",
       "        vertical-align: middle;\n",
       "    }\n",
       "\n",
       "    .dataframe tbody tr th {\n",
       "        vertical-align: top;\n",
       "    }\n",
       "\n",
       "    .dataframe thead th {\n",
       "        text-align: right;\n",
       "    }\n",
       "</style>\n",
       "<table border=\"1\" class=\"dataframe\">\n",
       "  <thead>\n",
       "    <tr style=\"text-align: right;\">\n",
       "      <th></th>\n",
       "      <th>popularity</th>\n",
       "      <th>acousticness</th>\n",
       "      <th>danceability</th>\n",
       "      <th>duration_ms</th>\n",
       "      <th>energy</th>\n",
       "      <th>instrumentalness</th>\n",
       "      <th>liveness</th>\n",
       "      <th>loudness</th>\n",
       "      <th>speechiness</th>\n",
       "      <th>tempo</th>\n",
       "      <th>valence</th>\n",
       "      <th>genre</th>\n",
       "    </tr>\n",
       "  </thead>\n",
       "  <tbody>\n",
       "    <tr>\n",
       "      <th>36506</th>\n",
       "      <td>60.0</td>\n",
       "      <td>0.89600</td>\n",
       "      <td>0.726</td>\n",
       "      <td>214547.0</td>\n",
       "      <td>0.177</td>\n",
       "      <td>0.000002</td>\n",
       "      <td>0.116</td>\n",
       "      <td>-14.824</td>\n",
       "      <td>0.0353</td>\n",
       "      <td>92.934</td>\n",
       "      <td>0.618</td>\n",
       "      <td>1</td>\n",
       "    </tr>\n",
       "    <tr>\n",
       "      <th>37591</th>\n",
       "      <td>63.0</td>\n",
       "      <td>0.00384</td>\n",
       "      <td>0.635</td>\n",
       "      <td>190448.0</td>\n",
       "      <td>0.908</td>\n",
       "      <td>0.083400</td>\n",
       "      <td>0.239</td>\n",
       "      <td>-4.795</td>\n",
       "      <td>0.0563</td>\n",
       "      <td>110.012</td>\n",
       "      <td>0.637</td>\n",
       "      <td>1</td>\n",
       "    </tr>\n",
       "  </tbody>\n",
       "</table>\n",
       "</div>"
      ],
      "text/plain": [
       "       popularity  acousticness  danceability  duration_ms  energy  \\\n",
       "36506        60.0       0.89600         0.726     214547.0   0.177   \n",
       "37591        63.0       0.00384         0.635     190448.0   0.908   \n",
       "\n",
       "       instrumentalness  liveness  loudness  speechiness    tempo  valence  \\\n",
       "36506          0.000002     0.116   -14.824       0.0353   92.934    0.618   \n",
       "37591          0.083400     0.239    -4.795       0.0563  110.012    0.637   \n",
       "\n",
       "       genre  \n",
       "36506      1  \n",
       "37591      1  "
      ]
     },
     "execution_count": 64,
     "metadata": {},
     "output_type": "execute_result"
    }
   ],
   "source": [
    "# Create music_dummies\n",
    "music_dummies = pd.get_dummies(music_df, drop_first=True)\n",
    "\n",
    "# Print the new DataFrame's shape\n",
    "print(\"Shape of music_dummies: {}\".format(music_dummies.shape))\n",
    "\n",
    "music_dummies.head(2)"
   ]
  },
  {
   "cell_type": "code",
   "execution_count": 65,
   "id": "85955720-a1c9-4d27-b945-ad2f13178430",
   "metadata": {},
   "outputs": [
    {
     "name": "stdout",
     "output_type": "stream",
     "text": [
      "Average RMSE: 10.334930115405797\n",
      "Standard Deviation of the target array: 14.021569099070188\n"
     ]
    }
   ],
   "source": [
    "# Create X and y\n",
    "X = music_dummies.drop(\"popularity\", axis=1)\n",
    "y = music_dummies[\"popularity\"]\n",
    "\n",
    "# Instantiate a ridge model\n",
    "ridge = Ridge(alpha=0.2)\n",
    "\n",
    "# Perform cross-validation\n",
    "scores = cross_val_score(ridge, X, y, cv=kf, scoring=\"neg_mean_squared_error\")\n",
    "\n",
    "# Calculate RMSE\n",
    "rmse = np.sqrt(-scores)\n",
    "print(\"Average RMSE: {}\".format(np.mean(rmse)))\n",
    "print(\"Standard Deviation of the target array: {}\".format(np.std(y)))"
   ]
  },
  {
   "cell_type": "markdown",
   "id": "64776737-9686-4324-81ed-9983189b5739",
   "metadata": {},
   "source": [
    "An average RMSE of approximately 10 is lower than the standard deviation of the target variable (song popularity) 14, suggesting the model is reasonably accurate."
   ]
  },
  {
   "cell_type": "code",
   "execution_count": null,
   "id": "285f6513-5e48-40f1-a110-2158efb2fac0",
   "metadata": {},
   "outputs": [],
   "source": []
  },
  {
   "cell_type": "code",
   "execution_count": null,
   "id": "d0ddd747-dc3b-4bdb-b0c8-a6a462657484",
   "metadata": {},
   "outputs": [],
   "source": []
  },
  {
   "cell_type": "markdown",
   "id": "0257d498-83b6-4feb-a7d1-afde0cced0aa",
   "metadata": {},
   "source": [
    "## Handling missing data"
   ]
  },
  {
   "cell_type": "code",
   "execution_count": 66,
   "id": "e98189b7-708f-4830-be76-3a1933e5202d",
   "metadata": {},
   "outputs": [],
   "source": [
    "# vídeo\n",
    "\n",
    "# check missing values\n",
    "music_df.isna().sum().sort_values()\n",
    "\n",
    "# How to deal with missing values?\n",
    "\n",
    "# Option 1) Dropping missing data\n",
    "music_df = music_df.dropna(subset=[\"genre\", \"popularity\", \"loudness\", \"liveness\", \"tempo\"])\n",
    "\n",
    "# Option 2) Imputing values (use subject-matter expertise to replace missing data with educated guesses)\n",
    "# It's common to use the mean, or median\n",
    "# If it's a categorical feature, we typically use the most frequent value - the mode\n",
    "# We must *split* our data first, to avoid data leakage (don't infect the test set - X_test, y_test)\n",
    "\n",
    "from sklearn.model_selection import train_test_split\n",
    "from sklearn.impute import SimpleImputer\n",
    "\n",
    "X_cat = sales_df[\"influencer\"].values.reshape(-1, 1)\n",
    "X_num = sales_df.drop([\"influencer\", \"sales\"], axis=1).values\n",
    "y = sales_df[\"sales\"].values\n",
    "\n",
    "X_train_cat, X_test_cat, y_train, y_test = train_test_split(X_cat, y, test_size=0.2, random_state=12)\n",
    "X_train_num, X_test_num, y_train, y_test = train_test_split(X_num, y, test_size=0.2, random_state=12)\n",
    "\n",
    "# for the categorical data\n",
    "imp_cat = SimpleImputer(strategy=\"most_frequent\") # by default, SimpleImputer expects np.nan to represent missing values\n",
    "X_train_cat = imp_cat.fit_transform(X_train_cat)\n",
    "X_test_cat = imp_cat.transform(X_test_cat)\n",
    "\n",
    "# for the numeric data \n",
    "imp_num = SimpleImputer() # by default it fill values data with the --> \"mean\" (strategy)\n",
    "X_train_num = imp_cat.fit_transform(X_train_num)\n",
    "X_test_num = imp_cat.transform(X_test_num)\n",
    "\n",
    "# join\n",
    "X_train = np.append(X_train_num, X_train_cat, axis=1)\n",
    "X_test = np.append(X_test_num, X_test_cat, axis=1)\n"
   ]
  },
  {
   "cell_type": "markdown",
   "id": "c25efd21-2db7-419e-a03c-ff64aaef0eaf",
   "metadata": {},
   "source": [
    "In practice, fit_transform() is often used when you're working with training data, as it both learns from and applies the transformation to that data. You would generally use fit() on training data, and transform() (without fitting) on test data to ensure the test set is transformed using the parameters derived from the training set."
   ]
  },
  {
   "cell_type": "code",
   "execution_count": 67,
   "id": "db34e4a2-f9df-4a64-9fa8-edfabe39c08d",
   "metadata": {},
   "outputs": [
    {
     "name": "stdout",
     "output_type": "stream",
     "text": [
      "Accuracy:  0.8133333333333334\n"
     ]
    }
   ],
   "source": [
    "# Imputers are known as transformers\n",
    "\n",
    "# Imputing within a Pipeline\n",
    "\n",
    "from sklearn.pipeline import Pipeline\n",
    "\n",
    "# transformation made...\n",
    "music_df = music_df.dropna(subset=[\"genre\", \"popularity\", \"loudness\", \"liveness\", \"tempo\"])\n",
    "music_df[\"genre\"] = np.where(music_df[\"genre\"] == \"Rock\", 1, 0)\n",
    "\n",
    "# back to original\n",
    "music_df = pd.read_csv(data_folder + \"music_clean.csv\", index_col=0)\n",
    "\n",
    "X = music_df.drop(\"genre\", axis=1).values\n",
    "y = music_df[\"genre\"].values\n",
    "\n",
    "# Create the steps, instantiate the transformer and/or model\n",
    "steps = [(\"imputation\", SimpleImputer()), \n",
    "         (\"logistic_regression\", LogisticRegression(max_iter=10000))]\n",
    "\n",
    "# pass the list\n",
    "pipeline = Pipeline(steps)\n",
    "\n",
    "# split the data\n",
    "X_train, X_test, y_train, y_test = train_test_split(X, y, test_size=0.3, random_state=42)\n",
    "\n",
    "# fit the pipeline with the data (as in any other model, but in this case it deals with the missing data first)\n",
    "pipeline.fit(X_train, y_train)\n",
    "\n",
    "# compute accuracy\n",
    "print(\"Accuracy: \", pipeline.score(X_test, y_test))\n",
    "\n",
    "# Note: In a pipeline, each step but the last must be a transformer"
   ]
  },
  {
   "cell_type": "markdown",
   "id": "942e2ec3-6d82-4134-8353-85de2b48b3be",
   "metadata": {},
   "source": [
    "Note: **In a pipeline, each step but the last must be a transformer**."
   ]
  },
  {
   "cell_type": "code",
   "execution_count": 68,
   "id": "10c6a07c-0404-4210-ada9-64ab056f2c44",
   "metadata": {},
   "outputs": [],
   "source": [
    "# # Print missing values for each column\n",
    "# print(music_df.isna().sum().sort_values())\n",
    "\n",
    "# # Print missing values for each column\n",
    "# print(music_df.isna().sum().sort_values())\n",
    "\n",
    "# # Remove values where less than 5% are missing\n",
    "# music_df = music_df.dropna(subset=[\"genre\", \"popularity\", \"loudness\", \"liveness\", \"tempo\"])\n",
    "\n",
    "# # Convert genre to a binary feature\n",
    "# music_df[\"genre\"] = np.where(music_df[\"genre\"] == \"Rock\", 1, 0)\n",
    "\n",
    "# print(music_df.isna().sum().sort_values())\n",
    "# print(\"Shape of the `music_df`: {}\".format(music_df.shape))"
   ]
  },
  {
   "cell_type": "code",
   "execution_count": 69,
   "id": "433d9d0e-e0a2-4c65-a108-45ca4b5cc6c4",
   "metadata": {},
   "outputs": [],
   "source": [
    "# Import modules\n",
    "from sklearn.impute import SimpleImputer\n",
    "from sklearn.pipeline import Pipeline\n",
    "\n",
    "# Instantiate an imputer\n",
    "imputer = SimpleImputer()\n",
    "\n",
    "# Instantiate a knn model\n",
    "knn = KNeighborsClassifier(n_neighbors=3)\n",
    "\n",
    "# Build steps for the pipeline\n",
    "steps = [(\"imputer\", imputer), \n",
    "         (\"knn\", knn)]"
   ]
  },
  {
   "cell_type": "code",
   "execution_count": 70,
   "id": "6535c1ff-e1ef-4ab9-a167-836e0f35bc5a",
   "metadata": {},
   "outputs": [
    {
     "name": "stdout",
     "output_type": "stream",
     "text": [
      "[[75 75]\n",
      " [74 76]]\n"
     ]
    }
   ],
   "source": [
    "# steps = [(\"imputer\", imp_mean),\n",
    "#         (\"knn\", knn)]\n",
    "\n",
    "# Create the pipeline\n",
    "pipeline = Pipeline(steps)\n",
    "\n",
    "# Fit the pipeline to the training data\n",
    "pipeline.fit(X_train, y_train)\n",
    "\n",
    "# Make predictions on the test set\n",
    "y_pred = pipeline.predict(X_test)\n",
    "\n",
    "# Print the confusion matrix\n",
    "print(confusion_matrix(y_test, y_pred))"
   ]
  },
  {
   "cell_type": "code",
   "execution_count": null,
   "id": "7354ebd0-0699-451f-9649-b0612266e0ec",
   "metadata": {},
   "outputs": [],
   "source": []
  },
  {
   "cell_type": "code",
   "execution_count": null,
   "id": "540b473d-99fa-4308-a35b-5d774f20718b",
   "metadata": {},
   "outputs": [],
   "source": []
  },
  {
   "cell_type": "markdown",
   "id": "c6915c1b-3f0e-457f-8bd6-1fdee1e60bc4",
   "metadata": {},
   "source": [
    "## Centering and scaling"
   ]
  },
  {
   "cell_type": "code",
   "execution_count": 71,
   "id": "c6bba014-57f6-43c0-9411-7d9501db762b",
   "metadata": {},
   "outputs": [
    {
     "name": "stdout",
     "output_type": "stream",
     "text": [
      "        duration_ms     loudness  speechiness\n",
      "count  1.000000e+03  1000.000000  1000.000000\n",
      "mean   2.172204e+05    -8.253305     0.077879\n",
      "std    1.175582e+05     5.158523     0.089451\n",
      "min   -1.000000e+00   -38.718000     0.023400\n",
      "25%    1.806562e+05    -9.775500     0.033100\n",
      "50%    2.163000e+05    -6.855000     0.043600\n",
      "75%    2.605025e+05    -4.977750     0.074950\n",
      "max    1.617333e+06    -0.883000     0.710000\n"
     ]
    }
   ],
   "source": [
    "# vídeo\n",
    "\n",
    "# Why scale our data?\n",
    "print(music_df[[\"duration_ms\", \"loudness\", \"speechiness\"]].describe())\n",
    "\n",
    "# Many models use some form of distance to inform them\n",
    "# Features on larger scales can unduly influence the model\n",
    "# Example: k-NN uses distance explicitly when making predictions --> we then want the features to be on a similar scale\n",
    "# ---> Normalizing (or scaling and centering)\n",
    "\n",
    "# Ways to normalize the data\n",
    "\n",
    "# 1) Standardization: subtract the mean and divide by variance (all features centered around 0 and have variance 1)\n",
    "# 2) Subtract by the minimum and divide by the range (minimum 0 and maximum 1)\n",
    "# 3) Normalize so that the data ranges from -1 to +1\n",
    "\n",
    "# we're going to do 1) Standardization --> see sklearn docs for the other 2 methods"
   ]
  },
  {
   "cell_type": "code",
   "execution_count": 72,
   "id": "030f3245-09d5-4cb8-9811-b7874a504090",
   "metadata": {},
   "outputs": [
    {
     "name": "stdout",
     "output_type": "stream",
     "text": [
      "mean and std of X: 19762.413275219726 71791.8429618064\n",
      "mean and std of X_scaled: 0 1.0000000000000002 \n",
      "\n"
     ]
    }
   ],
   "source": [
    "X = music_df.drop(\"genre\", axis=1).values\n",
    "y = music_df[\"genre\"].values\n",
    "X_train, X_test, y_train, y_test = train_test_split(X, y, test_size=0.3, random_state=42)\n",
    "\n",
    "############################################################################################################\n",
    "\n",
    "# Scaling in scikit-learn\n",
    "from sklearn.preprocessing import StandardScaler\n",
    "\n",
    "scaler = StandardScaler()\n",
    "\n",
    "X_train_scaled = scaler.fit_transform(X_train)\n",
    "X_test_scaled = scaler.transform(X_test)\n",
    "\n",
    "print(\"mean and std of X:\", np.mean(X), np.std(X))\n",
    "print(\"mean and std of X_scaled:\", round(np.mean(X_train_scaled)), np.std(X_train_scaled), \"\\n\")\n"
   ]
  },
  {
   "cell_type": "code",
   "execution_count": 73,
   "id": "11b97d4b-94ba-49bd-bfec-2722d0e3d707",
   "metadata": {},
   "outputs": [
    {
     "name": "stdout",
     "output_type": "stream",
     "text": [
      "score with the X_scaled: 0.805\n",
      "score with the X unscaled: 0.56 \n",
      "\n"
     ]
    }
   ],
   "source": [
    "# Scaling in a pipeline\n",
    "from sklearn.preprocessing import StandardScaler\n",
    "from sklearn.model_selection import train_test_split\n",
    "from sklearn.pipeline import Pipeline\n",
    "from sklearn.neighbors import KNeighborsClassifier\n",
    "\n",
    "steps = [('scaler', StandardScaler()), ('knn', KNeighborsClassifier(n_neighbors=6))]\n",
    "\n",
    "pipeline = Pipeline(steps)\n",
    "\n",
    "X_train, X_test, y_train, y_test = train_test_split(X, y, test_size=0.2, random_state=21)\n",
    "\n",
    "knn_scaled = pipeline.fit(X_train, y_train)\n",
    "\n",
    "y_pred = knn_scaled.predict(X_test)\n",
    "\n",
    "# score with the X_scaled\n",
    "print(\"score with the X_scaled:\", knn_scaled.score(X_test, y_test))\n",
    "\n",
    "# score with the features unscaled\n",
    "X_train, X_test, y_train, y_test = train_test_split(X, y, test_size=0.2, random_state=21)\n",
    "knn_unscaled = KNeighborsClassifier().fit(X_train, y_train)\n",
    "print(\"score with the X unscaled:\", knn_unscaled.score(X_test, y_test), \"\\n\")\n"
   ]
  },
  {
   "cell_type": "code",
   "execution_count": 74,
   "id": "6a7d573d-25eb-4470-9ddc-d6a154c21098",
   "metadata": {},
   "outputs": [
    {
     "name": "stdout",
     "output_type": "stream",
     "text": [
      "best parameter: k =  {'knn__n_neighbors': 12}\n",
      "score: 0.82\n",
      "Classification report:\n",
      "               precision    recall  f1-score   support\n",
      "\n",
      "           0       0.92      0.69      0.79        97\n",
      "           1       0.76      0.94      0.84       103\n",
      "\n",
      "    accuracy                           0.82       200\n",
      "   macro avg       0.84      0.82      0.82       200\n",
      "weighted avg       0.84      0.82      0.82       200\n",
      "\n"
     ]
    }
   ],
   "source": [
    "# CV and scaling in a pipeline\n",
    "from sklearn.model_selection import GridSearchCV\n",
    "\n",
    "steps = [('scaler', StandardScaler()), ('knn', KNeighborsClassifier())]\n",
    "\n",
    "pipeline = Pipeline(steps)\n",
    "\n",
    "parameters = {'knn__n_neighbors': np.arange(1, 50)}    # 'knn' + '__' + 'hyperparameter'\n",
    "\n",
    "X_train, X_test, y_train, y_test = train_test_split(X, y, test_size=0.2, random_state=21)\n",
    "\n",
    "cv = GridSearchCV(pipeline, param_grid=parameters, cv=5)\n",
    "\n",
    "cv.fit(X_train, y_train)\n",
    "\n",
    "y_pred = cv.predict(X_test)\n",
    "\n",
    "print(\"best parameter: k = \", cv.best_params_)\n",
    "print(\"score:\", cv.score(X_test, y_test))\n",
    "print(\"Classification report:\\n\", classification_report(y_test, y_pred))"
   ]
  },
  {
   "cell_type": "code",
   "execution_count": 75,
   "id": "8141a5dc-8fb2-4ddd-a585-e64fd28ed425",
   "metadata": {},
   "outputs": [],
   "source": [
    "#############################"
   ]
  },
  {
   "cell_type": "code",
   "execution_count": 76,
   "id": "2f560ec6-6a9d-4dfe-9cdd-f25f1e15f7bf",
   "metadata": {},
   "outputs": [
    {
     "name": "stdout",
     "output_type": "stream",
     "text": [
      "0.7185052288252618\n",
      "0.5031316281225607\n"
     ]
    }
   ],
   "source": [
    "X = music_df.drop(\"loudness\", axis=1).values\n",
    "y = music_df[\"loudness\"].values\n",
    "X_train, X_test, y_train, y_test = train_test_split(X, y, test_size=0.3, random_state=42)\n",
    "\n",
    "#######################################\n",
    "\n",
    "# Import StandardScaler\n",
    "from sklearn.preprocessing import StandardScaler\n",
    "\n",
    "# Create pipeline steps\n",
    "steps = [(\"scaler\", StandardScaler()),\n",
    "         (\"lasso\", Lasso(alpha=0.5))]\n",
    "\n",
    "# Instantiate the pipeline\n",
    "pipeline = Pipeline(steps)\n",
    "pipeline.fit(X_train, y_train)\n",
    "\n",
    "# Calculate and print R-squared\n",
    "print(pipeline.score(X_test, y_test))\n",
    "\n",
    "##\n",
    "\n",
    "# Without scaling\n",
    "steps = [(\"lasso\", Lasso(alpha=0.5))]\n",
    "pipeline = Pipeline(steps)\n",
    "pipeline.fit(X_train, y_train)\n",
    "print(pipeline.score(X_test, y_test))"
   ]
  },
  {
   "cell_type": "markdown",
   "id": "76752a22-0b4e-4b64-8a7c-3fe52a8fea52",
   "metadata": {},
   "source": [
    "The model may have only produced an R-squared of 0.71, but without scaling this exact model would have only produced a score of 0.50, which proves just how powerful scaling can be!"
   ]
  },
  {
   "cell_type": "code",
   "execution_count": 77,
   "id": "557cb334-1b41-45c5-a4d9-4abc7ec415b7",
   "metadata": {},
   "outputs": [
    {
     "data": {
      "text/html": [
       "<div>\n",
       "<style scoped>\n",
       "    .dataframe tbody tr th:only-of-type {\n",
       "        vertical-align: middle;\n",
       "    }\n",
       "\n",
       "    .dataframe tbody tr th {\n",
       "        vertical-align: top;\n",
       "    }\n",
       "\n",
       "    .dataframe thead th {\n",
       "        text-align: right;\n",
       "    }\n",
       "</style>\n",
       "<table border=\"1\" class=\"dataframe\">\n",
       "  <thead>\n",
       "    <tr style=\"text-align: right;\">\n",
       "      <th></th>\n",
       "      <th>popularity</th>\n",
       "      <th>acousticness</th>\n",
       "      <th>danceability</th>\n",
       "      <th>duration_ms</th>\n",
       "      <th>energy</th>\n",
       "      <th>instrumentalness</th>\n",
       "      <th>liveness</th>\n",
       "      <th>loudness</th>\n",
       "      <th>speechiness</th>\n",
       "      <th>tempo</th>\n",
       "      <th>valence</th>\n",
       "      <th>genre</th>\n",
       "    </tr>\n",
       "  </thead>\n",
       "  <tbody>\n",
       "    <tr>\n",
       "      <th>36506</th>\n",
       "      <td>60.0</td>\n",
       "      <td>0.89600</td>\n",
       "      <td>0.726</td>\n",
       "      <td>214547.0</td>\n",
       "      <td>0.177</td>\n",
       "      <td>0.000002</td>\n",
       "      <td>0.116</td>\n",
       "      <td>-14.824</td>\n",
       "      <td>0.0353</td>\n",
       "      <td>92.934</td>\n",
       "      <td>0.618</td>\n",
       "      <td>1</td>\n",
       "    </tr>\n",
       "    <tr>\n",
       "      <th>37591</th>\n",
       "      <td>63.0</td>\n",
       "      <td>0.00384</td>\n",
       "      <td>0.635</td>\n",
       "      <td>190448.0</td>\n",
       "      <td>0.908</td>\n",
       "      <td>0.083400</td>\n",
       "      <td>0.239</td>\n",
       "      <td>-4.795</td>\n",
       "      <td>0.0563</td>\n",
       "      <td>110.012</td>\n",
       "      <td>0.637</td>\n",
       "      <td>1</td>\n",
       "    </tr>\n",
       "  </tbody>\n",
       "</table>\n",
       "</div>"
      ],
      "text/plain": [
       "       popularity  acousticness  danceability  duration_ms  energy  \\\n",
       "36506        60.0       0.89600         0.726     214547.0   0.177   \n",
       "37591        63.0       0.00384         0.635     190448.0   0.908   \n",
       "\n",
       "       instrumentalness  liveness  loudness  speechiness    tempo  valence  \\\n",
       "36506          0.000002     0.116   -14.824       0.0353   92.934    0.618   \n",
       "37591          0.083400     0.239    -4.795       0.0563  110.012    0.637   \n",
       "\n",
       "       genre  \n",
       "36506      1  \n",
       "37591      1  "
      ]
     },
     "execution_count": 77,
     "metadata": {},
     "output_type": "execute_result"
    }
   ],
   "source": [
    "music_df.head(2)"
   ]
  },
  {
   "cell_type": "code",
   "execution_count": 78,
   "id": "88684785-b07e-4bb5-a385-07505461e9ec",
   "metadata": {},
   "outputs": [
    {
     "name": "stdout",
     "output_type": "stream",
     "text": [
      "Best score:  0.8625\n",
      "Best parameters: {'logreg__C': 0.15873684210526315}\n"
     ]
    }
   ],
   "source": [
    "# load data\n",
    "music_df = pd.read_csv(data_folder + \"music_clean.csv\", index_col=0)\n",
    "X = music_df.drop(\"genre\", axis=1).values\n",
    "y = music_df[\"genre\"].values\n",
    "\n",
    "###\n",
    "\n",
    "from sklearn.preprocessing import StandardScaler\n",
    "from sklearn.linear_model import LogisticRegression\n",
    "from sklearn.pipeline import Pipeline\n",
    "from sklearn.model_selection import GridSearchCV\n",
    "\n",
    "# Build the steps\n",
    "steps = [(\"scaler\", StandardScaler()),\n",
    "         (\"logreg\", LogisticRegression())]\n",
    "\n",
    "pipeline = Pipeline(steps)\n",
    "\n",
    "# Create the parameter space\n",
    "parameters = {\"logreg__C\": np.linspace(0.001, 1.0, 20)}\n",
    "\n",
    "X_train, X_test, y_train, y_test = train_test_split(X, y, test_size=0.2, random_state=21)\n",
    "\n",
    "# Instantiate the grid search object\n",
    "cv = GridSearchCV(pipeline, param_grid=parameters, cv=5)\n",
    "\n",
    "# Fit to the training data\n",
    "cv.fit(X_train, y_train)\n",
    "print(\"Best score: \", cv.best_score_)\n",
    "print(\"Best parameters:\", cv.best_params_)"
   ]
  },
  {
   "cell_type": "code",
   "execution_count": null,
   "id": "b74258d7-1150-4cc7-89bd-edecd89814d7",
   "metadata": {},
   "outputs": [],
   "source": []
  },
  {
   "cell_type": "code",
   "execution_count": null,
   "id": "37802ccd-5c21-4083-80de-18e4e8579ab1",
   "metadata": {},
   "outputs": [],
   "source": []
  },
  {
   "cell_type": "markdown",
   "id": "cc68ac6b-440c-47ca-bc3c-c75e78b5c837",
   "metadata": {},
   "source": [
    "## Evaluating multiple models"
   ]
  },
  {
   "cell_type": "code",
   "execution_count": 79,
   "id": "23b8ffc5-302d-4d75-a6a2-46f79b9b1da4",
   "metadata": {},
   "outputs": [],
   "source": [
    "# vídeo\n",
    "\n",
    "# Which model to use in the first place?\n",
    "\n",
    "# Different models for different problems - Some guiding principles:\n",
    "\n",
    "# 1) Size of the dataset\n",
    "#  - fewer features -> simpler model, faster training time\n",
    "#  - some models (such as artificial neural networks) require large amounts of data to perform well\n",
    "\n",
    "# 2) We may need interpretability in the model\n",
    "#  - some models are easier to explain, which can be important for stakeholders\n",
    "#  - for example, Linear regression has high interpretability, as we can understand the coefficients\n",
    "\n",
    "# 3) Flexibility might be important to get the most accurate predictions\n",
    "#  - generally more flexible models improve accuracy, by making fewer assumptions about the data\n",
    "#  - for example, a KNN model is more flexible, doesn't assume any linear relationships\n",
    "\n",
    "#####\n",
    "\n",
    "# It's all in the metrics\n",
    "\n",
    "# Regression models performance:\n",
    "#  - RMSE\n",
    "#  - R-squared\n",
    "\n",
    "# Classification model performance\n",
    "#  - Accuracy\n",
    "#  - Confusion matrix\n",
    "#  - Precision, Recall, F1-score\n",
    "#  - ROC AUC (logreg)\n",
    "\n",
    "# Therefore --> Train several models and evaluate performance out of the box\n",
    "\n",
    "# Don't forget *scaling* / Standardization\n",
    "# Many models are affected by it: KNN, Linear Regression (and Ridge, Lasso), LogReg, Artificial Neural Networks\n"
   ]
  },
  {
   "cell_type": "code",
   "execution_count": 80,
   "id": "53b0ec6d-e31f-4181-a123-7a355bd9a90e",
   "metadata": {},
   "outputs": [
    {
     "data": {
      "image/png": "[encoded data removed]",
      "text/plain": [
       "<Figure size 640x480 with 1 Axes>"
      ]
     },
     "metadata": {},
     "output_type": "display_data"
    }
   ],
   "source": [
    "import matplotlib.pyplot as plt\n",
    "from sklearn.preprocessing import StandardScaler\n",
    "from sklearn.model_selection import train_test_split, KFold, cross_val_score\n",
    "from sklearn.neighbors import KNeighborsClassifier\n",
    "from sklearn.linear_model import LinearRegression, Ridge, Lasso, LogisticRegression\n",
    "from sklearn.tree import DecisionTreeClassifier \n",
    "\n",
    "# load data\n",
    "music_df = pd.read_csv(data_folder + \"music_clean.csv\", index_col=0)\n",
    "\n",
    "X = music_df.drop(\"genre\", axis=1).values\n",
    "y = music_df[\"genre\"].values\n",
    "\n",
    "# split the data\n",
    "X_train, X_test, y_train, y_test = train_test_split(X, y, test_size=0.2, random_state=42)\n",
    "\n",
    "# scale the features\n",
    "scaler = StandardScaler()\n",
    "X_train_scaled = scaler.fit_transform(X_train)\n",
    "X_test_scaled = scaler.transform(X_test)\n",
    "\n",
    "# create a dictionary with the models and instantiate the models\n",
    "models = {\"Logistic Regression\": LogisticRegression(),\n",
    "          \"KNN\": KNeighborsClassifier(),\n",
    "          \"Decision Tree\": DecisionTreeClassifier()}\n",
    "\n",
    "results = []\n",
    "# loop the models\n",
    "for model in models.values():\n",
    "    kf = KFold(n_splits=6, shuffle=True, random_state=42)\n",
    "    cv_results = cross_val_score(model, X_train_scaled, y_train, cv=kf)\n",
    "    results.append(cv_results)\n",
    "\n",
    "plt.boxplot(results, tick_labels=models.keys())\n",
    "plt.ylabel(\"Accuracy\")\n",
    "plt.show()"
   ]
  },
  {
   "cell_type": "code",
   "execution_count": 81,
   "id": "76d6d2ed-56bf-406f-bb9d-72cdcb96e62b",
   "metadata": {},
   "outputs": [
    {
     "name": "stdout",
     "output_type": "stream",
     "text": [
      "Logistic Regression Test Set Accuracy: 0.805\n",
      "KNN Test Set Accuracy: 0.785\n",
      "Decision Tree Test Set Accuracy: 0.74\n"
     ]
    }
   ],
   "source": [
    "# Test set performance\n",
    "\n",
    "for name, model in models.items():\n",
    "    model.fit(X_train_scaled, y_train)\n",
    "    test_score = model.score(X_test_scaled, y_test)\n",
    "    print(\"{} Test Set Accuracy: {}\".format(name, test_score))\n"
   ]
  },
  {
   "cell_type": "code",
   "execution_count": 82,
   "id": "4508aec8-1456-4fb7-876e-e6490ed40326",
   "metadata": {},
   "outputs": [],
   "source": [
    "#########"
   ]
  },
  {
   "cell_type": "code",
   "execution_count": 83,
   "id": "0bf29ca1-147c-44ec-b4db-352d5cfccc2d",
   "metadata": {},
   "outputs": [],
   "source": [
    "import matplotlib.pyplot as plt\n",
    "from sklearn.model_selection import train_test_split, KFold, cross_val_score\n",
    "from sklearn.linear_model import LinearRegression, Ridge, Lasso\n",
    "\n",
    "# load data\n",
    "music_df = pd.read_csv(data_folder + \"music_clean.csv\", index_col=0)\n",
    "\n",
    "X = music_df.drop(\"energy\", axis=1).values\n",
    "y = music_df[\"energy\"].values\n",
    "\n",
    "# split the data\n",
    "X_train, X_test, y_train, y_test = train_test_split(X, y, test_size=0.2, random_state=42)\n"
   ]
  },
  {
   "cell_type": "code",
   "execution_count": 84,
   "id": "db49ea97-6707-4c96-a7a2-ba45e1f0de89",
   "metadata": {},
   "outputs": [
    {
     "data": {
      "image/png": "[encoded data removed]",
      "text/plain": [
       "<Figure size 640x480 with 1 Axes>"
      ]
     },
     "metadata": {},
     "output_type": "display_data"
    }
   ],
   "source": [
    "# Predict song's \"energy\"\n",
    "\n",
    "models = {\"Linear Regression\": LinearRegression(), \"Ridge\": Ridge(alpha=0.1), \"Lasso\": Lasso(alpha=0.1)}\n",
    "results = []\n",
    "\n",
    "# Loop through the models' values\n",
    "for model in models.values():\n",
    "  kf = KFold(n_splits=6, random_state=42, shuffle=True)\n",
    "  \n",
    "  # Perform cross-validation\n",
    "  cv_scores = cross_val_score(model, X_train, y_train, cv=kf)\n",
    "  \n",
    "  # Append the results\n",
    "  results.append(cv_scores)\n",
    "\n",
    "# Create a box plot of the results\n",
    "plt.boxplot(results, tick_labels=models.keys())\n",
    "plt.ylabel(\"Accuracy\")\n",
    "plt.show()"
   ]
  },
  {
   "cell_type": "markdown",
   "id": "4d2da349-685c-4903-9868-d00abf35e551",
   "metadata": {},
   "source": [
    "Lasso regression is not a good model for this problem, while linear regression and ridge perform fairly equally. Let's make predictions on the test set, and see if the RMSE can guide us on model selection."
   ]
  },
  {
   "cell_type": "code",
   "execution_count": 85,
   "id": "07baea98-905f-4704-bd41-b6581e7b364f",
   "metadata": {},
   "outputs": [
    {
     "name": "stdout",
     "output_type": "stream",
     "text": [
      "Linear Regression Test Set RMSE: 0.11140116509771887\n",
      "Ridge Test Set RMSE: 0.11140405394479373\n",
      "Lasso Test Set RMSE: 0.17329638628819174\n"
     ]
    }
   ],
   "source": [
    "# In the last exercise, linear regression and ridge appeared to produce similar results. It would be appropriate to select\n",
    "# either of those models; however, you can check predictive performance on the test set to see if either one can \n",
    "# outperform the other.\n",
    "\n",
    "# scale the features\n",
    "scaler = StandardScaler()\n",
    "X_train_scaled = scaler.fit_transform(X_train)\n",
    "X_test_scaled = scaler.transform(X_test)\n",
    "\n",
    "# You will use root mean squared error (RMSE) as the metric. \n",
    "\n",
    "# Import root_mean_squared_error\n",
    "from sklearn.metrics import root_mean_squared_error\n",
    "\n",
    "for name, model in models.items():\n",
    "    \n",
    "  # Fit the model to the training data\n",
    "  model.fit(X_train_scaled, y_train)\n",
    "  \n",
    "  # Make predictions on the test set\n",
    "  y_pred = model.predict(X_test_scaled)\n",
    "  \n",
    "  # Calculate the test_rmse\n",
    "  test_rmse = root_mean_squared_error(y_test, y_pred)\n",
    "  print(\"{} Test Set RMSE: {}\".format(name, test_rmse))\n"
   ]
  },
  {
   "cell_type": "markdown",
   "id": "10f67691-dd4d-418a-974b-2e3d6915e1ce",
   "metadata": {},
   "source": [
    "The linear regression model just edges the best performance, although the difference is a RMSE of 0.00003 for popularity! \n",
    "Now let's look at classification model selection."
   ]
  },
  {
   "cell_type": "code",
   "execution_count": 86,
   "id": "33a1427c-c68b-406e-bcda-97777bfd31a2",
   "metadata": {},
   "outputs": [],
   "source": [
    "# Visualizing classification model performance"
   ]
  },
  {
   "cell_type": "markdown",
   "id": "006b3174-5b73-41e1-b1f9-0bbe12284cb9",
   "metadata": {},
   "source": [
    "In this exercise, you will be solving a classification problem where the \"popularity\" column in the music_df dataset has been converted to binary values, with 1 representing popularity more than or equal to the median for the \"popularity\" column, and 0 indicating popularity below the median.\n",
    "\n",
    "Your task is to build and visualize the results of three different models to classify whether a song is popular or not.\n"
   ]
  },
  {
   "cell_type": "code",
   "execution_count": 87,
   "id": "4593f8b6-913f-4935-86b8-b72eba81a9e8",
   "metadata": {},
   "outputs": [
    {
     "name": "stdout",
     "output_type": "stream",
     "text": [
      "Median of popularity feature:  54.0\n"
     ]
    }
   ],
   "source": [
    "from sklearn.neighbors import KNeighborsClassifier\n",
    "from sklearn.linear_model import LogisticRegression\n",
    "from sklearn.tree import DecisionTreeClassifier \n",
    "\n",
    "# load data\n",
    "music_df = pd.read_csv(data_folder + \"music_clean.csv\", index_col=0)\n",
    "\n",
    "# change popularity column. Rule: above or below the median\n",
    "pop_median = np.median(music_df[\"popularity\"])\n",
    "print(\"Median of popularity feature: \", pop_median)\n",
    "\n",
    "music_df[\"popularity\"] = music_df[\"popularity\"].apply(lambda x: 1 if x >= pop_median else 0)\n",
    "\n",
    "X = music_df.drop(\"popularity\", axis=1).values\n",
    "y = music_df[\"popularity\"].values\n",
    "\n",
    "# split the data\n",
    "X_train, X_test, y_train, y_test = train_test_split(X, y, test_size=0.2, random_state=42)\n",
    "\n",
    "# scale the features\n",
    "scaler = StandardScaler()\n",
    "X_train_scaled = scaler.fit_transform(X_train)\n",
    "X_test_scaled = scaler.transform(X_test)"
   ]
  },
  {
   "cell_type": "code",
   "execution_count": 88,
   "id": "1f75028d-46c0-4b20-91cf-0303254f1851",
   "metadata": {},
   "outputs": [
    {
     "data": {
      "image/png": "[encoded data removed]",
      "text/plain": [
       "<Figure size 640x480 with 1 Axes>"
      ]
     },
     "metadata": {},
     "output_type": "display_data"
    }
   ],
   "source": [
    "# Create models dictionary\n",
    "models = {\"Logistic Regression\": LogisticRegression(), \"KNN\": KNeighborsClassifier(), \"Decision Tree Classifier\": DecisionTreeClassifier()}\n",
    "results = []\n",
    "\n",
    "# Loop through the models' values\n",
    "for model in models.values():\n",
    "  \n",
    "  # Instantiate a KFold object\n",
    "  kf = KFold(n_splits=6, random_state=12, shuffle=True)\n",
    "  \n",
    "  # Perform cross-validation\n",
    "  cv_results = cross_val_score(model, X_train_scaled, y_train, cv=kf)\n",
    "  results.append(cv_results)\n",
    "\n",
    "plt.boxplot(results, tick_labels=models.keys())\n",
    "plt.ylabel(\"Accuracy\")\n",
    "plt.show()"
   ]
  },
  {
   "cell_type": "code",
   "execution_count": 89,
   "id": "dcb6fe6e-e024-4b77-b341-75e82f03e41e",
   "metadata": {},
   "outputs": [
    {
     "name": "stdout",
     "output_type": "stream",
     "text": [
      "Tuned Logistic Regression Parameters: {'logreg__C': 0.112, 'logreg__solver': 'newton-cg'}, Accuracy: 0.73\n"
     ]
    }
   ],
   "source": [
    "# Pipeline for predicting song popularity\n",
    "\n",
    "from sklearn.impute import SimpleImputer\n",
    "from sklearn.model_selection import GridSearchCV\n",
    "\n",
    "# Create steps\n",
    "steps = [(\"imp_mean\", SimpleImputer()), \n",
    "         (\"scaler\", StandardScaler()), \n",
    "         (\"logreg\", LogisticRegression())]\n",
    "\n",
    "# Set up pipeline\n",
    "pipeline = Pipeline(steps)\n",
    "params = {\"logreg__solver\": [\"newton-cg\", \"saga\", \"lbfgs\"],\n",
    "          \"logreg__C\": np.linspace(0.001, 1.0, 10)}\n",
    "\n",
    "# Create the GridSearchCV object\n",
    "tuning = GridSearchCV(pipeline, param_grid=params)\n",
    "tuning.fit(X_train, y_train)\n",
    "y_pred = tuning.predict(X_test)\n",
    "\n",
    "# Compute and print performance\n",
    "print(\"Tuned Logistic Regression Parameters: {}, Accuracy: {}\".format(tuning.best_params_, tuning.score(X_test, y_test)))\n"
   ]
  },
  {
   "cell_type": "markdown",
   "id": "e4fe8e3a-ba84-423b-875b-858137a41a5a",
   "metadata": {},
   "source": [
    "you've selected a model, built a preprocessing pipeline, and performed hyperparameter tuning to create a model that is 73% accurate in predicting song genres!"
   ]
  },
  {
   "cell_type": "code",
   "execution_count": null,
   "id": "b7b7fe03-3c3d-439d-b82a-2c45e818b4ba",
   "metadata": {},
   "outputs": [],
   "source": []
  },
  {
   "cell_type": "code",
   "execution_count": 90,
   "id": "c10b7926-54c9-4937-8b22-2c636eb7712f",
   "metadata": {},
   "outputs": [
    {
     "name": "stderr",
     "output_type": "stream",
     "text": [
      " 33%|███████████████                              | 1/3 [00:00<00:00,  2.68it/s]"
     ]
    },
    {
     "name": "stdout",
     "output_type": "stream",
     "text": [
      "Tuned logreg Parameters: {'logreg__C': 0.112, 'logreg__solver': 'newton-cg'}, Accuracy: 0.73\n"
     ]
    },
    {
     "name": "stderr",
     "output_type": "stream",
     "text": [
      " 67%|██████████████████████████████               | 2/3 [00:01<00:00,  1.19it/s]"
     ]
    },
    {
     "name": "stdout",
     "output_type": "stream",
     "text": [
      "Tuned knn Parameters: {'knn__n_neighbors': 20}, Accuracy: 0.75\n"
     ]
    },
    {
     "name": "stderr",
     "output_type": "stream",
     "text": [
      "100%|█████████████████████████████████████████████| 3/3 [00:04<00:00,  1.42s/it]"
     ]
    },
    {
     "name": "stdout",
     "output_type": "stream",
     "text": [
      "Tuned dtc Parameters: {'dtc__criterion': 'entropy', 'dtc__max_depth': 3, 'dtc__max_features': None, 'dtc__min_samples_leaf': 1, 'dtc__min_samples_split': 2}, Accuracy: 0.745\n"
     ]
    },
    {
     "name": "stderr",
     "output_type": "stream",
     "text": [
      "\n"
     ]
    }
   ],
   "source": [
    "# MEU --> but only imputed and scaled AFTER checking the boxplot... check with every model (different parameters)\n",
    "\n",
    "from tqdm import tqdm \n",
    "\n",
    "models = {\"logreg\": LogisticRegression(), \n",
    "          \"knn\": KNeighborsClassifier(),\n",
    "          \"dtc\": DecisionTreeClassifier()}\n",
    "\n",
    "\n",
    "for name, model in tqdm(models.items()):\n",
    "\n",
    "    # Create steps\n",
    "    steps = [(\"imp_mean\", SimpleImputer()), \n",
    "             (\"scaler\", StandardScaler()), \n",
    "             (\"{}\".format(name), model)]\n",
    "    \n",
    "    # Set up pipeline\n",
    "    pipeline = Pipeline(steps)\n",
    "    if name == \"Logistic Regression\":\n",
    "        params = {\"logreg__solver\": [\"newton-cg\", \"saga\", \"lbfgs\"], \"logreg__C\": np.linspace(0.001, 1.0, 20)}\n",
    "        \n",
    "    elif name == \"knn\":\n",
    "        params = {'knn__n_neighbors': np.arange(1, 50)}\n",
    "\n",
    "    elif name == \"dtc\":\n",
    "        params = {'dtc__criterion': ['gini', 'entropy'], 'dtc__max_depth': [3, 5, 7, None], \n",
    "                  'dtc__min_samples_split': [2, 5, 10],\n",
    "                  'dtc__min_samples_leaf': [1, 2, 4], 'dtc__max_features': [None, 'sqrt', 'log2']}\n",
    "\n",
    "    # Create the GridSearchCV object\n",
    "    tuning = GridSearchCV(pipeline, param_grid=params)\n",
    "    tuning.fit(X_train, y_train)\n",
    "    y_pred = tuning.predict(X_test)\n",
    "    \n",
    "    # Compute and print performance\n",
    "    print(\"Tuned {} Parameters: {}, Accuracy: {}\".format(name, tuning.best_params_, tuning.score(X_test, y_test)))\n"
   ]
  },
  {
   "cell_type": "code",
   "execution_count": null,
   "id": "32608169-e220-478a-8287-0934dac8078f",
   "metadata": {},
   "outputs": [],
   "source": []
  },
  {
   "cell_type": "code",
   "execution_count": null,
   "id": "afb83779-2127-4344-b48a-45b00b370833",
   "metadata": {},
   "outputs": [],
   "source": []
  },
  {
   "cell_type": "code",
   "execution_count": null,
   "id": "d033ac9e-f06b-422c-8b88-e6674765868e",
   "metadata": {},
   "outputs": [],
   "source": []
  }
 ],
 "metadata": {
  "kernelspec": {
   "display_name": "Python 3 (ipykernel)",
   "language": "python",
   "name": "python3"
  },
  "language_info": {
   "codemirror_mode": {
    "name": "ipython",
    "version": 3
   },
   "file_extension": ".py",
   "mimetype": "text/x-python",
   "name": "python",
   "nbconvert_exporter": "python",
   "pygments_lexer": "ipython3",
   "version": "3.10.4"
  }
 },
 "nbformat": 4,
 "nbformat_minor": 5
}
