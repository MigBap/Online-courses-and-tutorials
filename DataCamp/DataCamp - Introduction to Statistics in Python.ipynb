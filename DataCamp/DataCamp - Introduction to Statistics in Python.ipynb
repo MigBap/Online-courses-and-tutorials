{
 "cells": [
  {
   "cell_type": "markdown",
   "id": "74a666bf-098b-4eb1-9845-43118e9105b9",
   "metadata": {},
   "source": [
    "# DataCamp - Introduction to Statistics in Python"
   ]
  },
  {
   "cell_type": "code",
   "execution_count": 1,
   "id": "a3427779-ba18-412e-86df-d1e0065ff722",
   "metadata": {},
   "outputs": [],
   "source": [
    "# load data folder\n",
    "data_folder = \"/Users/miguelbaptista/Library/CloudStorage/OneDrive-Personal/Data_Science/Python/MOOC/DataCamp/ficheiros_2/\""
   ]
  },
  {
   "cell_type": "code",
   "execution_count": 2,
   "id": "8609c2c0-7cd7-4df2-91e9-014c52eea5f4",
   "metadata": {},
   "outputs": [],
   "source": [
    "%matplotlib inline\n",
    "import pandas as pd\n",
    "import numpy as np\n",
    "import matplotlib.pyplot as plt\n",
    "import seaborn as sns\n",
    "sns.set()"
   ]
  },
  {
   "cell_type": "markdown",
   "id": "94bd53e4-20b1-4430-9381-9b4cf887c066",
   "metadata": {},
   "source": [
    "# 0) Load files"
   ]
  },
  {
   "cell_type": "code",
   "execution_count": 3,
   "id": "daa65f12-e1dc-4598-9813-28ac2bf24fb6",
   "metadata": {},
   "outputs": [],
   "source": [
    "# load course files\n",
    "amir_deals = pd.read_csv(data_folder + \"amir_deals.csv\", index_col=0)\n",
    "food_consumption = pd.read_csv(data_folder + \"food_consumption.csv\", index_col=0)\n",
    "world_happiness = pd.read_csv(data_folder + \"world_happiness.csv\", index_col=0)\n"
   ]
  },
  {
   "cell_type": "code",
   "execution_count": null,
   "id": "9aebb8c0-da44-4807-a011-76967c7499b0",
   "metadata": {},
   "outputs": [],
   "source": []
  },
  {
   "cell_type": "markdown",
   "id": "4f897fa4-072e-4cb2-b1a1-a619ffe6372e",
   "metadata": {},
   "source": [
    "# 1) Summary Statistics"
   ]
  },
  {
   "cell_type": "code",
   "execution_count": 4,
   "id": "62ac8a9f-52d3-48b7-b38f-c5b4ed117ee8",
   "metadata": {},
   "outputs": [],
   "source": [
    "# vídeo - What is statistics"
   ]
  },
  {
   "cell_type": "markdown",
   "id": "cf2681bb-53be-44e3-9816-24e0f6bcb931",
   "metadata": {},
   "source": [
    "## Measures of center"
   ]
  },
  {
   "cell_type": "code",
   "execution_count": 5,
   "id": "488382f3-9a4b-4646-bdb3-4d3eed33faf9",
   "metadata": {},
   "outputs": [
    {
     "data": {
      "text/html": [
       "<div>\n",
       "<style scoped>\n",
       "    .dataframe tbody tr th:only-of-type {\n",
       "        vertical-align: middle;\n",
       "    }\n",
       "\n",
       "    .dataframe tbody tr th {\n",
       "        vertical-align: top;\n",
       "    }\n",
       "\n",
       "    .dataframe thead th {\n",
       "        text-align: right;\n",
       "    }\n",
       "</style>\n",
       "<table border=\"1\" class=\"dataframe\">\n",
       "  <thead>\n",
       "    <tr style=\"text-align: right;\">\n",
       "      <th></th>\n",
       "      <th>country</th>\n",
       "      <th>food_category</th>\n",
       "      <th>consumption</th>\n",
       "      <th>co2_emission</th>\n",
       "    </tr>\n",
       "  </thead>\n",
       "  <tbody>\n",
       "    <tr>\n",
       "      <th>56</th>\n",
       "      <td>USA</td>\n",
       "      <td>pork</td>\n",
       "      <td>27.64</td>\n",
       "      <td>97.83</td>\n",
       "    </tr>\n",
       "    <tr>\n",
       "      <th>57</th>\n",
       "      <td>USA</td>\n",
       "      <td>poultry</td>\n",
       "      <td>50.01</td>\n",
       "      <td>53.72</td>\n",
       "    </tr>\n",
       "  </tbody>\n",
       "</table>\n",
       "</div>"
      ],
      "text/plain": [
       "   country food_category  consumption  co2_emission\n",
       "56     USA          pork        27.64         97.83\n",
       "57     USA       poultry        50.01         53.72"
      ]
     },
     "metadata": {},
     "output_type": "display_data"
    },
    {
     "name": "stdout",
     "output_type": "stream",
     "text": [
      "44.650000000000006\n",
      "14.58\n"
     ]
    }
   ],
   "source": [
    "# Import numpy with alias np\n",
    "import numpy as np\n",
    "\n",
    "# Subset country for USA: usa_consumption\n",
    "usa_consumption = food_consumption[food_consumption[\"country\"] == 'USA']\n",
    "display(usa_consumption.head(2))\n",
    "\n",
    "# Calculate mean consumption in USA\n",
    "print(np.mean(usa_consumption[\"consumption\"]))\n",
    "\n",
    "# Calculate median consumption in USA\n",
    "print(np.median(usa_consumption[\"consumption\"]))\n"
   ]
  },
  {
   "cell_type": "code",
   "execution_count": null,
   "id": "aa37571d-cdea-4d73-8c0f-09f0d1fb5b70",
   "metadata": {},
   "outputs": [],
   "source": []
  },
  {
   "cell_type": "code",
   "execution_count": 6,
   "id": "82ab3795-6b4f-4746-bc80-30e90ea577bb",
   "metadata": {},
   "outputs": [
    {
     "name": "stdout",
     "output_type": "stream",
     "text": [
      "(130, 4)\n"
     ]
    },
    {
     "data": {
      "text/html": [
       "<div>\n",
       "<style scoped>\n",
       "    .dataframe tbody tr th:only-of-type {\n",
       "        vertical-align: middle;\n",
       "    }\n",
       "\n",
       "    .dataframe tbody tr th {\n",
       "        vertical-align: top;\n",
       "    }\n",
       "\n",
       "    .dataframe thead th {\n",
       "        text-align: right;\n",
       "    }\n",
       "</style>\n",
       "<table border=\"1\" class=\"dataframe\">\n",
       "  <thead>\n",
       "    <tr style=\"text-align: right;\">\n",
       "      <th></th>\n",
       "      <th>country</th>\n",
       "      <th>food_category</th>\n",
       "      <th>consumption</th>\n",
       "      <th>co2_emission</th>\n",
       "    </tr>\n",
       "  </thead>\n",
       "  <tbody>\n",
       "    <tr>\n",
       "      <th>9</th>\n",
       "      <td>Argentina</td>\n",
       "      <td>rice</td>\n",
       "      <td>8.77</td>\n",
       "      <td>11.22</td>\n",
       "    </tr>\n",
       "    <tr>\n",
       "      <th>20</th>\n",
       "      <td>Australia</td>\n",
       "      <td>rice</td>\n",
       "      <td>11.03</td>\n",
       "      <td>14.12</td>\n",
       "    </tr>\n",
       "    <tr>\n",
       "      <th>31</th>\n",
       "      <td>Albania</td>\n",
       "      <td>rice</td>\n",
       "      <td>7.78</td>\n",
       "      <td>9.96</td>\n",
       "    </tr>\n",
       "    <tr>\n",
       "      <th>42</th>\n",
       "      <td>Iceland</td>\n",
       "      <td>rice</td>\n",
       "      <td>3.89</td>\n",
       "      <td>4.98</td>\n",
       "    </tr>\n",
       "    <tr>\n",
       "      <th>53</th>\n",
       "      <td>New Zealand</td>\n",
       "      <td>rice</td>\n",
       "      <td>9.16</td>\n",
       "      <td>11.72</td>\n",
       "    </tr>\n",
       "  </tbody>\n",
       "</table>\n",
       "</div>"
      ],
      "text/plain": [
       "        country food_category  consumption  co2_emission\n",
       "9     Argentina          rice         8.77         11.22\n",
       "20    Australia          rice        11.03         14.12\n",
       "31      Albania          rice         7.78          9.96\n",
       "42      Iceland          rice         3.89          4.98\n",
       "53  New Zealand          rice         9.16         11.72"
      ]
     },
     "metadata": {},
     "output_type": "display_data"
    },
    {
     "data": {
      "image/png": "[encoded data removed]",
      "text/plain": [
       "<Figure size 640x480 with 1 Axes>"
      ]
     },
     "metadata": {},
     "output_type": "display_data"
    }
   ],
   "source": [
    "# Import matplotlib.pyplot with alias plt\n",
    "import matplotlib.pyplot as plt\n",
    "\n",
    "# Subset for food_category equals rice\n",
    "rice_consumption = food_consumption[food_consumption[\"food_category\"] == 'rice']\n",
    "print(rice_consumption.shape)\n",
    "display(rice_consumption.head())\n",
    "\n",
    "# Histogram of co2_emission for rice and show plot\n",
    "plt.hist(rice_consumption[\"co2_emission\"])\n",
    "plt.title(\"co2_emission in rice consumption\")\n",
    "plt.show()"
   ]
  },
  {
   "cell_type": "code",
   "execution_count": 7,
   "id": "c59b41ec-5514-47b4-8e9d-8a16283195c4",
   "metadata": {},
   "outputs": [
    {
     "name": "stdout",
     "output_type": "stream",
     "text": [
      "mean      37.591615\n",
      "median    15.200000\n",
      "Name: co2_emission, dtype: float64\n"
     ]
    }
   ],
   "source": [
    "# Subset for food_category equals rice\n",
    "rice_consumption = food_consumption[food_consumption['food_category'] == 'rice']\n",
    "\n",
    "# Calculate mean and median of co2_emission with .agg()\n",
    "print(rice_consumption[\"co2_emission\"].agg([\"mean\", \"median\"]))"
   ]
  },
  {
   "cell_type": "code",
   "execution_count": null,
   "id": "8e6b0074-7b2c-4e8d-850a-ed99df61641e",
   "metadata": {},
   "outputs": [],
   "source": []
  },
  {
   "cell_type": "markdown",
   "id": "5d593a86-10ec-4013-8a6d-4fa51ea94943",
   "metadata": {},
   "source": [
    "- Question:\n",
    "Given the skew of this data, what measure of central tendency best summarizes the kilograms of CO2 emissions per person per year for rice?\n",
    "\n",
    "- Answer: Median"
   ]
  },
  {
   "cell_type": "code",
   "execution_count": null,
   "id": "2b6ba03e-d900-433f-a13f-6e83b86e95d1",
   "metadata": {},
   "outputs": [],
   "source": []
  },
  {
   "cell_type": "markdown",
   "id": "33aef038-38c6-41bb-84eb-ff782736cdd1",
   "metadata": {},
   "source": [
    "## Measures of spread"
   ]
  },
  {
   "cell_type": "code",
   "execution_count": 8,
   "id": "ba6d6cfb-b965-4fc5-b2b2-5bbcb44536fb",
   "metadata": {},
   "outputs": [],
   "source": [
    "# ddof --> “Delta Degrees of Freedom”: the divisor used in the calculation is N - ddof, where N represents \n",
    "#                                      the number of elements. By default ddof is zero\n",
    "\n",
    "# np.var(, ddof=0)---> default ---> for SAMPLE variance   /(N - 1)\n",
    "# np.var(, ddof=1) ---> for POPULATION variance           / N"
   ]
  },
  {
   "cell_type": "code",
   "execution_count": 9,
   "id": "7d778f30-662c-40ff-82b5-55a20c0ae676",
   "metadata": {},
   "outputs": [],
   "source": [
    "# np.mean(np.ab(distances)) ---> Mean absolute deviation"
   ]
  },
  {
   "cell_type": "code",
   "execution_count": 10,
   "id": "4713817e-7082-41f0-af44-0ec7d270cf9a",
   "metadata": {},
   "outputs": [],
   "source": [
    "# quantiles (percentiles)\n",
    "\n",
    "#np.quantile(, 0.5)  ----> 50% (this is the same as the median)\n",
    "\n",
    "\n",
    "# quartiles --> \n",
    "# np.linspace(start, stop, number_of_quantiles)\n",
    "\n",
    "# IQR (Interquartile range)\n",
    "# we can use quantiles (difference) or iqr from scipy\n",
    "\n",
    "# outliers --> \n",
    "#  data < Q1 - 1.5*IQR   \n",
    "# or\n",
    "#  data > Q3 +1.5*IQR"
   ]
  },
  {
   "cell_type": "code",
   "execution_count": null,
   "id": "41085db5-9355-44b2-94c1-5d3c62aaf1d1",
   "metadata": {},
   "outputs": [],
   "source": []
  },
  {
   "cell_type": "markdown",
   "id": "a08ba76c-99e3-486e-8755-d0af35ac452b",
   "metadata": {},
   "source": [
    "## Variance and standard deviation"
   ]
  },
  {
   "cell_type": "code",
   "execution_count": 11,
   "id": "47e19a60-005d-4c43-9b9b-325242f916c4",
   "metadata": {},
   "outputs": [
    {
     "data": {
      "text/html": [
       "<div>\n",
       "<style scoped>\n",
       "    .dataframe tbody tr th:only-of-type {\n",
       "        vertical-align: middle;\n",
       "    }\n",
       "\n",
       "    .dataframe tbody tr th {\n",
       "        vertical-align: top;\n",
       "    }\n",
       "\n",
       "    .dataframe thead th {\n",
       "        text-align: right;\n",
       "    }\n",
       "</style>\n",
       "<table border=\"1\" class=\"dataframe\">\n",
       "  <thead>\n",
       "    <tr style=\"text-align: right;\">\n",
       "      <th></th>\n",
       "      <th>country</th>\n",
       "      <th>food_category</th>\n",
       "      <th>consumption</th>\n",
       "      <th>co2_emission</th>\n",
       "    </tr>\n",
       "  </thead>\n",
       "  <tbody>\n",
       "    <tr>\n",
       "      <th>1</th>\n",
       "      <td>Argentina</td>\n",
       "      <td>pork</td>\n",
       "      <td>10.51</td>\n",
       "      <td>37.20</td>\n",
       "    </tr>\n",
       "    <tr>\n",
       "      <th>2</th>\n",
       "      <td>Argentina</td>\n",
       "      <td>poultry</td>\n",
       "      <td>38.66</td>\n",
       "      <td>41.53</td>\n",
       "    </tr>\n",
       "    <tr>\n",
       "      <th>3</th>\n",
       "      <td>Argentina</td>\n",
       "      <td>beef</td>\n",
       "      <td>55.48</td>\n",
       "      <td>1712.00</td>\n",
       "    </tr>\n",
       "    <tr>\n",
       "      <th>4</th>\n",
       "      <td>Argentina</td>\n",
       "      <td>lamb_goat</td>\n",
       "      <td>1.56</td>\n",
       "      <td>54.63</td>\n",
       "    </tr>\n",
       "    <tr>\n",
       "      <th>5</th>\n",
       "      <td>Argentina</td>\n",
       "      <td>fish</td>\n",
       "      <td>4.36</td>\n",
       "      <td>6.96</td>\n",
       "    </tr>\n",
       "  </tbody>\n",
       "</table>\n",
       "</div>"
      ],
      "text/plain": [
       "     country food_category  consumption  co2_emission\n",
       "1  Argentina          pork        10.51         37.20\n",
       "2  Argentina       poultry        38.66         41.53\n",
       "3  Argentina          beef        55.48       1712.00\n",
       "4  Argentina     lamb_goat         1.56         54.63\n",
       "5  Argentina          fish         4.36          6.96"
      ]
     },
     "metadata": {},
     "output_type": "display_data"
    }
   ],
   "source": [
    "display(food_consumption.head())"
   ]
  },
  {
   "cell_type": "code",
   "execution_count": 12,
   "id": "424d0f03-bd95-46c4-9071-dc5365f7f3b6",
   "metadata": {},
   "outputs": [
    {
     "name": "stdout",
     "output_type": "stream",
     "text": [
      "                        var         std\n",
      "food_category                          \n",
      "beef           88748.408132  297.906710\n",
      "dairy          17671.891985  132.935669\n",
      "eggs              21.371819    4.622966\n",
      "fish             921.637349   30.358481\n",
      "lamb_goat      16475.518363  128.356996\n",
      "nuts              35.639652    5.969895\n",
      "pork            3094.963537   55.632396\n",
      "poultry          245.026801   15.653332\n",
      "rice            2281.376243   47.763754\n",
      "soybeans           0.879882    0.938020\n",
      "wheat             71.023937    8.427570\n"
     ]
    }
   ],
   "source": [
    "# Print variance and sd of co2_emission for each food_category\n",
    "print(food_consumption.groupby('food_category')['co2_emission'].agg(['var', 'std']))"
   ]
  },
  {
   "cell_type": "code",
   "execution_count": 13,
   "id": "13f14710-c7f3-408c-a740-0dcf081039fd",
   "metadata": {},
   "outputs": [
    {
     "data": {
      "image/png": "[encoded data removed]",
      "text/plain": [
       "<Figure size 640x480 with 1 Axes>"
      ]
     },
     "metadata": {},
     "output_type": "display_data"
    }
   ],
   "source": [
    "# Create histogram of co2_emission for food_category 'beef'\n",
    "food_consumption[food_consumption[\"food_category\"] == 'beef']['co2_emission'].hist()\n",
    "plt.title('beef')\n",
    "plt.show()"
   ]
  },
  {
   "cell_type": "code",
   "execution_count": 14,
   "id": "5104d5e5-925c-4b5a-ae40-29b4f7e95ed1",
   "metadata": {},
   "outputs": [
    {
     "data": {
      "image/png": "[encoded data removed]",
      "text/plain": [
       "<Figure size 640x480 with 1 Axes>"
      ]
     },
     "metadata": {},
     "output_type": "display_data"
    }
   ],
   "source": [
    "# Create histogram of co2_emission for food_category 'eggs'\n",
    "food_consumption[food_consumption[\"food_category\"] == 'eggs']['co2_emission'].hist()\n",
    "plt.title('eggs')\n",
    "plt.show()"
   ]
  },
  {
   "cell_type": "code",
   "execution_count": null,
   "id": "ed5bbaba-991a-4f54-907b-dce6a6f61132",
   "metadata": {},
   "outputs": [],
   "source": []
  },
  {
   "cell_type": "markdown",
   "id": "49571056-a56a-4626-8fa5-bd5608c960f5",
   "metadata": {},
   "source": [
    "## Quartiles, quantiles, and quintiles"
   ]
  },
  {
   "cell_type": "code",
   "execution_count": 15,
   "id": "3a64a75f-fe17-4f24-8ed6-c4c1b0238660",
   "metadata": {},
   "outputs": [
    {
     "name": "stdout",
     "output_type": "stream",
     "text": [
      "[   0.        5.21     16.53     62.5975 1712.    ]\n"
     ]
    }
   ],
   "source": [
    "# Calculate the quartiles of the co2_emission column of food_consumption.\n",
    "print(np.quantile(food_consumption[\"co2_emission\"], [0, 0.25, 0.50, 0.75, 1]))"
   ]
  },
  {
   "cell_type": "code",
   "execution_count": 16,
   "id": "ebed422e-fc9a-4893-8a44-c39f56edfc69",
   "metadata": {},
   "outputs": [
    {
     "name": "stdout",
     "output_type": "stream",
     "text": [
      "[   0.       3.54    11.026   25.59    99.978 1712.   ]\n"
     ]
    }
   ],
   "source": [
    "# Calculate the six quantiles that split up the data into 5 pieces (quintiles) of the co2_emission column of food_consumption.\n",
    "print(np.quantile(food_consumption[\"co2_emission\"], np.linspace(0, 1, 6)))"
   ]
  },
  {
   "cell_type": "code",
   "execution_count": 17,
   "id": "26650bdc-fa8d-4a77-8961-783d51db0de4",
   "metadata": {},
   "outputs": [
    {
     "name": "stdout",
     "output_type": "stream",
     "text": [
      "[0.00000e+00 6.68000e-01 3.54000e+00 7.04000e+00 1.10260e+01 1.65300e+01\n",
      " 2.55900e+01 4.42710e+01 9.99780e+01 2.03629e+02 1.71200e+03]\n"
     ]
    }
   ],
   "source": [
    "# Calculate the eleven quantiles of co2_emission that split up the data into ten pieces (deciles).\n",
    "print(np.quantile(food_consumption[\"co2_emission\"], np.linspace(0, 1, 11)))"
   ]
  },
  {
   "cell_type": "code",
   "execution_count": null,
   "id": "979ef3f3-b5cd-4e72-b641-77b792269ceb",
   "metadata": {},
   "outputs": [],
   "source": []
  },
  {
   "cell_type": "markdown",
   "id": "628696c8-32c4-430d-8a49-ccbee45d2b7e",
   "metadata": {},
   "source": [
    "## Finding outliers using IQR"
   ]
  },
  {
   "cell_type": "code",
   "execution_count": 18,
   "id": "36dc8307-00f6-48aa-a499-597061bec8aa",
   "metadata": {},
   "outputs": [
    {
     "data": {
      "text/html": [
       "<div>\n",
       "<style scoped>\n",
       "    .dataframe tbody tr th:only-of-type {\n",
       "        vertical-align: middle;\n",
       "    }\n",
       "\n",
       "    .dataframe tbody tr th {\n",
       "        vertical-align: top;\n",
       "    }\n",
       "\n",
       "    .dataframe thead th {\n",
       "        text-align: right;\n",
       "    }\n",
       "</style>\n",
       "<table border=\"1\" class=\"dataframe\">\n",
       "  <thead>\n",
       "    <tr style=\"text-align: right;\">\n",
       "      <th></th>\n",
       "      <th>country</th>\n",
       "      <th>food_category</th>\n",
       "      <th>consumption</th>\n",
       "      <th>co2_emission</th>\n",
       "    </tr>\n",
       "  </thead>\n",
       "  <tbody>\n",
       "    <tr>\n",
       "      <th>1</th>\n",
       "      <td>Argentina</td>\n",
       "      <td>pork</td>\n",
       "      <td>10.51</td>\n",
       "      <td>37.20</td>\n",
       "    </tr>\n",
       "    <tr>\n",
       "      <th>2</th>\n",
       "      <td>Argentina</td>\n",
       "      <td>poultry</td>\n",
       "      <td>38.66</td>\n",
       "      <td>41.53</td>\n",
       "    </tr>\n",
       "    <tr>\n",
       "      <th>3</th>\n",
       "      <td>Argentina</td>\n",
       "      <td>beef</td>\n",
       "      <td>55.48</td>\n",
       "      <td>1712.00</td>\n",
       "    </tr>\n",
       "    <tr>\n",
       "      <th>4</th>\n",
       "      <td>Argentina</td>\n",
       "      <td>lamb_goat</td>\n",
       "      <td>1.56</td>\n",
       "      <td>54.63</td>\n",
       "    </tr>\n",
       "    <tr>\n",
       "      <th>5</th>\n",
       "      <td>Argentina</td>\n",
       "      <td>fish</td>\n",
       "      <td>4.36</td>\n",
       "      <td>6.96</td>\n",
       "    </tr>\n",
       "  </tbody>\n",
       "</table>\n",
       "</div>"
      ],
      "text/plain": [
       "     country food_category  consumption  co2_emission\n",
       "1  Argentina          pork        10.51         37.20\n",
       "2  Argentina       poultry        38.66         41.53\n",
       "3  Argentina          beef        55.48       1712.00\n",
       "4  Argentina     lamb_goat         1.56         54.63\n",
       "5  Argentina          fish         4.36          6.96"
      ]
     },
     "execution_count": 18,
     "metadata": {},
     "output_type": "execute_result"
    }
   ],
   "source": [
    "food_consumption.head()"
   ]
  },
  {
   "cell_type": "code",
   "execution_count": 19,
   "id": "2e5983f4-bd84-4b64-ba89-25691db6d1ed",
   "metadata": {},
   "outputs": [
    {
     "name": "stdout",
     "output_type": "stream",
     "text": [
      "country\n",
      "Argentina      2172.40\n",
      "Australia      1938.66\n",
      "Albania        1777.85\n",
      "New Zealand    1750.95\n",
      "Iceland        1731.36\n",
      "                ...   \n",
      "Malawi          207.94\n",
      "Liberia         203.38\n",
      "Togo            188.09\n",
      "Rwanda          181.63\n",
      "Mozambique      141.40\n",
      "Name: co2_emission, Length: 130, dtype: float64\n"
     ]
    }
   ],
   "source": [
    "# Calculate total co2_emission per country: emissions_by_country\n",
    "emissions_by_country = food_consumption.groupby('country')['co2_emission'].sum()\n",
    "\n",
    "print(emissions_by_country.sort_values(ascending=False))"
   ]
  },
  {
   "cell_type": "code",
   "execution_count": 20,
   "id": "df8e5fa8-a91f-4a04-b8f3-80ed7c9ca3fb",
   "metadata": {},
   "outputs": [
    {
     "name": "stdout",
     "output_type": "stream",
     "text": [
      "1111.1525000000001 446.66\n",
      "664.4925000000001\n"
     ]
    }
   ],
   "source": [
    "# Compute the first and third quartiles and IQR of emissions_by_country\n",
    "q1 = np.quantile(emissions_by_country, 0.25)\n",
    "q3 = np.quantile(emissions_by_country, 0.75)\n",
    "iqr = q3 - q1\n",
    "\n",
    "print(q3, q1)\n",
    "print(iqr)"
   ]
  },
  {
   "cell_type": "code",
   "execution_count": 21,
   "id": "e7c3aa9b-e63c-4d15-b0ff-b493a2a70574",
   "metadata": {},
   "outputs": [
    {
     "name": "stdout",
     "output_type": "stream",
     "text": [
      "-550.0787500000001 2107.89125\n"
     ]
    }
   ],
   "source": [
    "# Calculate the lower and upper cutoffs for outliers\n",
    "lower = q1 - 1.5*iqr\n",
    "upper = q3 + 1.5*iqr\n",
    "\n",
    "print(lower, upper)"
   ]
  },
  {
   "cell_type": "code",
   "execution_count": 22,
   "id": "73580e6b-cd4a-4385-bf8a-3cdf20c74611",
   "metadata": {},
   "outputs": [
    {
     "name": "stdout",
     "output_type": "stream",
     "text": [
      "country\n",
      "Argentina    2172.4\n",
      "Name: co2_emission, dtype: float64\n"
     ]
    }
   ],
   "source": [
    "# Subset emissions_by_country to find outliers\n",
    "outliers = emissions_by_country[(emissions_by_country < lower) | (emissions_by_country > upper)]\n",
    "print(outliers)"
   ]
  },
  {
   "cell_type": "code",
   "execution_count": null,
   "id": "bcf64fea-cda7-4e8b-b2e8-8f427e54cf5a",
   "metadata": {},
   "outputs": [],
   "source": []
  },
  {
   "cell_type": "code",
   "execution_count": null,
   "id": "2b3ef259-9362-4a8c-ac70-0b72bf5e8566",
   "metadata": {},
   "outputs": [],
   "source": []
  },
  {
   "cell_type": "markdown",
   "id": "cc4b03fd-7962-4926-a5a6-6820e0594637",
   "metadata": {},
   "source": [
    "# 2) Random Numbers and Probability"
   ]
  },
  {
   "cell_type": "markdown",
   "id": "9b93e9e7-fdc2-4603-8962-ade9f731cfc8",
   "metadata": {},
   "source": [
    "## What are the chances?"
   ]
  },
  {
   "cell_type": "code",
   "execution_count": 23,
   "id": "c3e0453d-1f44-43b8-924b-e98953bbab9e",
   "metadata": {},
   "outputs": [],
   "source": [
    "# df.sample(n) ---> selects n pseudo-randomly\n",
    "\n",
    "# np.random.seed(10) --> to ensure consistent results (the number inside is arbitrary)\n",
    "\n",
    "# sampling without replacement\n",
    "\n",
    "####\n",
    "\n",
    "# sampling with replacement\n",
    "# df.sample(2, replace=True)\n"
   ]
  },
  {
   "cell_type": "code",
   "execution_count": 24,
   "id": "a08fdddc-2fa9-4bfe-bdb1-d079aa41f2d8",
   "metadata": {},
   "outputs": [
    {
     "data": {
      "text/html": [
       "<div>\n",
       "<style scoped>\n",
       "    .dataframe tbody tr th:only-of-type {\n",
       "        vertical-align: middle;\n",
       "    }\n",
       "\n",
       "    .dataframe tbody tr th {\n",
       "        vertical-align: top;\n",
       "    }\n",
       "\n",
       "    .dataframe thead th {\n",
       "        text-align: right;\n",
       "    }\n",
       "</style>\n",
       "<table border=\"1\" class=\"dataframe\">\n",
       "  <thead>\n",
       "    <tr style=\"text-align: right;\">\n",
       "      <th></th>\n",
       "      <th>product</th>\n",
       "      <th>client</th>\n",
       "      <th>status</th>\n",
       "      <th>amount</th>\n",
       "      <th>num_users</th>\n",
       "    </tr>\n",
       "  </thead>\n",
       "  <tbody>\n",
       "    <tr>\n",
       "      <th>1</th>\n",
       "      <td>Product F</td>\n",
       "      <td>Current</td>\n",
       "      <td>Won</td>\n",
       "      <td>7389.52</td>\n",
       "      <td>19</td>\n",
       "    </tr>\n",
       "    <tr>\n",
       "      <th>2</th>\n",
       "      <td>Product C</td>\n",
       "      <td>New</td>\n",
       "      <td>Won</td>\n",
       "      <td>4493.01</td>\n",
       "      <td>43</td>\n",
       "    </tr>\n",
       "    <tr>\n",
       "      <th>3</th>\n",
       "      <td>Product B</td>\n",
       "      <td>New</td>\n",
       "      <td>Won</td>\n",
       "      <td>5738.09</td>\n",
       "      <td>87</td>\n",
       "    </tr>\n",
       "    <tr>\n",
       "      <th>4</th>\n",
       "      <td>Product I</td>\n",
       "      <td>Current</td>\n",
       "      <td>Won</td>\n",
       "      <td>2591.24</td>\n",
       "      <td>83</td>\n",
       "    </tr>\n",
       "    <tr>\n",
       "      <th>5</th>\n",
       "      <td>Product E</td>\n",
       "      <td>Current</td>\n",
       "      <td>Won</td>\n",
       "      <td>6622.97</td>\n",
       "      <td>17</td>\n",
       "    </tr>\n",
       "  </tbody>\n",
       "</table>\n",
       "</div>"
      ],
      "text/plain": [
       "     product   client status   amount  num_users\n",
       "1  Product F  Current    Won  7389.52         19\n",
       "2  Product C      New    Won  4493.01         43\n",
       "3  Product B      New    Won  5738.09         87\n",
       "4  Product I  Current    Won  2591.24         83\n",
       "5  Product E  Current    Won  6622.97         17"
      ]
     },
     "execution_count": 24,
     "metadata": {},
     "output_type": "execute_result"
    }
   ],
   "source": [
    "amir_deals.head()"
   ]
  },
  {
   "cell_type": "code",
   "execution_count": 25,
   "id": "496e7e5f-e6b4-46b9-b5df-fe4b5d555bbe",
   "metadata": {},
   "outputs": [
    {
     "name": "stdout",
     "output_type": "stream",
     "text": [
      "product\n",
      "Product B    62\n",
      "Product D    40\n",
      "Product A    23\n",
      "Product C    15\n",
      "Product F    11\n",
      "Product H     8\n",
      "Product I     7\n",
      "Product E     5\n",
      "Product N     3\n",
      "Product G     2\n",
      "Product J     2\n",
      "Name: count, dtype: int64\n"
     ]
    }
   ],
   "source": [
    "# Count the deals for each product\n",
    "counts = amir_deals[\"product\"].value_counts()\n",
    "print(counts)"
   ]
  },
  {
   "cell_type": "code",
   "execution_count": 26,
   "id": "c2c8be05-2296-4083-bbc4-8d748efffcc6",
   "metadata": {},
   "outputs": [
    {
     "name": "stdout",
     "output_type": "stream",
     "text": [
      "product\n",
      "Product B    0.348315\n",
      "Product D    0.224719\n",
      "Product A    0.129213\n",
      "Product C    0.084270\n",
      "Product F    0.061798\n",
      "Product H    0.044944\n",
      "Product I    0.039326\n",
      "Product E    0.028090\n",
      "Product N    0.016854\n",
      "Product G    0.011236\n",
      "Product J    0.011236\n",
      "Name: count, dtype: float64\n"
     ]
    }
   ],
   "source": [
    "# Calculate probability of picking a deal with each product\n",
    "probs = counts / counts.sum()\n",
    "print(probs)"
   ]
  },
  {
   "cell_type": "markdown",
   "id": "f32903ed-0c1b-4fa7-af92-8014720fadce",
   "metadata": {},
   "source": [
    "Question\n",
    "If you randomly select one of Amir's deals, what's the probability that the deal will involve Product C?\n",
    "\n",
    "Answer: 8.43%"
   ]
  },
  {
   "cell_type": "code",
   "execution_count": null,
   "id": "e5d065d0-51e8-42de-946d-742de3e5b0a5",
   "metadata": {},
   "outputs": [],
   "source": []
  },
  {
   "cell_type": "code",
   "execution_count": 27,
   "id": "617f9d6c-0563-4898-ac00-a1a26968a239",
   "metadata": {},
   "outputs": [
    {
     "name": "stdout",
     "output_type": "stream",
     "text": [
      "       product   client status   amount  num_users\n",
      "128  Product B  Current    Won  2070.25          7\n",
      "149  Product D  Current    Won  3485.48         52\n",
      "78   Product B  Current    Won  6252.30         27\n",
      "105  Product D  Current    Won  4110.98         39\n",
      "167  Product C      New   Lost  3779.86         11\n"
     ]
    }
   ],
   "source": [
    "# Set random seed\n",
    "np.random.seed(24)\n",
    "\n",
    "# Sample 5 deals without replacement\n",
    "sample_without_replacement = amir_deals.sample(5)\n",
    "print(sample_without_replacement)"
   ]
  },
  {
   "cell_type": "code",
   "execution_count": 28,
   "id": "36fa626a-5a21-4606-b830-95d6db084046",
   "metadata": {},
   "outputs": [
    {
     "name": "stdout",
     "output_type": "stream",
     "text": [
      "       product   client status   amount  num_users\n",
      "163  Product D  Current    Won  6755.66         59\n",
      "132  Product B  Current    Won  6872.29         25\n",
      "88   Product C  Current    Won  3579.63          3\n",
      "146  Product A  Current    Won  4682.94         63\n",
      "146  Product A  Current    Won  4682.94         63\n"
     ]
    }
   ],
   "source": [
    "# Set random seed\n",
    "np.random.seed(24)\n",
    "\n",
    "# Sample 5 deals with replacement\n",
    "sample_with_replacement = amir_deals.sample(5, replace=True)\n",
    "print(sample_with_replacement)"
   ]
  },
  {
   "cell_type": "markdown",
   "id": "bb9012e7-671a-4c3c-b8f8-22b6617f1f7e",
   "metadata": {},
   "source": [
    "Question\n",
    "What type of sampling is better to use for this situation?\n",
    "\n",
    "Answer: without replacement"
   ]
  },
  {
   "cell_type": "code",
   "execution_count": null,
   "id": "f0328ebe-1684-4818-8452-8d2b6510d025",
   "metadata": {},
   "outputs": [],
   "source": []
  },
  {
   "cell_type": "markdown",
   "id": "637bf286-2544-460b-aa5b-2f08e0156dcf",
   "metadata": {},
   "source": [
    "## Discrete distributions"
   ]
  },
  {
   "cell_type": "code",
   "execution_count": 29,
   "id": "a9703210-4763-48fe-8c4d-83395a5761fd",
   "metadata": {},
   "outputs": [],
   "source": [
    "# Law of large numbers"
   ]
  },
  {
   "cell_type": "code",
   "execution_count": 30,
   "id": "99a659cd-9d7a-4fd7-8413-e1ee29c3fd96",
   "metadata": {},
   "outputs": [],
   "source": [
    "# # Create a histogram of restaurant_groups and show plot\n",
    "# restaurant_groups['group_size'].plot(kind='hist', bins=[2, 3, 4, 5, 6])\n",
    "# plt.show()"
   ]
  },
  {
   "cell_type": "code",
   "execution_count": 31,
   "id": "a365dcfe-d67c-475b-81e6-7cdec426d07a",
   "metadata": {},
   "outputs": [],
   "source": [
    "# # Create probability distribution\n",
    "# size_dist = restaurant_groups['group_size'] / restaurant_groups['group_size'].sum()\n",
    "\n",
    "# # Reset index and rename columns\n",
    "# size_dist = size_dist.reset_index()\n",
    "# size_dist.columns = ['size_dist', 'group_size']\n",
    "\n",
    "# print(size_dist)"
   ]
  },
  {
   "cell_type": "code",
   "execution_count": 32,
   "id": "6b8b5970-82fb-4436-b5c4-a16683aa221a",
   "metadata": {},
   "outputs": [],
   "source": [
    "# # Calculate expected value\n",
    "# expected_value = np.sum(size_dist['group_size']*size_dist['prob'])\n",
    "# print(expected_value)"
   ]
  },
  {
   "cell_type": "code",
   "execution_count": 33,
   "id": "f927fc43-56d8-4805-8fc3-c6aa79cb55ca",
   "metadata": {},
   "outputs": [],
   "source": [
    "# # Subset groups of size 4 or more\n",
    "# groups_4_or_more = size_dist[size_dist['group_size'] >= 4]\n",
    "\n",
    "# # Sum the probabilities of groups_4_or_more\n",
    "# prob_4_or_more = np.sum(groups_4_or_more['prob'])\n",
    "# print(prob_4_or_more)"
   ]
  },
  {
   "cell_type": "code",
   "execution_count": null,
   "id": "4caee123-cd4d-493c-ae03-1fa6649c97ee",
   "metadata": {},
   "outputs": [],
   "source": []
  },
  {
   "cell_type": "markdown",
   "id": "db0014d6-be70-4521-b9c4-166c64523570",
   "metadata": {},
   "source": [
    "## Continuous distributions"
   ]
  },
  {
   "cell_type": "code",
   "execution_count": 34,
   "id": "d483c343-83a1-4696-ad1a-757146aa3f14",
   "metadata": {},
   "outputs": [
    {
     "name": "stdout",
     "output_type": "stream",
     "text": [
      "probability of waiting time <= 7:  0.5833333333333334\n",
      "probability of waiting time >= 7:  0.41666666666666663\n",
      "probability of waiting time between 4 and 7:  0.25000000000000006\n",
      "\n",
      "\n",
      "Generate 10 random values between 0 and 5: \n",
      " [1.1003365  1.80528177 3.69920495 4.98227863 1.58173489 0.6827229\n",
      " 1.91990005 1.60259642 1.83207377 3.54825781]\n"
     ]
    }
   ],
   "source": [
    "# Continuous uniform distribution ---> horizontal line\n",
    "\n",
    "from scipy.stats import uniform\n",
    "\n",
    "print(\"probability of waiting time <= 7: \", uniform.cdf(7, 0, 12) )  \n",
    "print(\"probability of waiting time >= 7: \", 1 - uniform.cdf(7, 0, 12) )  \n",
    "print(\"probability of waiting time between 4 and 7: \", uniform.cdf(7, 0, 12) - uniform.cdf(4, 0, 12) )   \n",
    "\n",
    "print(\"\\n\")\n",
    "\n",
    "# Generating random numbers according to uniform distribution\n",
    "\n",
    "from scipy.stats import uniform\n",
    "\n",
    "print(\"Generate 10 random values between 0 and 5: \\n\", uniform.rvs(0, 5, size=10) )"
   ]
  },
  {
   "cell_type": "code",
   "execution_count": 35,
   "id": "e9e9b7f4-0410-4143-b813-a517740209b5",
   "metadata": {},
   "outputs": [],
   "source": [
    "####"
   ]
  },
  {
   "cell_type": "code",
   "execution_count": 36,
   "id": "8815111e-6c49-4877-b23f-33c562d9f268",
   "metadata": {},
   "outputs": [
    {
     "data": {
      "text/html": [
       "<div>\n",
       "<style scoped>\n",
       "    .dataframe tbody tr th:only-of-type {\n",
       "        vertical-align: middle;\n",
       "    }\n",
       "\n",
       "    .dataframe tbody tr th {\n",
       "        vertical-align: top;\n",
       "    }\n",
       "\n",
       "    .dataframe thead th {\n",
       "        text-align: right;\n",
       "    }\n",
       "</style>\n",
       "<table border=\"1\" class=\"dataframe\">\n",
       "  <thead>\n",
       "    <tr style=\"text-align: right;\">\n",
       "      <th></th>\n",
       "      <th>product</th>\n",
       "      <th>client</th>\n",
       "      <th>status</th>\n",
       "      <th>amount</th>\n",
       "      <th>num_users</th>\n",
       "    </tr>\n",
       "  </thead>\n",
       "  <tbody>\n",
       "    <tr>\n",
       "      <th>1</th>\n",
       "      <td>Product F</td>\n",
       "      <td>Current</td>\n",
       "      <td>Won</td>\n",
       "      <td>7389.52</td>\n",
       "      <td>19</td>\n",
       "    </tr>\n",
       "    <tr>\n",
       "      <th>2</th>\n",
       "      <td>Product C</td>\n",
       "      <td>New</td>\n",
       "      <td>Won</td>\n",
       "      <td>4493.01</td>\n",
       "      <td>43</td>\n",
       "    </tr>\n",
       "    <tr>\n",
       "      <th>3</th>\n",
       "      <td>Product B</td>\n",
       "      <td>New</td>\n",
       "      <td>Won</td>\n",
       "      <td>5738.09</td>\n",
       "      <td>87</td>\n",
       "    </tr>\n",
       "    <tr>\n",
       "      <th>4</th>\n",
       "      <td>Product I</td>\n",
       "      <td>Current</td>\n",
       "      <td>Won</td>\n",
       "      <td>2591.24</td>\n",
       "      <td>83</td>\n",
       "    </tr>\n",
       "    <tr>\n",
       "      <th>5</th>\n",
       "      <td>Product E</td>\n",
       "      <td>Current</td>\n",
       "      <td>Won</td>\n",
       "      <td>6622.97</td>\n",
       "      <td>17</td>\n",
       "    </tr>\n",
       "  </tbody>\n",
       "</table>\n",
       "</div>"
      ],
      "text/plain": [
       "     product   client status   amount  num_users\n",
       "1  Product F  Current    Won  7389.52         19\n",
       "2  Product C      New    Won  4493.01         43\n",
       "3  Product B      New    Won  5738.09         87\n",
       "4  Product I  Current    Won  2591.24         83\n",
       "5  Product E  Current    Won  6622.97         17"
      ]
     },
     "execution_count": 36,
     "metadata": {},
     "output_type": "execute_result"
    }
   ],
   "source": [
    "amir_deals.head()"
   ]
  },
  {
   "cell_type": "code",
   "execution_count": 37,
   "id": "ca19da8a-d4ca-4800-a117-3fef1b45961a",
   "metadata": {},
   "outputs": [],
   "source": [
    "# Min and max wait times for back-up that happens every 30 min\n",
    "min_time = 0\n",
    "max_time = 30"
   ]
  },
  {
   "cell_type": "code",
   "execution_count": 38,
   "id": "22e66ceb-ca9b-4fb5-8623-047bdbc5c2f6",
   "metadata": {},
   "outputs": [
    {
     "name": "stdout",
     "output_type": "stream",
     "text": [
      "prob_less_than_5:  0.16666666666666666\n",
      "prob_greater_than_5:  0.8333333333333334\n",
      "prob_between_10_and_20:  0.3333333333333333\n"
     ]
    }
   ],
   "source": [
    "# Import uniform from scipy.stats\n",
    "from scipy.stats import uniform\n",
    "\n",
    "# Calculate probability of waiting less than 5 mins\n",
    "prob_less_than_5 = uniform.cdf(5, min_time, max_time)\n",
    "print(\"prob_less_than_5: \", prob_less_than_5)\n",
    "\n",
    "# Calculate probability of waiting more than 5 mins\n",
    "prob_greater_than_5 = 1 - uniform.cdf(5, min_time, max_time) \n",
    "print(\"prob_greater_than_5: \", prob_greater_than_5)\n",
    "\n",
    "# Calculate probability of waiting 10-20 mins\n",
    "prob_between_10_and_20 = uniform.cdf(20, min_time, max_time) - uniform.cdf(10, min_time, max_time)\n",
    "print(\"prob_between_10_and_20: \", prob_between_10_and_20)"
   ]
  },
  {
   "cell_type": "code",
   "execution_count": null,
   "id": "bdb4581d-a512-4a1b-82c3-663bd4dcb9db",
   "metadata": {},
   "outputs": [],
   "source": []
  },
  {
   "cell_type": "code",
   "execution_count": 39,
   "id": "9f8aa908-409e-4add-86fa-281e296f8518",
   "metadata": {},
   "outputs": [
    {
     "name": "stdout",
     "output_type": "stream",
     "text": [
      "[7.144097   0.97455866 3.72802787 5.11644319 8.70602482]\n"
     ]
    }
   ],
   "source": [
    "# Set random seed to 334\n",
    "np.random.seed(334)\n",
    "\n",
    "# Import uniform\n",
    "from scipy.stats import uniform\n",
    "\n",
    "# Generate 1000 wait times between 0 and 30 mins\n",
    "wait_times = uniform.rvs(0, 30, size=1000)\n",
    "\n",
    "# check just first 5\n",
    "print(wait_times[:5])"
   ]
  },
  {
   "cell_type": "code",
   "execution_count": 40,
   "id": "50b2105c-9c54-449e-bac3-444ca52a3dc8",
   "metadata": {},
   "outputs": [
    {
     "data": {
      "image/png": "[encoded data removed]",
      "text/plain": [
       "<Figure size 640x480 with 1 Axes>"
      ]
     },
     "metadata": {},
     "output_type": "display_data"
    }
   ],
   "source": [
    "# Create a histogram of simulated times and show plot\n",
    "plt.hist(wait_times)\n",
    "plt.show()"
   ]
  },
  {
   "cell_type": "code",
   "execution_count": null,
   "id": "37d39c70-f8ee-4d10-9194-2b8d33fb062f",
   "metadata": {},
   "outputs": [],
   "source": []
  },
  {
   "cell_type": "markdown",
   "id": "b3704845-b6ff-4ea7-bbd0-498711504eca",
   "metadata": {},
   "source": [
    "## The binomial distribution"
   ]
  },
  {
   "cell_type": "code",
   "execution_count": 41,
   "id": "37ce897f-0a21-4bb3-b923-9df42c4d70d3",
   "metadata": {},
   "outputs": [
    {
     "name": "stdout",
     "output_type": "stream",
     "text": [
      "[1]\n",
      "[1 0 0 1 0 0 1 0]\n",
      "[3]\n",
      "\n",
      "\n",
      "[1 1 1 0 0 0 1 1 1 0]\n",
      "What is the probability of 7 heads? (pmf - Probability mass function):  0.11718750000000004\n",
      "What is the probability of getting 7 or fewer heads? (cdf - Cumulative distribution function):  0.9453125\n"
     ]
    }
   ],
   "source": [
    "# vídeo\n",
    "\n",
    "from scipy.stats import binom\n",
    "\n",
    "# binom.rvs(# of coins, probability of heads/success, size= # of trials)\n",
    "\n",
    "# rvs --> Random variates\n",
    "\n",
    "print(binom.rvs(1, 0.5, size=1))\n",
    "print(binom.rvs(1, 0.5, size=8))\n",
    "print(binom.rvs(8, 0.5, size=1)) # flipping 8 coins 1 time --> number of heads/successes/1's\n",
    "\n",
    "print(\"\\n\")\n",
    "# Other probabilities\n",
    "\n",
    "# Heads with 25% chance and Tails with 75% chance\n",
    "print(binom.rvs(3, 0.25, size=10))\n",
    "\n",
    "# Binomial distribution --> Probability distribution of the number of successes in a sequence of independent trials-\n",
    "# binom.rvs(3, 0.5 (probability of success), size= 10 (n, number of trials))\n",
    "\n",
    "# What is the probability of 7 heads?\n",
    "# print(binom.pmf(number of heads, number of trials, probability of heads))\n",
    "print(\"What is the probability of 7 heads? (pmf - Probability mass function): \", binom.pmf(7, 10, 0.5))\n",
    "\n",
    "\n",
    "# What is the probability of getting 7 or fewer heads?\n",
    "print(\"What is the probability of getting 7 or fewer heads? (cdf - Cumulative distribution function): \",binom.cdf(7, 10, 0.5))\n"
   ]
  },
  {
   "cell_type": "code",
   "execution_count": 42,
   "id": "c33315c3-29ec-4bc4-814d-81952caae764",
   "metadata": {},
   "outputs": [],
   "source": [
    "###"
   ]
  },
  {
   "cell_type": "code",
   "execution_count": 43,
   "id": "7f40f3b9-01b0-4dd3-8607-2ef200a2120a",
   "metadata": {},
   "outputs": [
    {
     "data": {
      "text/html": [
       "<div>\n",
       "<style scoped>\n",
       "    .dataframe tbody tr th:only-of-type {\n",
       "        vertical-align: middle;\n",
       "    }\n",
       "\n",
       "    .dataframe tbody tr th {\n",
       "        vertical-align: top;\n",
       "    }\n",
       "\n",
       "    .dataframe thead th {\n",
       "        text-align: right;\n",
       "    }\n",
       "</style>\n",
       "<table border=\"1\" class=\"dataframe\">\n",
       "  <thead>\n",
       "    <tr style=\"text-align: right;\">\n",
       "      <th></th>\n",
       "      <th>product</th>\n",
       "      <th>client</th>\n",
       "      <th>status</th>\n",
       "      <th>amount</th>\n",
       "      <th>num_users</th>\n",
       "    </tr>\n",
       "  </thead>\n",
       "  <tbody>\n",
       "    <tr>\n",
       "      <th>1</th>\n",
       "      <td>Product F</td>\n",
       "      <td>Current</td>\n",
       "      <td>Won</td>\n",
       "      <td>7389.52</td>\n",
       "      <td>19</td>\n",
       "    </tr>\n",
       "    <tr>\n",
       "      <th>2</th>\n",
       "      <td>Product C</td>\n",
       "      <td>New</td>\n",
       "      <td>Won</td>\n",
       "      <td>4493.01</td>\n",
       "      <td>43</td>\n",
       "    </tr>\n",
       "    <tr>\n",
       "      <th>3</th>\n",
       "      <td>Product B</td>\n",
       "      <td>New</td>\n",
       "      <td>Won</td>\n",
       "      <td>5738.09</td>\n",
       "      <td>87</td>\n",
       "    </tr>\n",
       "  </tbody>\n",
       "</table>\n",
       "</div>"
      ],
      "text/plain": [
       "     product   client status   amount  num_users\n",
       "1  Product F  Current    Won  7389.52         19\n",
       "2  Product C      New    Won  4493.01         43\n",
       "3  Product B      New    Won  5738.09         87"
      ]
     },
     "execution_count": 43,
     "metadata": {},
     "output_type": "execute_result"
    }
   ],
   "source": [
    "amir_deals.head(3)"
   ]
  },
  {
   "cell_type": "code",
   "execution_count": 44,
   "id": "1c544c3e-00c0-4e81-9e48-0ce83757aace",
   "metadata": {},
   "outputs": [
    {
     "name": "stdout",
     "output_type": "stream",
     "text": [
      "[1]\n",
      "[0]\n",
      "None\n",
      "[1 1 1 0 0 1 0 0 1 2 0 1 2 1 1 0 2 1 1 0 1 1 1 1 1 1 1 1 2 1 2 0 0 0 0 2 0\n",
      " 1 1 2 0 2 1 1 0 2 0 0 1 0 2 0]\n",
      "0.8461538461538461\n"
     ]
    }
   ],
   "source": [
    "# Import binom from scipy.stats\n",
    "from scipy.stats import binom\n",
    "\n",
    "# Set random seed to 10\n",
    "np.random.seed(10)\n",
    "\n",
    "# Simulate a single deal\n",
    "print(binom.rvs(1, 0.30, size=1))\n",
    "\n",
    "# Simulate 1 week of 3 deals\n",
    "print(print(binom.rvs(3, 0.30, size=1)))\n",
    "\n",
    "# Simulate 52 weeks of 3 deals\n",
    "deals = binom.rvs(3, 0.30, size=52)\n",
    "print(deals)\n",
    "\n",
    "# Print mean deals won per week\n",
    "print(np.mean(deals))"
   ]
  },
  {
   "cell_type": "code",
   "execution_count": 45,
   "id": "d02e757d-71ef-4f7c-be83-28b45b2d4ae6",
   "metadata": {},
   "outputs": [
    {
     "name": "stdout",
     "output_type": "stream",
     "text": [
      "0.026999999999999996\n"
     ]
    }
   ],
   "source": [
    "# Probability of closing 3 out of 3 deals\n",
    "prob_3 = binom.pmf(3, 3, 0.30)\n",
    "print(prob_3)"
   ]
  },
  {
   "cell_type": "code",
   "execution_count": 46,
   "id": "50b5a901-d3d4-4e11-80f4-e744aaa916af",
   "metadata": {},
   "outputs": [
    {
     "name": "stdout",
     "output_type": "stream",
     "text": [
      "0.784\n"
     ]
    }
   ],
   "source": [
    "# Probability of closing <= 1 deal out of 3 deals\n",
    "prob_less_than_or_equal_1 = binom.cdf(1, 3, 0.30)\n",
    "print(prob_less_than_or_equal_1)"
   ]
  },
  {
   "cell_type": "code",
   "execution_count": 47,
   "id": "7cac5c6e-97f3-4e95-ae2f-37dad5cc90cc",
   "metadata": {},
   "outputs": [
    {
     "name": "stdout",
     "output_type": "stream",
     "text": [
      "0.21599999999999997\n"
     ]
    }
   ],
   "source": [
    "# Probability of closing > 1 deal out of 3 deals\n",
    "prob_greater_than_1 = 1 - binom.cdf(1, 3, 0.30)\n",
    "\n",
    "print(prob_greater_than_1)"
   ]
  },
  {
   "cell_type": "code",
   "execution_count": 48,
   "id": "63c42a1e-f6cf-46b1-8c3e-7917978ba45f",
   "metadata": {},
   "outputs": [
    {
     "name": "stdout",
     "output_type": "stream",
     "text": [
      "0.8999999999999999\n",
      "0.75\n",
      "1.0499999999999998\n"
     ]
    }
   ],
   "source": [
    "# Expected number won with 30% win rate\n",
    "won_30pct = 3 * 0.30\n",
    "print(won_30pct)\n",
    "\n",
    "# Expected number won with 25% win rate\n",
    "won_25pct = 3 * 0.25\n",
    "print(won_25pct)\n",
    "\n",
    "# Expected number won with 35% win rate\n",
    "won_35pct = 3 * 0.35\n",
    "print(won_35pct) # If Amir's win rate goes up by 5%, he can expect to close more than 1 deal on average each week."
   ]
  },
  {
   "cell_type": "code",
   "execution_count": null,
   "id": "5a6d2fd9-e92e-4b5f-b45c-8b40b5e945b7",
   "metadata": {},
   "outputs": [],
   "source": []
  },
  {
   "cell_type": "code",
   "execution_count": null,
   "id": "beb97cba-c086-4eaa-a617-597f1977cba1",
   "metadata": {},
   "outputs": [],
   "source": []
  },
  {
   "cell_type": "markdown",
   "id": "7384470c-4f8e-45dc-bdca-e2ec761bd98d",
   "metadata": {},
   "source": [
    "# 3) More Distributions and the Central Limit Theorem"
   ]
  },
  {
   "cell_type": "markdown",
   "id": "466d488b-5ce4-493e-bc63-7c7632120ef0",
   "metadata": {},
   "source": [
    "## The normal distribution"
   ]
  },
  {
   "cell_type": "code",
   "execution_count": 49,
   "id": "b73b89e5-e418-4339-be47-375c2daf3243",
   "metadata": {},
   "outputs": [
    {
     "name": "stdout",
     "output_type": "stream",
     "text": [
      "0.15865525393145707\n",
      "169.9708609588122\n",
      "152.0291390411878\n",
      "\n",
      "\n",
      "[164.95606869 159.9680582  160.81866264 163.02365943 157.2208465\n",
      " 165.95712014 166.89557317 162.42506558 177.76292565 167.42221256]\n"
     ]
    }
   ],
   "source": [
    "# vídeo\n",
    "\n",
    "from scipy.stats import norm\n",
    "\n",
    "# cdf --> Cumulative distribution function\n",
    "print(norm.cdf(154, 161, 7))\n",
    "\n",
    "# ppf -> Percent point function (inverse of cdf —> percentiles).\n",
    "print(norm.ppf(0.9, 161, 7)) # what height are 90% of women shorter than? \n",
    "\n",
    "# What height are 90% of women taller than?\n",
    "print(norm.ppf(0.10, 161, 7))\n",
    "\n",
    "###\n",
    "print(\"\\n\")\n",
    "\n",
    "# Generating 10 random heights\n",
    "print(norm.rvs(161, 7, size=10))\n"
   ]
  },
  {
   "cell_type": "code",
   "execution_count": 50,
   "id": "c4c6ea4c-1e7b-4d78-9d0e-648117e39824",
   "metadata": {},
   "outputs": [
    {
     "data": {
      "image/png": "[encoded data removed]",
      "text/plain": [
       "<Figure size 640x480 with 1 Axes>"
      ]
     },
     "metadata": {},
     "output_type": "display_data"
    }
   ],
   "source": [
    "# visually (meu)\n",
    "import seaborn as sns\n",
    "sns.histplot(norm.rvs(161, 7, size=100), kde=True) # kernel density estimate line\n",
    "sns.histplot(norm.rvs(161, 7, size=1000), kde=True) # kernel density estimate line\n",
    "plt.show()"
   ]
  },
  {
   "cell_type": "code",
   "execution_count": 51,
   "id": "4e043769-f395-4b3b-95fd-9f07fc1c8e3e",
   "metadata": {},
   "outputs": [],
   "source": [
    "##"
   ]
  },
  {
   "cell_type": "code",
   "execution_count": 52,
   "id": "1c6db24c-7346-4fe4-a871-33547af64b60",
   "metadata": {},
   "outputs": [
    {
     "data": {
      "text/html": [
       "<div>\n",
       "<style scoped>\n",
       "    .dataframe tbody tr th:only-of-type {\n",
       "        vertical-align: middle;\n",
       "    }\n",
       "\n",
       "    .dataframe tbody tr th {\n",
       "        vertical-align: top;\n",
       "    }\n",
       "\n",
       "    .dataframe thead th {\n",
       "        text-align: right;\n",
       "    }\n",
       "</style>\n",
       "<table border=\"1\" class=\"dataframe\">\n",
       "  <thead>\n",
       "    <tr style=\"text-align: right;\">\n",
       "      <th></th>\n",
       "      <th>product</th>\n",
       "      <th>client</th>\n",
       "      <th>status</th>\n",
       "      <th>amount</th>\n",
       "      <th>num_users</th>\n",
       "    </tr>\n",
       "  </thead>\n",
       "  <tbody>\n",
       "    <tr>\n",
       "      <th>1</th>\n",
       "      <td>Product F</td>\n",
       "      <td>Current</td>\n",
       "      <td>Won</td>\n",
       "      <td>7389.52</td>\n",
       "      <td>19</td>\n",
       "    </tr>\n",
       "    <tr>\n",
       "      <th>2</th>\n",
       "      <td>Product C</td>\n",
       "      <td>New</td>\n",
       "      <td>Won</td>\n",
       "      <td>4493.01</td>\n",
       "      <td>43</td>\n",
       "    </tr>\n",
       "  </tbody>\n",
       "</table>\n",
       "</div>"
      ],
      "text/plain": [
       "     product   client status   amount  num_users\n",
       "1  Product F  Current    Won  7389.52         19\n",
       "2  Product C      New    Won  4493.01         43"
      ]
     },
     "execution_count": 52,
     "metadata": {},
     "output_type": "execute_result"
    }
   ],
   "source": [
    "amir_deals.head(2)"
   ]
  },
  {
   "cell_type": "code",
   "execution_count": 53,
   "id": "2526d6bb-d6e2-4cb1-9f04-bec72d19f4f1",
   "metadata": {},
   "outputs": [
    {
     "data": {
      "image/png": "[encoded data removed]",
      "text/plain": [
       "<Figure size 640x480 with 1 Axes>"
      ]
     },
     "metadata": {},
     "output_type": "display_data"
    }
   ],
   "source": [
    "# Histogram of amount with 10 bins and show plot\n",
    "amir_deals[\"amount\"].hist(bins=10)\n",
    "plt.show()"
   ]
  },
  {
   "cell_type": "code",
   "execution_count": null,
   "id": "492c0c59-fb88-40dd-a6cd-797038b8caaa",
   "metadata": {},
   "outputs": [],
   "source": []
  },
  {
   "cell_type": "code",
   "execution_count": 54,
   "id": "a8b21028-5f01-497f-8dd4-ed812294a321",
   "metadata": {},
   "outputs": [
    {
     "name": "stdout",
     "output_type": "stream",
     "text": [
      "0.8943502263331446\n"
     ]
    }
   ],
   "source": [
    "# Probability of deal < 7500\n",
    "prob_less_7500 = norm.cdf(7500, 5000, 2000)\n",
    "print(prob_less_7500)"
   ]
  },
  {
   "cell_type": "code",
   "execution_count": 55,
   "id": "2d716b8b-0623-42a9-89ac-d4d56d8126ff",
   "metadata": {},
   "outputs": [
    {
     "name": "stdout",
     "output_type": "stream",
     "text": [
      "0.9772498680518208\n"
     ]
    }
   ],
   "source": [
    "# Probability of deal > 1000\n",
    "prob_over_1000 = 1 - norm.cdf(1000, 5000, 2000)\n",
    "print(prob_over_1000)"
   ]
  },
  {
   "cell_type": "code",
   "execution_count": 56,
   "id": "18c04ff1-5bd6-4ad7-a870-f63bbc4e2064",
   "metadata": {},
   "outputs": [
    {
     "name": "stdout",
     "output_type": "stream",
     "text": [
      "0.6826894921370859\n"
     ]
    }
   ],
   "source": [
    "# Probability of deal between 3000 and 7000\n",
    "prob_3000_to_7000 = norm.cdf(7000, 5000, 2000) - norm.cdf(3000, 5000, 2000)\n",
    "print(prob_3000_to_7000)"
   ]
  },
  {
   "cell_type": "code",
   "execution_count": 57,
   "id": "daa433aa-4f80-4441-b579-93081854a436",
   "metadata": {},
   "outputs": [
    {
     "name": "stdout",
     "output_type": "stream",
     "text": [
      "3651.0204996078364\n"
     ]
    }
   ],
   "source": [
    "# Calculate amount that 25% of deals will be less than\n",
    "pct_25 = norm.ppf(0.25, 5000, 2000)\n",
    "print(pct_25)"
   ]
  },
  {
   "cell_type": "code",
   "execution_count": null,
   "id": "4ef5be81-a5d2-43cf-9e04-d642d0131252",
   "metadata": {},
   "outputs": [],
   "source": []
  },
  {
   "cell_type": "code",
   "execution_count": 58,
   "id": "10252df6-f38f-4c96-91c2-d30d4e76da18",
   "metadata": {},
   "outputs": [
    {
     "data": {
      "image/png": "[encoded data removed]",
      "text/plain": [
       "<Figure size 640x480 with 1 Axes>"
      ]
     },
     "metadata": {},
     "output_type": "display_data"
    }
   ],
   "source": [
    "# Calculate new average amount\n",
    "new_mean = 5000*1.20\n",
    "\n",
    "# Calculate new standard deviation\n",
    "new_sd = 2000*1.30\n",
    "\n",
    "# Simulate 36 new sales\n",
    "new_sales = norm.rvs(new_mean, new_sd, size=36)\n",
    "\n",
    "# Create histogram and show\n",
    "plt.hist(new_sales)\n",
    "plt.show()"
   ]
  },
  {
   "cell_type": "code",
   "execution_count": null,
   "id": "b9ed5c6e-d78f-4c9a-a922-aceef57b13ab",
   "metadata": {},
   "outputs": [],
   "source": []
  },
  {
   "cell_type": "code",
   "execution_count": null,
   "id": "7bd74d13-7778-4c51-8b9b-2b6925da86aa",
   "metadata": {},
   "outputs": [],
   "source": []
  },
  {
   "cell_type": "markdown",
   "id": "92ed4145-5174-40a4-832c-82a8c4263957",
   "metadata": {},
   "source": [
    "## The central limit theorem"
   ]
  },
  {
   "cell_type": "code",
   "execution_count": 59,
   "id": "265df10e-c638-4d38-aafa-6c924241bc63",
   "metadata": {},
   "outputs": [],
   "source": [
    "# vídeo\n"
   ]
  },
  {
   "cell_type": "code",
   "execution_count": 60,
   "id": "f864d3d4-e90f-4b51-a367-b82b7947bd7e",
   "metadata": {},
   "outputs": [
    {
     "data": {
      "text/html": [
       "<div>\n",
       "<style scoped>\n",
       "    .dataframe tbody tr th:only-of-type {\n",
       "        vertical-align: middle;\n",
       "    }\n",
       "\n",
       "    .dataframe tbody tr th {\n",
       "        vertical-align: top;\n",
       "    }\n",
       "\n",
       "    .dataframe thead th {\n",
       "        text-align: right;\n",
       "    }\n",
       "</style>\n",
       "<table border=\"1\" class=\"dataframe\">\n",
       "  <thead>\n",
       "    <tr style=\"text-align: right;\">\n",
       "      <th></th>\n",
       "      <th>product</th>\n",
       "      <th>client</th>\n",
       "      <th>status</th>\n",
       "      <th>amount</th>\n",
       "      <th>num_users</th>\n",
       "    </tr>\n",
       "  </thead>\n",
       "  <tbody>\n",
       "    <tr>\n",
       "      <th>1</th>\n",
       "      <td>Product F</td>\n",
       "      <td>Current</td>\n",
       "      <td>Won</td>\n",
       "      <td>7389.52</td>\n",
       "      <td>19</td>\n",
       "    </tr>\n",
       "    <tr>\n",
       "      <th>2</th>\n",
       "      <td>Product C</td>\n",
       "      <td>New</td>\n",
       "      <td>Won</td>\n",
       "      <td>4493.01</td>\n",
       "      <td>43</td>\n",
       "    </tr>\n",
       "  </tbody>\n",
       "</table>\n",
       "</div>"
      ],
      "text/plain": [
       "     product   client status   amount  num_users\n",
       "1  Product F  Current    Won  7389.52         19\n",
       "2  Product C      New    Won  4493.01         43"
      ]
     },
     "execution_count": 60,
     "metadata": {},
     "output_type": "execute_result"
    }
   ],
   "source": [
    "amir_deals.head(2)"
   ]
  },
  {
   "cell_type": "code",
   "execution_count": 61,
   "id": "8a53f1f0-9f50-4453-9199-fe8cc49f2b7f",
   "metadata": {},
   "outputs": [
    {
     "name": "stdout",
     "output_type": "stream",
     "text": [
      "(178,)\n"
     ]
    },
    {
     "data": {
      "image/png": "[encoded data removed]",
      "text/plain": [
       "<Figure size 640x480 with 1 Axes>"
      ]
     },
     "metadata": {},
     "output_type": "display_data"
    }
   ],
   "source": [
    "# Create a histogram of num_users and show\n",
    "print(amir_deals[\"num_users\"].shape)\n",
    "\n",
    "amir_deals[\"num_users\"].hist()\n",
    "plt.show()"
   ]
  },
  {
   "cell_type": "code",
   "execution_count": 62,
   "id": "e491e552-ef34-49b3-b380-927eb16eed64",
   "metadata": {},
   "outputs": [
    {
     "name": "stdout",
     "output_type": "stream",
     "text": [
      "32.0\n"
     ]
    }
   ],
   "source": [
    "# Set seed to 104\n",
    "np.random.seed(104)\n",
    "\n",
    "# Sample 20 num_users with replacement from amir_deals\n",
    "samp_20 = amir_deals[\"num_users\"].sample(20, replace=True)\n",
    "\n",
    "# Take mean of samp_20\n",
    "print(np.mean(samp_20))"
   ]
  },
  {
   "cell_type": "code",
   "execution_count": 63,
   "id": "b2befe81-fc7f-44d9-b8c8-70b40a1f2139",
   "metadata": {},
   "outputs": [
    {
     "name": "stdout",
     "output_type": "stream",
     "text": [
      "[31.35, 45.05, 33.55, 38.15, 50.85, 31.85, 34.65, 36.25, 38.9, 44.05, 35.45, 37.6, 37.95, 28.85, 33.3, 31.65, 45.5, 43.2, 24.4, 41.05, 37.2, 39.3, 29.45, 33.55, 45.3, 45.1, 30.95, 36.25, 37.65, 42.55, 34.55, 41.1, 36.9, 42.45, 38.45, 45.9, 42.7, 38.4, 32.55, 30.25, 38.0, 38.75, 49.3, 39.55, 49.05, 42.05, 41.0, 40.6, 58.25, 34.55, 51.2, 34.15, 36.95, 42.45, 41.85, 33.2, 36.15, 37.55, 34.2, 29.75, 42.35, 43.75, 29.0, 32.05, 31.65, 44.6, 30.85, 29.6, 37.7, 33.1, 36.35, 40.65, 45.7, 33.8, 40.1, 39.9, 33.5, 32.65, 32.85, 42.85, 35.4, 31.7, 32.0, 33.85, 36.6, 44.35, 39.9, 37.0, 37.3, 42.5, 38.35, 42.8, 44.55, 30.3, 50.45, 42.35, 40.65, 29.85, 39.3, 33.1]\n"
     ]
    }
   ],
   "source": [
    "sample_means = []\n",
    "# Loop 100 times\n",
    "for i in range(100):\n",
    "  # Take sample of 20 num_users\n",
    "  samp_20 = amir_deals['num_users'].sample(20, replace=True)\n",
    "  # Calculate mean of samp_20\n",
    "  samp_20_mean = np.mean(samp_20)\n",
    "  # Append samp_20_mean to sample_means\n",
    "  sample_means.append(samp_20_mean)\n",
    "  \n",
    "print(sample_means)"
   ]
  },
  {
   "cell_type": "code",
   "execution_count": 64,
   "id": "02a86c1e-5b2f-4cbf-bbe4-4d3f94115bad",
   "metadata": {},
   "outputs": [
    {
     "data": {
      "image/png": "[encoded data removed]",
      "text/plain": [
       "<Figure size 640x480 with 1 Axes>"
      ]
     },
     "metadata": {},
     "output_type": "display_data"
    }
   ],
   "source": [
    "# Convert to Series and plot histogram\n",
    "sample_means_series = pd.Series(sample_means)\n",
    "sample_means_series.hist()\n",
    "plt.title(\"Histogram of sample means\")\n",
    "# Show plot\n",
    "plt.show()"
   ]
  },
  {
   "cell_type": "code",
   "execution_count": 65,
   "id": "417f8ec4-dcae-4330-801c-803ef1dcc896",
   "metadata": {},
   "outputs": [],
   "source": [
    "%%script false --no-raise-error\n",
    "\n",
    "# Set seed to 321\n",
    "np.random.seed(321)\n",
    "\n",
    "all_deals = ???\n",
    "\n",
    "sample_means = []\n",
    "# Loop 30 times to take 30 means\n",
    "for i in range(30):\n",
    "  # Take sample of size 20 from num_users col of all_deals with replacement\n",
    "  cur_sample = all_deals['num_users'].sample(20, replace=True)\n",
    "  # Take mean of cur_sample\n",
    "  cur_mean = np.mean(cur_sample)\n",
    "  # Append cur_mean to sample_means\n",
    "  sample_means.append(cur_mean)\n",
    "\n",
    "# Print mean of sample_means\n",
    "print(np.mean(sample_means))\n",
    "\n",
    "# Print mean of num_users in amir_deals\n",
    "print(np.mean(amir_deals[\"num_users\"]))\n"
   ]
  },
  {
   "cell_type": "code",
   "execution_count": null,
   "id": "dab3587d-ce72-4b05-98f9-b4a66184ff12",
   "metadata": {},
   "outputs": [],
   "source": []
  },
  {
   "cell_type": "markdown",
   "id": "fbb65bab-bcbb-4587-81ce-6830926f8ada",
   "metadata": {},
   "source": [
    "## The Poisson distribution"
   ]
  },
  {
   "cell_type": "code",
   "execution_count": 66,
   "id": "7fa9a9ea-6c5d-4b52-a756-8ed7abe83b88",
   "metadata": {},
   "outputs": [
    {
     "name": "stdout",
     "output_type": "stream",
     "text": [
      "Probability of getting 5 adoptions in a week?:  0.09160366159257921\n",
      "Probability of number of adoptions per week is <= 5?:  0.1912360620796254\n",
      "Probability of number of adoptions per week is > 5?:  0.8087639379203746\n"
     ]
    }
   ],
   "source": [
    "# vídeo\n",
    "\n",
    "# Poisson distribution --> Probability of some number of events occuring over a fixed period of time\n",
    "\n",
    "# Lambda = average number of events per time interval\n",
    "# it is also the expected value (peek of the distribution)\n",
    "\n",
    "# it's a discrete distribution\n",
    "\n",
    "from scipy.stats import poisson\n",
    "\n",
    "# if Lambda = 8, average number of adoptions per week, 8, what is the probability of getting 5 adoptions in a week?\n",
    "print(\"Probability of getting 5 adoptions in a week?: \", poisson.pmf(5, 8)) # probability mass function\n",
    "\n",
    "# Probability of number of adoptions per week is <= 5?\n",
    "print(\"Probability of number of adoptions per week is <= 5?: \", poisson.cdf(5, 8)) # cumulative distribution function\n",
    "\n",
    "# Probability of number of adoptions per week is > 5?\n",
    "print(\"Probability of number of adoptions per week is > 5?: \", 1 - poisson.cdf(5, 8)) # cumulative distribution function\n"
   ]
  },
  {
   "cell_type": "code",
   "execution_count": 67,
   "id": "96dd532b-3996-46d4-b139-eccce53497c2",
   "metadata": {},
   "outputs": [
    {
     "data": {
      "image/png": "[encoded data removed]",
      "text/plain": [
       "<Figure size 640x480 with 1 Axes>"
      ]
     },
     "metadata": {},
     "output_type": "display_data"
    }
   ],
   "source": [
    "# visually (meu)\n",
    "import seaborn as sns\n",
    "sns.histplot(poisson.rvs(2, size=1000), kde=True) # kernel density estimate line\n",
    "sns.histplot(poisson.rvs(8, size=1000), kde=True) # kernel density estimate line\n",
    "plt.show()"
   ]
  },
  {
   "cell_type": "code",
   "execution_count": 68,
   "id": "a05366df-e6a7-4997-bf81-7fe3a67d46df",
   "metadata": {},
   "outputs": [],
   "source": [
    "###"
   ]
  },
  {
   "cell_type": "code",
   "execution_count": 69,
   "id": "a55163a1-009f-4feb-8cd7-eccbf8e5c428",
   "metadata": {},
   "outputs": [
    {
     "name": "stdout",
     "output_type": "stream",
     "text": [
      "0.1562934518505317\n"
     ]
    }
   ],
   "source": [
    "# Import poisson from scipy.stats\n",
    "from scipy.stats import poisson\n",
    "\n",
    "# Probability of 5 responses (probability that Amir responds to 5 leads in a day, given that he responds to an average of 4)\n",
    "prob_5 = poisson.pmf(5, 4)\n",
    "print(prob_5)"
   ]
  },
  {
   "cell_type": "code",
   "execution_count": 70,
   "id": "41720a1c-f8c4-4b1d-af82-9679db394b71",
   "metadata": {},
   "outputs": [
    {
     "name": "stdout",
     "output_type": "stream",
     "text": [
      "0.17140068409793663\n"
     ]
    }
   ],
   "source": [
    "# Probability of 5 responses\n",
    "prob_coworker = poisson.pmf(5, 5.5)\n",
    "print(prob_coworker)"
   ]
  },
  {
   "cell_type": "code",
   "execution_count": 71,
   "id": "5f59de3f-16d7-41a7-8bd1-472b29d1577c",
   "metadata": {},
   "outputs": [
    {
     "name": "stdout",
     "output_type": "stream",
     "text": [
      "0.2381033055535443\n"
     ]
    }
   ],
   "source": [
    "# Probability of 2 or fewer responses (Amir)\n",
    "prob_2_or_less = poisson.cdf(2, 4)\n",
    "print(prob_2_or_less)"
   ]
  },
  {
   "cell_type": "code",
   "execution_count": 72,
   "id": "facbdf6a-c5ca-43c3-b1be-5ac958c3cf70",
   "metadata": {},
   "outputs": [
    {
     "name": "stdout",
     "output_type": "stream",
     "text": [
      "0.0028397661205137315\n"
     ]
    }
   ],
   "source": [
    "# Probability of > 10 responses (Amir)\n",
    "prob_over_10 = 1 - poisson.cdf(10, 4)\n",
    "print(prob_over_10)"
   ]
  },
  {
   "cell_type": "code",
   "execution_count": null,
   "id": "eee6fad4-7fd6-4960-aa8d-aa6d66533798",
   "metadata": {},
   "outputs": [],
   "source": []
  },
  {
   "cell_type": "markdown",
   "id": "4e68a7ee-b320-4f69-8dcf-63dbac0a1b24",
   "metadata": {},
   "source": [
    "## More probability distributions"
   ]
  },
  {
   "cell_type": "code",
   "execution_count": 73,
   "id": "2a469e21-9c38-4418-907a-5b3732d471a1",
   "metadata": {},
   "outputs": [
    {
     "name": "stdout",
     "output_type": "stream",
     "text": [
      "Probability of waiting < 1 minute for a request?:  0.3934693402873666\n",
      "Probability of waiting for more than 4 minutes?:  0.1353352832366127\n",
      "Probability of waiting between 1 and 4 minutes?:  0.4711953764760207\n"
     ]
    }
   ],
   "source": [
    "# vídeo\n",
    "\n",
    "# Exponential distribution\n",
    "\n",
    "# example: Probability of time between Poisson events\n",
    "# example: customer service requests. On avergae, 1 customer service ticket is created every 2 minutes\n",
    "\n",
    "from scipy.stats import expon\n",
    "\n",
    "# Probability of waiting < 1 minute for a request\n",
    "print(\"Probability of waiting < 1 minute for a request?: \", expon.cdf(1, scale = 1/0.5))\n",
    "\n",
    "# Probability of waiting for more than 4 minutes?\n",
    "print(\"Probability of waiting for more than 4 minutes?: \", 1 - expon.cdf(4, scale=1/0.5))\n",
    "\n",
    "# Probability of waiting between 1 and 4 minutes?\n",
    "print(\"Probability of waiting between 1 and 4 minutes?: \", expon.cdf(4, scale=2) - expon.cdf(1, scale=2))\n",
    "\n",
    "#######\n",
    "\n",
    "# (Student's) t-distribution\n",
    "\n",
    "# similar shape as the normal distribution, but with larger tails\n",
    "# it has an important parameter: degrees of freedom. The lower the degrees of freedon, the thicker the tails, higher std\n",
    "# à medida que graus de liberdade crescem, mais se aproxima da distribuição normal.\n",
    "\n",
    "# A distribuição t de Student é uma distribuição de probabilidade, publicada por William Sealy Gosset sob o \n",
    "# pseudónimo Student que não podia usar seu nome verdadeiro para publicar trabalhos enquanto trabalhasse para a \n",
    "# cervejaria Guinness.\n",
    "\n",
    "#######\n",
    "\n",
    "# Log-normal distribution\n",
    "\n",
    "# Variables whose logarithm is normally distributed!\n",
    "\n",
    "# exemplos:\n",
    "# - duração de jogos de xadrez\n",
    "# - pressão arterial em adultos\n",
    "# - número de hospitalizações num SARS outbreak\n"
   ]
  },
  {
   "cell_type": "code",
   "execution_count": 74,
   "id": "d2426559-74c2-461a-8e18-163fb5575e15",
   "metadata": {},
   "outputs": [],
   "source": [
    "###"
   ]
  },
  {
   "cell_type": "markdown",
   "id": "e96d44a2-5481-4693-b8f5-1bd0d62398ec",
   "metadata": {},
   "source": [
    "Modeling time between leads\n",
    "To further evaluate Amir's performance, **you want to know how much time it takes him to respond to a lead after he opens it**. \n",
    "\n",
    "***On average, he responds to 1 request every 2.5 hours***. In this exercise, you'll calculate probabilities of different amounts of time passing between Amir receiving a lead and sending a response."
   ]
  },
  {
   "cell_type": "code",
   "execution_count": 75,
   "id": "8192351a-1ae5-4f29-82f9-42ae934a3bd0",
   "metadata": {},
   "outputs": [
    {
     "data": {
      "text/html": [
       "<div>\n",
       "<style scoped>\n",
       "    .dataframe tbody tr th:only-of-type {\n",
       "        vertical-align: middle;\n",
       "    }\n",
       "\n",
       "    .dataframe tbody tr th {\n",
       "        vertical-align: top;\n",
       "    }\n",
       "\n",
       "    .dataframe thead th {\n",
       "        text-align: right;\n",
       "    }\n",
       "</style>\n",
       "<table border=\"1\" class=\"dataframe\">\n",
       "  <thead>\n",
       "    <tr style=\"text-align: right;\">\n",
       "      <th></th>\n",
       "      <th>product</th>\n",
       "      <th>client</th>\n",
       "      <th>status</th>\n",
       "      <th>amount</th>\n",
       "      <th>num_users</th>\n",
       "    </tr>\n",
       "  </thead>\n",
       "  <tbody>\n",
       "    <tr>\n",
       "      <th>1</th>\n",
       "      <td>Product F</td>\n",
       "      <td>Current</td>\n",
       "      <td>Won</td>\n",
       "      <td>7389.52</td>\n",
       "      <td>19</td>\n",
       "    </tr>\n",
       "    <tr>\n",
       "      <th>2</th>\n",
       "      <td>Product C</td>\n",
       "      <td>New</td>\n",
       "      <td>Won</td>\n",
       "      <td>4493.01</td>\n",
       "      <td>43</td>\n",
       "    </tr>\n",
       "  </tbody>\n",
       "</table>\n",
       "</div>"
      ],
      "text/plain": [
       "     product   client status   amount  num_users\n",
       "1  Product F  Current    Won  7389.52         19\n",
       "2  Product C      New    Won  4493.01         43"
      ]
     },
     "execution_count": 75,
     "metadata": {},
     "output_type": "execute_result"
    }
   ],
   "source": [
    "amir_deals.head(2)"
   ]
  },
  {
   "cell_type": "code",
   "execution_count": 76,
   "id": "6eadffc5-fd13-4bef-bdd6-461e5785dba2",
   "metadata": {},
   "outputs": [
    {
     "name": "stdout",
     "output_type": "stream",
     "text": [
      "0.3296799539643607\n"
     ]
    }
   ],
   "source": [
    "# Import expon from scipy.stats\n",
    "from scipy.stats import expon\n",
    "\n",
    "# Print probability response takes < 1 hour\n",
    "print(expon.cdf(1, scale=2.5))"
   ]
  },
  {
   "cell_type": "code",
   "execution_count": 77,
   "id": "b9d46abd-5d95-439a-9601-e216b0224b94",
   "metadata": {},
   "outputs": [
    {
     "name": "stdout",
     "output_type": "stream",
     "text": [
      "0.20189651799465536\n"
     ]
    }
   ],
   "source": [
    "# Print probability response takes > 4 hours\n",
    "print(1 - expon.cdf(4, scale=2.5))"
   ]
  },
  {
   "cell_type": "code",
   "execution_count": 78,
   "id": "4da47cc1-070f-48a9-bd0b-7d18c0504100",
   "metadata": {},
   "outputs": [
    {
     "name": "stdout",
     "output_type": "stream",
     "text": [
      "0.09929769391754684\n"
     ]
    }
   ],
   "source": [
    "# Print probability response takes 3-4 hours\n",
    "print(expon.cdf(4, scale=2.5) - expon.cdf(3, scale=2.5))"
   ]
  },
  {
   "cell_type": "markdown",
   "id": "5f50aeec-af83-4a1b-a36e-8f860e18bd84",
   "metadata": {},
   "source": [
    "The t-distribution\n",
    "Which statement is **not** true regarding the t-distribution?\n",
    "\n",
    "Answer: The t-distribution is skewed."
   ]
  },
  {
   "cell_type": "code",
   "execution_count": null,
   "id": "ef1e9626-cd40-4a8d-84fb-37ffb9749be0",
   "metadata": {},
   "outputs": [],
   "source": []
  },
  {
   "cell_type": "markdown",
   "id": "0c0d5102-776d-4b76-87e7-234e538525bb",
   "metadata": {},
   "source": [
    "# 4) Correlation and Experimental Design"
   ]
  },
  {
   "cell_type": "markdown",
   "id": "fe25a029-890b-415a-a419-ffe43bf87ada",
   "metadata": {},
   "source": [
    "## Correlation"
   ]
  },
  {
   "cell_type": "code",
   "execution_count": 79,
   "id": "0c288daf-0f6d-4e0c-86d7-c3b8c7fbad3b",
   "metadata": {},
   "outputs": [],
   "source": [
    "# vídeo\n",
    "\n",
    "# Correlation\n",
    "\n",
    "# Visualizing relationships\n",
    "import seaborn as sns\n",
    "\n",
    "# Pearson correlation, but there are others (not going to see here):\n",
    "# - Kendell's tau\n",
    "# Spearman's rho\n"
   ]
  },
  {
   "cell_type": "code",
   "execution_count": 80,
   "id": "ac4fca67-8acf-4a77-9e9f-faea76201363",
   "metadata": {},
   "outputs": [
    {
     "data": {
      "text/html": [
       "<div>\n",
       "<style scoped>\n",
       "    .dataframe tbody tr th:only-of-type {\n",
       "        vertical-align: middle;\n",
       "    }\n",
       "\n",
       "    .dataframe tbody tr th {\n",
       "        vertical-align: top;\n",
       "    }\n",
       "\n",
       "    .dataframe thead th {\n",
       "        text-align: right;\n",
       "    }\n",
       "</style>\n",
       "<table border=\"1\" class=\"dataframe\">\n",
       "  <thead>\n",
       "    <tr style=\"text-align: right;\">\n",
       "      <th></th>\n",
       "      <th>country</th>\n",
       "      <th>social_support</th>\n",
       "      <th>freedom</th>\n",
       "      <th>corruption</th>\n",
       "      <th>generosity</th>\n",
       "      <th>gdp_per_cap</th>\n",
       "      <th>life_exp</th>\n",
       "      <th>happiness_score</th>\n",
       "    </tr>\n",
       "  </thead>\n",
       "  <tbody>\n",
       "    <tr>\n",
       "      <th>1</th>\n",
       "      <td>Finland</td>\n",
       "      <td>2.0</td>\n",
       "      <td>5.0</td>\n",
       "      <td>4.0</td>\n",
       "      <td>47.0</td>\n",
       "      <td>42400</td>\n",
       "      <td>81.8</td>\n",
       "      <td>155</td>\n",
       "    </tr>\n",
       "    <tr>\n",
       "      <th>2</th>\n",
       "      <td>Denmark</td>\n",
       "      <td>4.0</td>\n",
       "      <td>6.0</td>\n",
       "      <td>3.0</td>\n",
       "      <td>22.0</td>\n",
       "      <td>48300</td>\n",
       "      <td>81.0</td>\n",
       "      <td>154</td>\n",
       "    </tr>\n",
       "    <tr>\n",
       "      <th>3</th>\n",
       "      <td>Norway</td>\n",
       "      <td>3.0</td>\n",
       "      <td>3.0</td>\n",
       "      <td>8.0</td>\n",
       "      <td>11.0</td>\n",
       "      <td>66300</td>\n",
       "      <td>82.6</td>\n",
       "      <td>153</td>\n",
       "    </tr>\n",
       "    <tr>\n",
       "      <th>4</th>\n",
       "      <td>Iceland</td>\n",
       "      <td>1.0</td>\n",
       "      <td>7.0</td>\n",
       "      <td>45.0</td>\n",
       "      <td>3.0</td>\n",
       "      <td>47900</td>\n",
       "      <td>83.0</td>\n",
       "      <td>152</td>\n",
       "    </tr>\n",
       "    <tr>\n",
       "      <th>5</th>\n",
       "      <td>Netherlands</td>\n",
       "      <td>15.0</td>\n",
       "      <td>19.0</td>\n",
       "      <td>12.0</td>\n",
       "      <td>7.0</td>\n",
       "      <td>50500</td>\n",
       "      <td>81.8</td>\n",
       "      <td>151</td>\n",
       "    </tr>\n",
       "  </tbody>\n",
       "</table>\n",
       "</div>"
      ],
      "text/plain": [
       "       country  social_support  freedom  corruption  generosity  gdp_per_cap  \\\n",
       "1      Finland             2.0      5.0         4.0        47.0        42400   \n",
       "2      Denmark             4.0      6.0         3.0        22.0        48300   \n",
       "3       Norway             3.0      3.0         8.0        11.0        66300   \n",
       "4      Iceland             1.0      7.0        45.0         3.0        47900   \n",
       "5  Netherlands            15.0     19.0        12.0         7.0        50500   \n",
       "\n",
       "   life_exp  happiness_score  \n",
       "1      81.8              155  \n",
       "2      81.0              154  \n",
       "3      82.6              153  \n",
       "4      83.0              152  \n",
       "5      81.8              151  "
      ]
     },
     "execution_count": 80,
     "metadata": {},
     "output_type": "execute_result"
    }
   ],
   "source": [
    "world_happiness.head()"
   ]
  },
  {
   "cell_type": "code",
   "execution_count": 81,
   "id": "afd2ac45-2e0f-4ca9-a93d-1e7c2a018992",
   "metadata": {},
   "outputs": [
    {
     "data": {
      "image/png": "[encoded data removed]",
      "text/plain": [
       "<Figure size 640x480 with 1 Axes>"
      ]
     },
     "metadata": {},
     "output_type": "display_data"
    }
   ],
   "source": [
    "# Create a scatterplot of happiness_score vs. life_exp and show\n",
    "sns.scatterplot(data=world_happiness, x='life_exp', y='happiness_score')\n",
    "plt.show()"
   ]
  },
  {
   "cell_type": "code",
   "execution_count": 82,
   "id": "78c8cd6b-71ac-4c3f-aa2b-1b2ab1fff8f5",
   "metadata": {},
   "outputs": [
    {
     "data": {
      "image/png": "[encoded data removed]",
      "text/plain": [
       "<Figure size 500x500 with 1 Axes>"
      ]
     },
     "metadata": {},
     "output_type": "display_data"
    }
   ],
   "source": [
    "# Create scatterplot of happiness_score vs life_exp with trendline\n",
    "sns.lmplot(data=world_happiness, x='life_exp', y='happiness_score', ci=None)\n",
    "plt.show()"
   ]
  },
  {
   "cell_type": "code",
   "execution_count": 83,
   "id": "5f9d2ffe-e7ac-405a-81d7-42adb767bb83",
   "metadata": {},
   "outputs": [
    {
     "name": "stdout",
     "output_type": "stream",
     "text": [
      "0.7802249053272062\n"
     ]
    }
   ],
   "source": [
    "# Correlation between life_exp and happiness_score\n",
    "cor = world_happiness[\"life_exp\"].corr(world_happiness[\"happiness_score\"])\n",
    "\n",
    "print(cor)"
   ]
  },
  {
   "cell_type": "code",
   "execution_count": null,
   "id": "d0ddd747-dc3b-4bdb-b0c8-a6a462657484",
   "metadata": {},
   "outputs": [],
   "source": []
  },
  {
   "cell_type": "markdown",
   "id": "0257d498-83b6-4feb-a7d1-afde0cced0aa",
   "metadata": {},
   "source": [
    "## Correlation caveats"
   ]
  },
  {
   "cell_type": "code",
   "execution_count": 84,
   "id": "4ebfa2a7-f45a-4e2a-9905-1068ff4870f4",
   "metadata": {},
   "outputs": [],
   "source": [
    "# vídeo\n",
    "\n",
    "# Caveats, example: Non-linear relationships (x^2 por exemplo indica correlação quase 0 quando claramente não é)\n",
    "\n",
    "# Correlation does not imply causation \n",
    "# - example: US Consumption of margarine per capita per year and rate of divorce per year in place X\n",
    "# - \"Spurious correlation\"\n",
    "\n",
    "# Confounding\n",
    "# Drinking coffee ---> (Hidden variable, highly associated: Smoking) ---> Lung cancer\n"
   ]
  },
  {
   "cell_type": "code",
   "execution_count": 85,
   "id": "23a99181-744d-4d68-a0ba-d07b3cc09d79",
   "metadata": {},
   "outputs": [
    {
     "data": {
      "text/html": [
       "<div>\n",
       "<style scoped>\n",
       "    .dataframe tbody tr th:only-of-type {\n",
       "        vertical-align: middle;\n",
       "    }\n",
       "\n",
       "    .dataframe tbody tr th {\n",
       "        vertical-align: top;\n",
       "    }\n",
       "\n",
       "    .dataframe thead th {\n",
       "        text-align: right;\n",
       "    }\n",
       "</style>\n",
       "<table border=\"1\" class=\"dataframe\">\n",
       "  <thead>\n",
       "    <tr style=\"text-align: right;\">\n",
       "      <th></th>\n",
       "      <th>country</th>\n",
       "      <th>social_support</th>\n",
       "      <th>freedom</th>\n",
       "      <th>corruption</th>\n",
       "      <th>generosity</th>\n",
       "      <th>gdp_per_cap</th>\n",
       "      <th>life_exp</th>\n",
       "      <th>happiness_score</th>\n",
       "    </tr>\n",
       "  </thead>\n",
       "  <tbody>\n",
       "    <tr>\n",
       "      <th>1</th>\n",
       "      <td>Finland</td>\n",
       "      <td>2.0</td>\n",
       "      <td>5.0</td>\n",
       "      <td>4.0</td>\n",
       "      <td>47.0</td>\n",
       "      <td>42400</td>\n",
       "      <td>81.8</td>\n",
       "      <td>155</td>\n",
       "    </tr>\n",
       "    <tr>\n",
       "      <th>2</th>\n",
       "      <td>Denmark</td>\n",
       "      <td>4.0</td>\n",
       "      <td>6.0</td>\n",
       "      <td>3.0</td>\n",
       "      <td>22.0</td>\n",
       "      <td>48300</td>\n",
       "      <td>81.0</td>\n",
       "      <td>154</td>\n",
       "    </tr>\n",
       "    <tr>\n",
       "      <th>3</th>\n",
       "      <td>Norway</td>\n",
       "      <td>3.0</td>\n",
       "      <td>3.0</td>\n",
       "      <td>8.0</td>\n",
       "      <td>11.0</td>\n",
       "      <td>66300</td>\n",
       "      <td>82.6</td>\n",
       "      <td>153</td>\n",
       "    </tr>\n",
       "    <tr>\n",
       "      <th>4</th>\n",
       "      <td>Iceland</td>\n",
       "      <td>1.0</td>\n",
       "      <td>7.0</td>\n",
       "      <td>45.0</td>\n",
       "      <td>3.0</td>\n",
       "      <td>47900</td>\n",
       "      <td>83.0</td>\n",
       "      <td>152</td>\n",
       "    </tr>\n",
       "    <tr>\n",
       "      <th>5</th>\n",
       "      <td>Netherlands</td>\n",
       "      <td>15.0</td>\n",
       "      <td>19.0</td>\n",
       "      <td>12.0</td>\n",
       "      <td>7.0</td>\n",
       "      <td>50500</td>\n",
       "      <td>81.8</td>\n",
       "      <td>151</td>\n",
       "    </tr>\n",
       "  </tbody>\n",
       "</table>\n",
       "</div>"
      ],
      "text/plain": [
       "       country  social_support  freedom  corruption  generosity  gdp_per_cap  \\\n",
       "1      Finland             2.0      5.0         4.0        47.0        42400   \n",
       "2      Denmark             4.0      6.0         3.0        22.0        48300   \n",
       "3       Norway             3.0      3.0         8.0        11.0        66300   \n",
       "4      Iceland             1.0      7.0        45.0         3.0        47900   \n",
       "5  Netherlands            15.0     19.0        12.0         7.0        50500   \n",
       "\n",
       "   life_exp  happiness_score  \n",
       "1      81.8              155  \n",
       "2      81.0              154  \n",
       "3      82.6              153  \n",
       "4      83.0              152  \n",
       "5      81.8              151  "
      ]
     },
     "execution_count": 85,
     "metadata": {},
     "output_type": "execute_result"
    }
   ],
   "source": [
    "world_happiness.head()"
   ]
  },
  {
   "cell_type": "code",
   "execution_count": 86,
   "id": "87755d93-f91e-4b7f-8806-26e277d9914a",
   "metadata": {},
   "outputs": [
    {
     "data": {
      "image/png": "[encoded data removed]",
      "text/plain": [
       "<Figure size 640x480 with 1 Axes>"
      ]
     },
     "metadata": {},
     "output_type": "display_data"
    }
   ],
   "source": [
    "# Scatterplot of gdp_per_cap and life_exp\n",
    "sns.scatterplot(data=world_happiness, x='gdp_per_cap', y='life_exp')\n",
    "plt.show()"
   ]
  },
  {
   "cell_type": "code",
   "execution_count": 87,
   "id": "d07f9315-d0cc-489f-8b95-14e5333d4a6e",
   "metadata": {},
   "outputs": [
    {
     "name": "stdout",
     "output_type": "stream",
     "text": [
      "0.7019547642148015\n"
     ]
    }
   ],
   "source": [
    "# Correlation between gdp_per_cap and life_exp\n",
    "cor = world_happiness[\"gdp_per_cap\"].corr(world_happiness[\"life_exp\"])\n",
    "print(cor)"
   ]
  },
  {
   "cell_type": "code",
   "execution_count": null,
   "id": "0339f3bf-f6cc-4b30-9697-3d69a1893761",
   "metadata": {},
   "outputs": [],
   "source": []
  },
  {
   "cell_type": "code",
   "execution_count": 88,
   "id": "efea7e0e-c8c2-410c-88ca-97b76e374f92",
   "metadata": {},
   "outputs": [
    {
     "data": {
      "image/png": "[encoded data removed]",
      "text/plain": [
       "<Figure size 640x480 with 1 Axes>"
      ]
     },
     "metadata": {},
     "output_type": "display_data"
    },
    {
     "name": "stdout",
     "output_type": "stream",
     "text": [
      "0.7279733012222976\n"
     ]
    }
   ],
   "source": [
    "# Scatterplot of happiness_score vs. gdp_per_cap\n",
    "sns.scatterplot(data=world_happiness, x='gdp_per_cap', y='happiness_score')\n",
    "plt.show()\n",
    "\n",
    "# Calculate correlation\n",
    "cor = world_happiness[\"happiness_score\"].corr(world_happiness[\"gdp_per_cap\"])\n",
    "print(cor)"
   ]
  },
  {
   "cell_type": "code",
   "execution_count": null,
   "id": "2df55a0a-d490-47c0-b887-fd695947a3df",
   "metadata": {},
   "outputs": [],
   "source": []
  },
  {
   "cell_type": "code",
   "execution_count": 89,
   "id": "4518235b-73e7-492d-baa5-b7d71448a732",
   "metadata": {},
   "outputs": [
    {
     "data": {
      "image/png": "[encoded data removed]",
      "text/plain": [
       "<Figure size 640x480 with 1 Axes>"
      ]
     },
     "metadata": {},
     "output_type": "display_data"
    },
    {
     "name": "stdout",
     "output_type": "stream",
     "text": [
      "0.8043146004918289\n"
     ]
    }
   ],
   "source": [
    "# Create log_gdp_per_cap column\n",
    "world_happiness['log_gdp_per_cap'] = np.log(world_happiness['gdp_per_cap'])\n",
    "\n",
    "# Scatterplot of happiness_score vs. log_gdp_per_cap\n",
    "sns.scatterplot(data=world_happiness, x='log_gdp_per_cap', y='happiness_score')\n",
    "plt.show()\n",
    "\n",
    "# Calculate correlation\n",
    "cor = world_happiness[\"happiness_score\"].corr(world_happiness[\"log_gdp_per_cap\"])\n",
    "print(cor)"
   ]
  },
  {
   "cell_type": "code",
   "execution_count": null,
   "id": "600b313f-acfb-46ce-af17-cd5424f22250",
   "metadata": {},
   "outputs": [],
   "source": []
  },
  {
   "cell_type": "code",
   "execution_count": 90,
   "id": "2388bb21-3f76-437b-8dc4-b12271131b21",
   "metadata": {},
   "outputs": [],
   "source": [
    "%%script false --no-raise-error\n",
    "\n",
    "# Does sugar improve happiness?\n",
    " # (no data on this available)\n",
    "\n",
    "# Scatterplot of grams_sugar_per_day and happiness_score\n",
    "sns.scatterplot(data=world_happiness, x='grams_sugar_per_day', y='happiness_score')\n",
    "plt.show()\n",
    "\n",
    "# Correlation between grams_sugar_per_day and happiness_score\n",
    "cor = world_happiness[\"happiness_score\"].corr(world_happiness[\"grams_sugar_per_day\"])\n",
    "print(cor) # 0.6939100021829633\n",
    "\n",
    "#########"
   ]
  },
  {
   "cell_type": "code",
   "execution_count": null,
   "id": "75249673-a397-49f4-bbca-14af45912032",
   "metadata": {},
   "outputs": [],
   "source": []
  },
  {
   "cell_type": "code",
   "execution_count": null,
   "id": "433d9d0e-e0a2-4c65-a108-45ca4b5cc6c4",
   "metadata": {},
   "outputs": [],
   "source": []
  },
  {
   "cell_type": "markdown",
   "id": "c6915c1b-3f0e-457f-8bd6-1fdee1e60bc4",
   "metadata": {},
   "source": [
    "## Design of experiments"
   ]
  },
  {
   "cell_type": "code",
   "execution_count": 91,
   "id": "c6bba014-57f6-43c0-9411-7d9501db762b",
   "metadata": {},
   "outputs": [],
   "source": [
    "# vídeo\n",
    "\n",
    "# Controlled experiments\n",
    "\n",
    "# treatment group vs control group\n",
    "# confounding or bias (eliminate as possible)\n",
    "# blind vs double blind\n",
    "\n",
    "\n",
    "# Observational studies\n",
    "\n",
    "\n",
    "# Longitudinal vs Cross-sectional studies\n",
    "\n",
    "\n"
   ]
  },
  {
   "cell_type": "code",
   "execution_count": null,
   "id": "11b97d4b-94ba-49bd-bfec-2722d0e3d707",
   "metadata": {},
   "outputs": [],
   "source": []
  },
  {
   "cell_type": "code",
   "execution_count": null,
   "id": "08ad5916-003c-4e48-a1a3-2447f8a98cb8",
   "metadata": {},
   "outputs": [],
   "source": []
  },
  {
   "cell_type": "code",
   "execution_count": null,
   "id": "c1b24007-3be7-4645-91c3-c86d530d79b5",
   "metadata": {},
   "outputs": [],
   "source": []
  },
  {
   "cell_type": "code",
   "execution_count": null,
   "id": "eb9727fa-5213-4621-819b-ae23e469cd38",
   "metadata": {},
   "outputs": [],
   "source": []
  },
  {
   "cell_type": "code",
   "execution_count": null,
   "id": "afb83779-2127-4344-b48a-45b00b370833",
   "metadata": {},
   "outputs": [],
   "source": []
  },
  {
   "cell_type": "code",
   "execution_count": null,
   "id": "d033ac9e-f06b-422c-8b88-e6674765868e",
   "metadata": {},
   "outputs": [],
   "source": []
  }
 ],
 "metadata": {
  "kernelspec": {
   "display_name": "Python 3 (ipykernel)",
   "language": "python",
   "name": "python3"
  },
  "language_info": {
   "codemirror_mode": {
    "name": "ipython",
    "version": 3
   },
   "file_extension": ".py",
   "mimetype": "text/x-python",
   "name": "python",
   "nbconvert_exporter": "python",
   "pygments_lexer": "ipython3",
   "version": "3.10.4"
  }
 },
 "nbformat": 4,
 "nbformat_minor": 5
}
